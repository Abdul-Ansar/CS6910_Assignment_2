{
  "cells": [
    {
      "cell_type": "markdown",
      "source": [
        "# Part A: Training from scratch"
      ],
      "metadata": {
        "id": "gL1GxsvV54Ap"
      }
    },
    {
      "cell_type": "markdown",
      "source": [
        "\n",
        "\n",
        "![CNN From Scrach](https://cdn.analyticsvidhya.com/wp-content/uploads/2018/12/Screenshot-from-2018-12-10-15-09-20.png)\n",
        "\n"
      ],
      "metadata": {
        "id": "5H3htF7J6F2P"
      }
    },
    {
      "cell_type": "markdown",
      "metadata": {
        "id": "K-_KnPpgtXz5"
      },
      "source": [
        "### Importing required libraries"
      ]
    },
    {
      "cell_type": "code",
      "execution_count": null,
      "metadata": {
        "id": "B0m8QFGEtXz-"
      },
      "outputs": [],
      "source": [
        "!pip install wandb"
      ]
    },
    {
      "cell_type": "code",
      "execution_count": null,
      "metadata": {
        "id": "lDzctINotX0B",
        "outputId": "51e066a8-2e81-4219-9a7e-dba698adf706"
      },
      "outputs": [
        {
          "name": "stderr",
          "output_type": "stream",
          "text": [
            "\u001b[34m\u001b[1mwandb\u001b[0m: Currently logged in as: \u001b[33mge23m018\u001b[0m. Use \u001b[1m`wandb login --relogin`\u001b[0m to force relogin\n",
            "\u001b[34m\u001b[1mwandb\u001b[0m: \u001b[33mWARNING\u001b[0m If you're specifying your api key in code, ensure this code is not shared publicly.\n",
            "\u001b[34m\u001b[1mwandb\u001b[0m: \u001b[33mWARNING\u001b[0m Consider setting the WANDB_API_KEY environment variable, or running `wandb login` from the command line.\n",
            "\u001b[34m\u001b[1mwandb\u001b[0m: Appending key for api.wandb.ai to your netrc file: /home/ge22m009/.netrc\n"
          ]
        },
        {
          "data": {
            "text/plain": [
              "True"
            ]
          },
          "execution_count": 2,
          "metadata": {},
          "output_type": "execute_result"
        }
      ],
      "source": [
        "import torch\n",
        "import torchvision\n",
        "from torchvision import datasets\n",
        "import torchvision.transforms as transforms\n",
        "from torchvision.datasets.utils import download_url\n",
        "from torch.utils.data import DataLoader, ConcatDataset, random_split\n",
        "import matplotlib.pyplot as plt\n",
        "import numpy as np\n",
        "import glob\n",
        "import os\n",
        "!pip install wandb\n",
        "import wandb\n",
        "os.environ[\"WANDB_NOTEBOOK_NAME\"] = \"PartA.ipynb\"\n",
        "wandb.login()\n",
        "wandb.login(key='13718865007c1068066166d683d0ce0cf87ec304')"
      ]
    },
    {
      "cell_type": "markdown",
      "metadata": {
        "id": "XE6J_CGPtX0C"
      },
      "source": [
        "## Function to find mean and standard deviation of DataLoader"
      ]
    },
    {
      "cell_type": "markdown",
      "source": [
        "**1. For the GeeksforGeeks article:**\n",
        "\n",
        "GeeksforGeeks. (n.d.). Computing the mean and std of a dataset in PyTorch. *GeeksforGeeks*. Retrieved from [https://www.geeksforgeeks.org/computing-the-mean-and-std-of-a-dataset-in-pytorch/](https://www.geeksforgeeks.org/computing-the-mean-and-std-of-a-dataset-in-pytorch/)\n",
        "\n",
        "**2. For the PyTorch discussion thread:**\n",
        "\n",
        "PyTorch Forums. (2018, November 20). Computing the mean and std of dataset. *PyTorch Discussion Forums*. Retrieved from [https://discuss.pytorch.org/t/computing-the-mean-and-std-of-dataset/34949/32](https://discuss.pytorch.org/t/computing-the-mean-and-std-of-dataset/34949/32)\n"
      ],
      "metadata": {
        "id": "6aInvbG24cmN"
      }
    },
    {
      "cell_type": "code",
      "execution_count": null,
      "metadata": {
        "execution": {
          "iopub.execute_input": "2023-04-10T16:45:11.729668Z",
          "iopub.status.busy": "2023-04-10T16:45:11.728977Z",
          "iopub.status.idle": "2023-04-10T16:45:11.737893Z",
          "shell.execute_reply": "2023-04-10T16:45:11.736809Z",
          "shell.execute_reply.started": "2023-04-10T16:45:11.729622Z"
        },
        "trusted": true,
        "id": "vBAI7AGftX0C"
      },
      "outputs": [],
      "source": [
        "def get_mean_and_std(dataLoader):\n",
        "    # Initialize variables to store mean and standard deviation\n",
        "    mean = 0\n",
        "    std = 0\n",
        "    # Initialize total image count\n",
        "    total_image_count = 0\n",
        "    # Loop through the data loader\n",
        "    for i, (images, labels) in enumerate(dataLoader):\n",
        "        # Get the batch size\n",
        "        batch_image_count = images.size(0)\n",
        "        # Reshape the images\n",
        "        images = images.view(batch_image_count, images.size(1), -1)\n",
        "        # Calculate mean and standard deviation along the specified dimensions\n",
        "        mean += images.mean(2).sum(0)\n",
        "        std += images.std(2).sum(0)\n",
        "        # Update total image count\n",
        "        total_image_count += batch_image_count\n",
        "    # Calculate mean and standard deviation across all images\n",
        "    mean /= total_image_count\n",
        "    std /= total_image_count\n",
        "    # Return mean and standard deviation\n",
        "    return mean, std\n"
      ]
    },
    {
      "cell_type": "markdown",
      "metadata": {
        "id": "nplZAkQotX0D"
      },
      "source": [
        "## Loading the iNatuaralist Dataset\n"
      ]
    },
    {
      "cell_type": "markdown",
      "source": [
        "### References for data transformations in PyTorch:\n",
        "\n",
        "1. **PyTorch Documentation**:\n",
        "   - Reference: [https://pytorch.org/docs/stable/torchvision/transforms.html](https://pytorch.org/docs/stable/torchvision/transforms.html)\n",
        "\n",
        "\n",
        "2. **PyTorch Forums**:\n",
        "   - Reference: [https://discuss.pytorch.org/t/composing-custom-transforms/6955](https://discuss.pytorch.org/t/composing-custom-transforms/6955)\n",
        "\n",
        "\n"
      ],
      "metadata": {
        "id": "_mah5SCs4xsB"
      }
    },
    {
      "cell_type": "code",
      "execution_count": null,
      "metadata": {
        "execution": {
          "iopub.execute_input": "2023-04-12T02:17:44.035151Z",
          "iopub.status.busy": "2023-04-12T02:17:44.034534Z",
          "iopub.status.idle": "2023-04-12T02:17:44.050383Z",
          "shell.execute_reply": "2023-04-12T02:17:44.048993Z",
          "shell.execute_reply.started": "2023-04-12T02:17:44.035106Z"
        },
        "trusted": true,
        "id": "1MxSzoHDtX0D"
      },
      "outputs": [],
      "source": [
        "def load_dataset(data_augmentation, train_path, test_path, train_batch_size, val_batch_size, test_batch_size):\n",
        "    \"\"\"\n",
        "    Function to load and preprocess datasets.\n",
        "\n",
        "    Args:\n",
        "    - data_augmentation (bool): Flag indicating whether to apply data augmentation.\n",
        "    - train_path (str): Path to the directory containing the training dataset.\n",
        "    - test_path (str): Path to the directory containing the test dataset.\n",
        "    - train_batch_size (int): Batch size for training DataLoader.\n",
        "    - val_batch_size (int): Batch size for validation DataLoader.\n",
        "    - test_batch_size (int): Batch size for test DataLoader.\n",
        "\n",
        "    Returns:\n",
        "    - train_Loader (DataLoader): DataLoader for the training dataset.\n",
        "    - val_Loader (DataLoader): DataLoader for the validation dataset.\n",
        "    - test_Loader (DataLoader): DataLoader for the test dataset.\n",
        "    \"\"\"\n",
        "    # Define transformation for training data\n",
        "    transformer1 = transforms.Compose([\n",
        "        transforms.Resize((256, 256)),  # Resize images to 256x256\n",
        "        transforms.ToTensor(),  # Convert images to PyTorch tensors\n",
        "        transforms.Normalize(mean=[0.4602, 0.4495, 0.3800], std=[0.2040, 0.1984, 0.1921])  # Normalize images\n",
        "    ])\n",
        "\n",
        "    # Load training dataset\n",
        "    train_Dataset = torchvision.datasets.ImageFolder(root=train_path, transform=transformer1)\n",
        "    # Split training dataset into train and validation sets\n",
        "    train_datasize = int(0.8 * len(train_Dataset))\n",
        "    train_Dataset, val_Dataset = random_split(train_Dataset, [train_datasize, len(train_Dataset) - train_datasize])\n",
        "\n",
        "    # Augment data if data_augmentation is True\n",
        "    if data_augmentation:\n",
        "        # Define data augmentation transformation\n",
        "        transformer2 = transforms.Compose([\n",
        "            transforms.Resize((256, 256)),  # Resize images to 256x256\n",
        "            transforms.RandomHorizontalFlip(0.5),  # Random horizontal flip with probability 0.5\n",
        "            transforms.RandomVerticalFlip(0.02),  # Random vertical flip with probability 0.02\n",
        "            transforms.RandomRotation(degrees=45),  # Random rotation by maximum 45 degrees\n",
        "            transforms.ToTensor(),  # Convert images to PyTorch tensors\n",
        "            transforms.Normalize(mean=[0.4602, 0.4495, 0.3800], std=[0.2040, 0.1984, 0.1921])  # Normalize images\n",
        "        ])\n",
        "        # Load augmented dataset\n",
        "        augmented_dataset = torchvision.datasets.ImageFolder(root=train_path, transform=transformer2)\n",
        "        # Split augmented dataset\n",
        "        augmented_dataset_size = int(0.2 * len(augmented_dataset))\n",
        "        augmented_dataset, _ = random_split(augmented_dataset, [augmented_dataset_size, len(augmented_dataset) - augmented_dataset_size])\n",
        "        # Concatenate original training dataset and augmented dataset\n",
        "        train_Dataset = ConcatDataset([train_Dataset, augmented_dataset])\n",
        "\n",
        "    # Create data loaders for training, validation, and test sets\n",
        "    train_Loader = DataLoader(\n",
        "        train_Dataset,\n",
        "        batch_size=train_batch_size,\n",
        "        shuffle=True)\n",
        "    test_Loader = DataLoader(\n",
        "        test_path,\n",
        "        batch_size=test_batch_size,\n",
        "        shuffle=True)\n",
        "    val_Loader = DataLoader(\n",
        "        val_Dataset,\n",
        "        batch_size=val_batch_size,\n",
        "        shuffle=True)\n",
        "\n",
        "    return train_Loader, val_Loader, test_Loader\n"
      ]
    },
    {
      "cell_type": "markdown",
      "metadata": {
        "id": "sjU5-I0AtX0E"
      },
      "source": [
        "#### Mean = [0.4602, 0.4495, 0.3800] , std = [0.2040, 0.1984, 0.1921] for images of size 256 x 256"
      ]
    },
    {
      "cell_type": "markdown",
      "metadata": {
        "id": "vcI74KfQtX0F"
      },
      "source": [
        "# Storing the Name of the Labels"
      ]
    },
    {
      "cell_type": "code",
      "execution_count": null,
      "metadata": {
        "execution": {
          "iopub.execute_input": "2023-04-10T10:31:52.222840Z",
          "iopub.status.busy": "2023-04-10T10:31:52.221872Z",
          "iopub.status.idle": "2023-04-10T10:31:52.245094Z",
          "shell.execute_reply": "2023-04-10T10:31:52.241772Z",
          "shell.execute_reply.started": "2023-04-10T10:31:52.222793Z"
        },
        "trusted": true,
        "id": "E0se9wfdtX0F"
      },
      "outputs": [],
      "source": [
        "def defineClasses(train_path):\n",
        "    classes = []\n",
        "    for root,dirs, files in os.walk(train_path):\n",
        "    #     for _file in files:\n",
        "    #         print(_file)\n",
        "        for _dir in dirs:\n",
        "            classes.append(_dir)\n",
        "    classes.sort()\n",
        "    return classes"
      ]
    },
    {
      "cell_type": "markdown",
      "metadata": {
        "id": "RFBryO3ftX0F"
      },
      "source": [
        "## Setting device to cuda if available\n"
      ]
    },
    {
      "cell_type": "code",
      "execution_count": null,
      "metadata": {
        "execution": {
          "iopub.execute_input": "2023-04-12T02:20:14.761302Z",
          "iopub.status.busy": "2023-04-12T02:20:14.760786Z",
          "iopub.status.idle": "2023-04-12T02:20:14.770587Z",
          "shell.execute_reply": "2023-04-12T02:20:14.769048Z",
          "shell.execute_reply.started": "2023-04-12T02:20:14.761253Z"
        },
        "trusted": true,
        "id": "bgO6N-qttX0G",
        "outputId": "7a945c3f-bc0b-478d-b860-cfc777a147b1"
      },
      "outputs": [
        {
          "data": {
            "text/plain": [
              "device(type='cuda')"
            ]
          },
          "execution_count": 6,
          "metadata": {},
          "output_type": "execute_result"
        }
      ],
      "source": [
        "# Check if CUDA is available, set device accordingly\n",
        "device = torch.device('cuda' if torch.cuda.is_available() else 'cpu')\n",
        "device"
      ]
    },
    {
      "cell_type": "markdown",
      "metadata": {
        "id": "WoeCQIsKtX0H"
      },
      "source": [
        "# Create a CNN Model"
      ]
    },
    {
      "cell_type": "markdown",
      "source": [
        "![CNN From Scrach](https://docs.ecognition.com/Resources/Images/ECogUsr/UG_CNN_scheme.png)\n"
      ],
      "metadata": {
        "id": "zvzt1RfX5nW3"
      }
    },
    {
      "cell_type": "code",
      "execution_count": null,
      "metadata": {
        "execution": {
          "iopub.execute_input": "2023-04-12T02:20:19.072979Z",
          "iopub.status.busy": "2023-04-12T02:20:19.072484Z",
          "iopub.status.idle": "2023-04-12T02:20:19.109260Z",
          "shell.execute_reply": "2023-04-12T02:20:19.107590Z",
          "shell.execute_reply.started": "2023-04-12T02:20:19.072935Z"
        },
        "trusted": true,
        "id": "bamTr2EttX0H"
      },
      "outputs": [],
      "source": [
        "class create_lenet(torch.nn.Module):\n",
        "    def __init__(self, num_classes, Kernel_size, num_filters,\n",
        "                 activation_func, filter_factor, is_data_augment, dropout_factor):\n",
        "        super(create_lenet, self).__init__()\n",
        "\n",
        "        # Initialize activation functions\n",
        "        self.actfunc1 = None\n",
        "        self.actfunc2 = None\n",
        "        self.actfunc3 = None\n",
        "        self.actfunc4 = None\n",
        "        self.actfunc5 = None\n",
        "\n",
        "        # Define convolutional layers\n",
        "        self.conv1 = torch.nn.Conv2d(in_channels=3, out_channels=num_filters, kernel_size=Kernel_size)\n",
        "        self.conv2 = torch.nn.Conv2d(in_channels=num_filters, out_channels=int(num_filters * filter_factor), kernel_size=Kernel_size)\n",
        "        self.conv3 = torch.nn.Conv2d(in_channels=int(num_filters * filter_factor), out_channels=int(num_filters * filter_factor ** 2), kernel_size=Kernel_size)\n",
        "        self.conv4 = torch.nn.Conv2d(in_channels=int(num_filters * filter_factor ** 2), out_channels=int(num_filters * filter_factor ** 3), kernel_size=Kernel_size)\n",
        "        self.conv5 = torch.nn.Conv2d(in_channels=int(num_filters * filter_factor ** 3), out_channels=int(num_filters * filter_factor ** 4), kernel_size=Kernel_size)\n",
        "\n",
        "        # Calculate size after convolution and pooling operations\n",
        "        self.size = (256 - Kernel_size) // 2 ** 5\n",
        "\n",
        "        # Define maxpooling layers\n",
        "        self.maxpool1 = torch.nn.MaxPool2d(kernel_size=Kernel_size, stride=2)\n",
        "        self.maxpool2 = torch.nn.MaxPool2d(kernel_size=Kernel_size, stride=2)\n",
        "        self.maxpool3 = torch.nn.MaxPool2d(kernel_size=Kernel_size, stride=2)\n",
        "        self.maxpool4 = torch.nn.MaxPool2d(kernel_size=Kernel_size, stride=2)\n",
        "        self.maxpool5 = torch.nn.MaxPool2d(kernel_size=Kernel_size, stride=2)\n",
        "\n",
        "        # Set activation functions based on input argument\n",
        "        if activation_func == 'ReLU':\n",
        "            self.actfunc1 = torch.nn.ReLU()\n",
        "            self.actfunc2 = torch.nn.ReLU()\n",
        "            self.actfunc3 = torch.nn.ReLU()\n",
        "            self.actfunc4 = torch.nn.ReLU()\n",
        "            self.actfunc5 = torch.nn.ReLU()\n",
        "        elif activation_func == 'GELU':\n",
        "            self.actfunc1 = torch.nn.GELU()\n",
        "            self.actfunc2 = torch.nn.GELU()\n",
        "            self.actfunc3 = torch.nn.GELU()\n",
        "            self.actfunc4 = torch.nn.GELU()\n",
        "            self.actfunc5 = torch.nn.GELU()\n",
        "        elif activation_func == 'SiLU':\n",
        "            self.actfunc1 = torch.nn.SiLU()\n",
        "            self.actfunc2 = torch.nn.SiLU()\n",
        "            self.actfunc3 = torch.nn.SiLU()\n",
        "            self.actfunc4 = torch.nn.SiLU()\n",
        "            self.actfunc5 = torch.nn.SiLU()\n",
        "        elif activation_func == 'Mish':\n",
        "            self.actfunc1 = torch.nn.Mish()\n",
        "            self.actfunc2 = torch.nn.Mish()\n",
        "            self.actfunc3 = torch.nn.Mish()\n",
        "            self.actfunc4 = torch.nn.Mish()\n",
        "            self.actfunc5 = torch.nn.Mish()\n",
        "        else:\n",
        "            # Default activation function is ReLU\n",
        "            self.actfunc1 = torch.nn.ReLU()\n",
        "            self.actfunc2 = torch.nn.ReLU()\n",
        "            self.actfunc3 = torch.nn.ReLU()\n",
        "            self.actfunc4 = torch.nn.ReLU()\n",
        "            self.actfunc5 = torch.nn.ReLU()\n",
        "\n",
        "        # Define dropout layers\n",
        "        self.dropp1 = torch.nn.Dropout(dropout_factor)\n",
        "        self.dropp2 = torch.nn.Dropout(dropout_factor)\n",
        "\n",
        "        # Define fully connected layers\n",
        "        self.fc1 = torch.nn.Linear(in_features=self.size ** 2 * int(num_filters * filter_factor ** 4), out_features=self.size ** 2 * int(num_filters * filter_factor ** 4))\n",
        "        self.fc2 = torch.nn.Linear(in_features=self.size ** 2 * int(num_filters * filter_factor ** 4), out_features=num_classes)\n",
        "\n",
        "        # LogSoftmax for output\n",
        "        self.logSoftmax = torch.nn.LogSoftmax(dim=1)\n",
        "\n",
        "    def forward(self, x):\n",
        "        # Forward pass through convolutional layers and activation functions\n",
        "        x = self.conv1(x)\n",
        "        x = self.actfunc1(x)\n",
        "        x = self.maxpool1(x)\n",
        "\n",
        "        x = self.conv2(x)\n",
        "        x = self.actfunc2(x)\n",
        "        x = self.maxpool2(x)\n",
        "\n",
        "        x = self.conv3(x)\n",
        "        x = self.actfunc3(x)\n",
        "        x = self.maxpool3(x)\n",
        "\n",
        "        x = self.conv4(x)\n",
        "        x = self.actfunc4(x)\n",
        "        x = self.maxpool4(x)\n",
        "\n",
        "        x = self.conv5(x)\n",
        "        x = self.actfunc5(x)\n",
        "        x = self.maxpool5(x)\n",
        "\n",
        "        # Reshape for fully connected layers\n",
        "        x = x.view(-1, self.size ** 2 * int(num_filters * filter_factor ** 4))\n",
        "\n",
        "        # Forward pass through fully connected layers and dropout layers\n",
        "        x = self.fc1(x)\n",
        "        x = self.dropp1(x)\n",
        "        x = self.fc2(x)\n",
        "        x = self.dropp2(x)\n",
        "\n",
        "        # Output\n",
        "        output = self.logSoftmax(x)\n",
        "        return output\n"
      ]
    },
    {
      "cell_type": "markdown",
      "metadata": {
        "id": "AvPodAPMtX0I"
      },
      "source": [
        "# Create CNN Model"
      ]
    },
    {
      "cell_type": "markdown",
      "metadata": {
        "id": "VQpxECqEtX0I"
      },
      "source": [
        "### Counting the size of train and test dataset"
      ]
    },
    {
      "cell_type": "code",
      "execution_count": null,
      "metadata": {
        "execution": {
          "iopub.execute_input": "2023-04-12T02:20:28.093254Z",
          "iopub.status.busy": "2023-04-12T02:20:28.091716Z",
          "iopub.status.idle": "2023-04-12T02:20:28.102519Z",
          "shell.execute_reply": "2023-04-12T02:20:28.100651Z",
          "shell.execute_reply.started": "2023-04-12T02:20:28.093186Z"
        },
        "trusted": true,
        "id": "4NgQwyVPtX0J"
      },
      "outputs": [],
      "source": [
        "def get_train_test_count(train_pat, test_pat):\n",
        "    train_count = len(glob.glob(train_path+'/**/*.jpg'))\n",
        "    test_count = len(glob.glob(test_path+'/**/*.jpg'))\n",
        "    print(\"Training dataset count : \", train_count)\n",
        "    print(\"Validation dataset count\", test_count)\n",
        "    return train_count, test_count"
      ]
    },
    {
      "cell_type": "markdown",
      "metadata": {
        "id": "k6iuELlRtX0J"
      },
      "source": [
        "# Training the model"
      ]
    },
    {
      "cell_type": "code",
      "execution_count": null,
      "metadata": {
        "execution": {
          "iopub.execute_input": "2023-04-12T02:20:30.917814Z",
          "iopub.status.busy": "2023-04-12T02:20:30.916354Z",
          "iopub.status.idle": "2023-04-12T02:20:30.932378Z",
          "shell.execute_reply": "2023-04-12T02:20:30.930713Z",
          "shell.execute_reply.started": "2023-04-12T02:20:30.917735Z"
        },
        "trusted": true,
        "id": "9GOYNFOqtX0J"
      },
      "outputs": [],
      "source": [
        "def train(cnn, learning_rate, epochs, train_Loader, val_Loader, train_count, test_count, is_wandb_log):\n",
        "    \"\"\"\n",
        "    Function to train a convolutional neural network.\n",
        "\n",
        "    Args:\n",
        "    - cnn (torch.nn.Module): The convolutional neural network model.\n",
        "    - learning_rate (float): Learning rate for optimization.\n",
        "    - epochs (int): Number of epochs for training.\n",
        "    - train_Loader (DataLoader): DataLoader for training dataset.\n",
        "    - val_Loader (DataLoader): DataLoader for validation dataset.\n",
        "    - train_count (int): Total number of samples in the training dataset.\n",
        "    - test_count (int): Total number of samples in the validation dataset.\n",
        "    - is_wandb_log (bool): Flag indicating whether to log metrics using Weights & Biases.\n",
        "\n",
        "    Returns:\n",
        "    None\n",
        "    \"\"\"\n",
        "    # Define loss function and optimizer\n",
        "    loss_function = torch.nn.CrossEntropyLoss()\n",
        "    optimizer = torch.optim.Adam(params=cnn.parameters(), lr=learning_rate, weight_decay=1e-4)\n",
        "\n",
        "    # Iterate over epochs\n",
        "    for epoch in range(epochs):\n",
        "        # Initialize training accuracy and loss for each epoch\n",
        "        train_accuracy = 0\n",
        "        train_loss = 0\n",
        "        cnn.train()  # Set the model to training mode\n",
        "        # Iterate over batches in the training DataLoader\n",
        "        for i, (images, labels) in enumerate(train_Loader):\n",
        "            # Move images and labels to device (GPU if available)\n",
        "            images, labels = images.to(device), labels.to(device)\n",
        "            # Zero the gradients\n",
        "            optimizer.zero_grad()\n",
        "            # Forward propagation\n",
        "            y_pred = cnn(images)\n",
        "            # Calculate loss\n",
        "            loss = loss_function(y_pred, labels)\n",
        "            # Backward propagation\n",
        "            loss.backward()\n",
        "            # Update weights\n",
        "            optimizer.step()\n",
        "            # Accumulate training loss\n",
        "            train_loss += loss.item()\n",
        "            # Calculate training accuracy\n",
        "            _, prediction = torch.max(y_pred.data, 1)\n",
        "            train_accuracy += int(torch.sum(prediction == labels.data))\n",
        "\n",
        "        # Compute average training accuracy and loss for the epoch\n",
        "        train_accuracy /= train_count\n",
        "        train_loss /= train_count\n",
        "        # Print training accuracy and loss for the epoch\n",
        "        print(f\"Epochs : {epoch + 1} Train Accuracy : {train_accuracy} Train Loss {train_loss}\")\n",
        "\n",
        "        # Initialize validation accuracy and loss for each epoch\n",
        "        val_accuracy = 0\n",
        "        val_loss = 0\n",
        "        # Disable gradient computation for validation\n",
        "        with torch.no_grad():\n",
        "            cnn.eval()  # Set the model to evaluation mode\n",
        "            # Iterate over batches in the validation DataLoader\n",
        "            for i, (images, labels) in enumerate(val_Loader):\n",
        "                # Move images and labels to device (GPU if available)\n",
        "                images, labels = images.to(device), labels.to(device)\n",
        "                # Forward propagation\n",
        "                y_pred = cnn(images)\n",
        "                # Calculate loss\n",
        "                loss = loss_function(y_pred, labels)\n",
        "                # Accumulate validation loss\n",
        "                val_loss += loss.item()\n",
        "                # Calculate validation accuracy\n",
        "                _, predicted = torch.max(y_pred.data, 1)\n",
        "                val_accuracy += int(torch.sum(predicted == labels.data))\n",
        "\n",
        "            # Compute average validation accuracy and loss for the epoch\n",
        "            val_accuracy /= test_count\n",
        "            val_loss /= test_count\n",
        "\n",
        "            # Print validation accuracy and loss for the epoch\n",
        "            print(f\"Epochs : {epoch + 1} Validation Accuracy : {val_accuracy} Validation Loss {val_loss}\")\n",
        "            # Log metrics using Weights & Biases if enabled\n",
        "            if is_wandb_log:\n",
        "                wandb.log({\"train_accuracy\": train_accuracy, \"train_loss\": train_loss, \"val_accuracy\": val_accuracy,\n",
        "                           \"val_loss\": val_loss})\n"
      ]
    },
    {
      "cell_type": "markdown",
      "metadata": {
        "id": "_-HIfwZptX0K"
      },
      "source": [
        "## Function to get the Test Accuracy & Test Loss"
      ]
    },
    {
      "cell_type": "code",
      "execution_count": null,
      "metadata": {
        "execution": {
          "iopub.execute_input": "2023-04-12T02:20:35.251024Z",
          "iopub.status.busy": "2023-04-12T02:20:35.250557Z",
          "iopub.status.idle": "2023-04-12T02:20:35.264313Z",
          "shell.execute_reply": "2023-04-12T02:20:35.262607Z",
          "shell.execute_reply.started": "2023-04-12T02:20:35.250984Z"
        },
        "trusted": true,
        "id": "AWd4nk8KtX0L"
      },
      "outputs": [],
      "source": [
        "def test(cnn, num_classes, test_path, test_batch_size , num_filters, kernel_size,\n",
        "         activation_func, filter_factor, learning_rate, epochs, dropout_factor):\n",
        "    \"\"\"\n",
        "    Function to test the trained CNN model on the test dataset.\n",
        "\n",
        "    Args:\n",
        "    - cnn (torch.nn.Module): The trained convolutional neural network model.\n",
        "    - num_classes (int): Number of classes in the dataset.\n",
        "    - test_path (str): Path to the test dataset.\n",
        "    - test_batch_size (int): Batch size for testing.\n",
        "    - num_filters (int): Number of filters in the convolutional layers.\n",
        "    - kernel_size (int): Size of the convolutional kernel.\n",
        "    - activation_func (str): Activation function to be used in the model.\n",
        "    - filter_factor (float): Factor to determine the number of filters in subsequent layers.\n",
        "    - learning_rate (float): Learning rate for optimization.\n",
        "    - epochs (int): Number of epochs for testing.\n",
        "    - dropout_factor (float): Dropout factor for regularization.\n",
        "\n",
        "    Returns:\n",
        "    None\n",
        "    \"\"\"\n",
        "    # Define transformation for test data\n",
        "    transformer = transforms.Compose([\n",
        "        transforms.Resize((256, 256)),\n",
        "        transforms.ToTensor()\n",
        "    ])\n",
        "\n",
        "    # Load test dataset\n",
        "    test_Dataset = torchvision.datasets.ImageFolder(root=test_path, transform=transformer)\n",
        "    # Create DataLoader for test dataset\n",
        "    test_Loader = DataLoader(\n",
        "        test_Dataset,\n",
        "        batch_size=test_batch_size,\n",
        "        shuffle=True)\n",
        "    # Count the number of test samples\n",
        "    test_count = len(glob.glob(test_path+'/**/*.jpg'))\n",
        "    print('Testing the Model...')\n",
        "    # Define loss function and optimizer\n",
        "    loss_function = torch.nn.CrossEntropyLoss()\n",
        "    optimizer = torch.optim.Adam(params=cnn.parameters(), lr=learning_rate)\n",
        "\n",
        "    # Iterate over epochs\n",
        "    for epoch in range(epochs):\n",
        "        test_accuracy = 0\n",
        "        test_loss = 0\n",
        "        # Disable gradient computation for validation\n",
        "        with torch.no_grad():\n",
        "            cnn.eval()  # Set the model to evaluation mode\n",
        "            # Iterate over batches in the test DataLoader\n",
        "            for i, (images, labels) in enumerate(test_Loader):\n",
        "                # Move images and labels to device (GPU if available)\n",
        "                images, labels = images.to(device), labels.to(device)\n",
        "                # Forward propagation\n",
        "                y_pred = cnn(images)\n",
        "                # Calculate loss\n",
        "                loss = loss_function(y_pred, labels)\n",
        "                # Accumulate test loss\n",
        "                test_loss += loss.item()\n",
        "                # Calculate test accuracy\n",
        "                _, predicted = torch.max(y_pred.data, 1)\n",
        "                test_accuracy += int(torch.sum(predicted == labels.data))\n",
        "\n",
        "            # Compute average test accuracy and loss for the epoch\n",
        "            test_accuracy /= test_count\n",
        "            test_loss /= test_count\n",
        "\n",
        "            # Print test accuracy and loss for the epoch\n",
        "            print(f\"Epochs : {epoch + 1} Test Accuracy : {test_accuracy} Test Loss {test_loss}\")\n"
      ]
    },
    {
      "cell_type": "code",
      "execution_count": null,
      "metadata": {
        "execution": {
          "iopub.execute_input": "2023-04-12T02:20:38.737035Z",
          "iopub.status.busy": "2023-04-12T02:20:38.736524Z",
          "iopub.status.idle": "2023-04-12T02:20:38.747479Z",
          "shell.execute_reply": "2023-04-12T02:20:38.746394Z",
          "shell.execute_reply.started": "2023-04-12T02:20:38.736990Z"
        },
        "trusted": true,
        "id": "XLxx1GZAtX0L"
      },
      "outputs": [],
      "source": [
        "def main(num_classes, kernel_size,  train_path, test_path, train_batch_size, val_batch_size, test_batch_size, num_filters,\n",
        "         activation_func, filter_factor, is_data_augment, learning_rate, epochs, is_wandb_log, dropout_factor):\n",
        "    print(\"train_path\", train_path)\n",
        "    print(\"test_path\", test_path)\n",
        "    train_Loader, val_Loader, test_Loader = load_dataset(is_data_augment, train_path, test_path, train_batch_size, val_batch_size, test_batch_size)\n",
        "    cnn = create_lenet(num_classes, kernel_size, num_filters, activation_func, filter_factor, is_data_augment, dropout_factor)\n",
        "    cnn = cnn.to(device)\n",
        "    train_count, test_count = get_train_test_count(train_path, test_path)\n",
        "    print(\"Training the Model...\")\n",
        "    train(cnn, learning_rate, epochs, train_Loader, val_Loader, train_count, test_count, is_wandb_log)\n",
        "    print(\"Training Finished !!\")\n",
        "    return cnn\n",
        "\n"
      ]
    },
    {
      "cell_type": "markdown",
      "metadata": {
        "id": "tno4pCVLtX0M"
      },
      "source": [
        "## Running Sweep"
      ]
    },
    {
      "cell_type": "code",
      "execution_count": null,
      "metadata": {
        "execution": {
          "iopub.execute_input": "2023-04-12T02:20:41.851459Z",
          "iopub.status.busy": "2023-04-12T02:20:41.850174Z",
          "iopub.status.idle": "2023-04-12T02:20:42.757011Z",
          "shell.execute_reply": "2023-04-12T02:20:42.755248Z",
          "shell.execute_reply.started": "2023-04-12T02:20:41.851389Z"
        },
        "trusted": true,
        "id": "4WYAkQZotX0N"
      },
      "outputs": [],
      "source": [
        "import wandb\n",
        "train_path = '/home/ge22m009/inaturalist_12K/train/'\n",
        "test_path = '/home/ge22m009/inaturalist_12K/val/'\n",
        "train_batch_size = 64\n",
        "test_batch_size = 16\n",
        "val_batch_size = 16\n",
        "num_classes = 10\n",
        "kernel_size = 3\n",
        "is_wandb_log = True\n",
        "is_data_augment=True\n"
      ]
    },
    {
      "cell_type": "code",
      "execution_count": null,
      "metadata": {
        "execution": {
          "iopub.execute_input": "2023-04-12T02:20:45.209255Z",
          "iopub.status.busy": "2023-04-12T02:20:45.208656Z",
          "iopub.status.idle": "2023-04-12T02:20:45.222580Z",
          "shell.execute_reply": "2023-04-12T02:20:45.220946Z",
          "shell.execute_reply.started": "2023-04-12T02:20:45.209204Z"
        },
        "trusted": true,
        "id": "Hylj8ywFtX0N"
      },
      "outputs": [],
      "source": [
        "def run_sweep():\n",
        "\n",
        "    default_params =dict(\n",
        "        num_filters = 32,\n",
        "        activation_func = 'ReLU',\n",
        "        filter_factor = 2,\n",
        "        learning_rate = 0.001,\n",
        "        epochs = 3,\n",
        "        dropout_factor = 0,\n",
        "    )\n",
        "\n",
        "    run = wandb.init(config=default_params, project='dl_ge23m18')\n",
        "\n",
        "    config = wandb.config\n",
        "    num_filters = config.num_filters\n",
        "    activation_func = config.activation_func\n",
        "    filter_factor = config.filter_factor\n",
        "    learning_rate = config.learning_rate\n",
        "    epochs = config.epochs\n",
        "    dropout_factor = config.dropout_factor\n",
        "\n",
        "    run.name = 'ac_' + activation_func + '_nf_' + str(num_filters) + '_ff_'+ str(filter_factor)+'_df_'+str(dropout_factor)\n",
        "    main(num_classes, kernel_size,  train_path, test_path, train_batch_size, val_batch_size, test_batch_size, num_filters,\n",
        "         activation_func, filter_factor, is_data_augment, learning_rate, epochs, is_wandb_log, dropout_factor)\n",
        "\n"
      ]
    },
    {
      "cell_type": "code",
      "execution_count": null,
      "metadata": {
        "execution": {
          "iopub.execute_input": "2023-04-11T16:27:34.194076Z",
          "iopub.status.busy": "2023-04-11T16:27:34.193616Z",
          "iopub.status.idle": "2023-04-11T16:27:45.881063Z",
          "shell.execute_reply": "2023-04-11T16:27:45.879733Z",
          "shell.execute_reply.started": "2023-04-11T16:27:34.194033Z"
        },
        "trusted": true,
        "id": "wJF5G_JftX0O",
        "outputId": "16fa5458-56af-4681-d019-6edc05f0f74d"
      },
      "outputs": [
        {
          "name": "stdout",
          "output_type": "stream",
          "text": [
            "Create sweep with ID: m9wnq4zl\n",
            "Sweep URL: https://wandb.ai/ge23m018/dl_ge23m18/sweeps/m9wnq4zl\n"
          ]
        }
      ],
      "source": [
        "#Set up a sweep config\n",
        "sweep_config = {\n",
        "    'metric': {\n",
        "        'goal': 'maximize',\n",
        "        'name': 'val_accuracy'\n",
        "        },\n",
        "    \"method\": \"bayes\",\n",
        "    \"project\": \"dl_ge23m18\",\n",
        "    \"parameters\": {\n",
        "        \"num_filters\": {\n",
        "            \"values\": [32, 64]\n",
        "        },\n",
        "        \"filter_factor\": {\n",
        "            \"values\": [0.5]\n",
        "        },\n",
        "        \"epochs\": {\n",
        "            \"values\": [5, 10]\n",
        "        },\n",
        "        \"activation_func\":\n",
        "        {\n",
        "            \"values\" : [\"ReLU\", \"GELU\", \"SiLU\", \"Mish\"]\n",
        "        },\n",
        "        \"dropout_factor\":\n",
        "        {\n",
        "            \"values\": [0 , 0.3, 0.4]\n",
        "        },\n",
        "    }\n",
        "}\n",
        "\n",
        "# creating the sweep\n",
        "sweep_id = wandb.sweep(sweep_config, project=\"dl_ge23m18\")"
      ]
    },
    {
      "cell_type": "code",
      "execution_count": null,
      "metadata": {
        "execution": {
          "iopub.execute_input": "2023-04-11T16:27:45.883580Z",
          "iopub.status.busy": "2023-04-11T16:27:45.883232Z"
        },
        "trusted": true,
        "colab": {
          "referenced_widgets": [
            "5fc7f56dc8e3438aa3b7a4e3f6353d97",
            "59234b3fc92440b1976eb3bd37e5a949",
            "e98183e1edda440182f2928d4bfad13a",
            "2448c057bc2e4923be64596abe9ec1fb",
            "9e6a6bc4734a4d448dff3d07e63ddbae",
            "79f0f17aa612485a9491506afd00952b",
            "b7c09f70fd1e4a9e9ec3e95ecf7b47a0",
            "e0fd4899d1e4448f8cd832caddd05adf",
            "2a4ff7b5c74c415785deced895f469d7",
            "c6757302f355437ab43eba741897c7c4",
            "2ecfed6e8bf24ee693a2d0a78370c440",
            "246cb892f761452dbee36ac021c552fe",
            "f755239d1a2f465b80c667cecee6b754",
            "604e5b1726a544de831ddd1590e35e3e",
            "757828c3880e41df82f1d5156140cc12",
            "4cfbf1e3db43429784f60f0a1164f524",
            "fc64994801bd422f89d3c548e8f919f4",
            "cc12830b07644b18a9442f4f52d69348",
            "a782fb5dbdae42829fe406cbc0f5365c",
            "2f2ba7456a4a47fd9e0e4d6f97f0abe9",
            "731d225730bb4925ba0dcc08619a104e"
          ]
        },
        "id": "yEtDzxGHtX0O",
        "outputId": "4d620b43-4a9c-4475-b431-5c9b9d31261d"
      },
      "outputs": [
        {
          "name": "stderr",
          "output_type": "stream",
          "text": [
            "\u001b[34m\u001b[1mwandb\u001b[0m: Agent Starting Run: b3rjda62 with config:\n",
            "\u001b[34m\u001b[1mwandb\u001b[0m: \tactivation_func: GELU\n",
            "\u001b[34m\u001b[1mwandb\u001b[0m: \tdropout_factor: 0.4\n",
            "\u001b[34m\u001b[1mwandb\u001b[0m: \tepochs: 5\n",
            "\u001b[34m\u001b[1mwandb\u001b[0m: \tfilter_factor: 0.5\n",
            "\u001b[34m\u001b[1mwandb\u001b[0m: \tnum_filters: 32\n",
            "\u001b[34m\u001b[1mwandb\u001b[0m: \u001b[33mWARNING\u001b[0m Ignored wandb.init() arg project when running a sweep.\n"
          ]
        },
        {
          "data": {
            "text/html": [
              "Tracking run with wandb version 0.16.6"
            ],
            "text/plain": [
              "<IPython.core.display.HTML object>"
            ]
          },
          "metadata": {},
          "output_type": "display_data"
        },
        {
          "data": {
            "text/html": [
              "Run data is saved locally in <code>/home/ge22m009/Abdul/wandb/run-20240409_163650-b3rjda62</code>"
            ],
            "text/plain": [
              "<IPython.core.display.HTML object>"
            ]
          },
          "metadata": {},
          "output_type": "display_data"
        },
        {
          "data": {
            "text/html": [
              "Syncing run <strong><a href='https://wandb.ai/ge23m018/dl_ge23m18/runs/b3rjda62' target=\"_blank\">polished-sweep-1</a></strong> to <a href='https://wandb.ai/ge23m018/dl_ge23m18' target=\"_blank\">Weights & Biases</a> (<a href='https://wandb.me/run' target=\"_blank\">docs</a>)<br/>Sweep page: <a href='https://wandb.ai/ge23m018/dl_ge23m18/sweeps/m9wnq4zl' target=\"_blank\">https://wandb.ai/ge23m018/dl_ge23m18/sweeps/m9wnq4zl</a>"
            ],
            "text/plain": [
              "<IPython.core.display.HTML object>"
            ]
          },
          "metadata": {},
          "output_type": "display_data"
        },
        {
          "data": {
            "text/html": [
              " View project at <a href='https://wandb.ai/ge23m018/dl_ge23m18' target=\"_blank\">https://wandb.ai/ge23m018/dl_ge23m18</a>"
            ],
            "text/plain": [
              "<IPython.core.display.HTML object>"
            ]
          },
          "metadata": {},
          "output_type": "display_data"
        },
        {
          "data": {
            "text/html": [
              " View sweep at <a href='https://wandb.ai/ge23m018/dl_ge23m18/sweeps/m9wnq4zl' target=\"_blank\">https://wandb.ai/ge23m018/dl_ge23m18/sweeps/m9wnq4zl</a>"
            ],
            "text/plain": [
              "<IPython.core.display.HTML object>"
            ]
          },
          "metadata": {},
          "output_type": "display_data"
        },
        {
          "data": {
            "text/html": [
              " View run at <a href='https://wandb.ai/ge23m018/dl_ge23m18/runs/b3rjda62' target=\"_blank\">https://wandb.ai/ge23m018/dl_ge23m18/runs/b3rjda62</a>"
            ],
            "text/plain": [
              "<IPython.core.display.HTML object>"
            ]
          },
          "metadata": {},
          "output_type": "display_data"
        },
        {
          "name": "stdout",
          "output_type": "stream",
          "text": [
            "train_path /home/ge22m009/inaturalist_12K/train/\n",
            "test_path /home/ge22m009/inaturalist_12K/val/\n",
            "Training dataset count :  9999\n",
            "Validation dataset count 2000\n",
            "Training the Model...\n",
            "Epochs : 1 Train Accuracy : 0.11751175117511752 Train Loss 0.03606993356386725\n",
            "Epochs : 1 Validation Accuracy : 0.16 Validation Loss 0.14013563656806946\n",
            "Epochs : 2 Train Accuracy : 0.16051605160516053 Train Loss 0.03517289516484455\n",
            "Epochs : 2 Validation Accuracy : 0.212 Validation Loss 0.13597732031345366\n",
            "Epochs : 3 Train Accuracy : 0.17551755175517553 Train Loss 0.03474460385873182\n",
            "Epochs : 3 Validation Accuracy : 0.2175 Validation Loss 0.13562490910291672\n",
            "Epochs : 4 Train Accuracy : 0.1858185818581858 Train Loss 0.034535030243766106\n",
            "Epochs : 4 Validation Accuracy : 0.218 Validation Loss 0.13485996156930924\n",
            "Epochs : 5 Train Accuracy : 0.18351835183518353 Train Loss 0.03447690018654728\n",
            "Epochs : 5 Validation Accuracy : 0.229 Validation Loss 0.13458968657255171\n",
            "Training Finished !!\n"
          ]
        },
        {
          "data": {
            "application/vnd.jupyter.widget-view+json": {
              "model_id": "5fc7f56dc8e3438aa3b7a4e3f6353d97",
              "version_major": 2,
              "version_minor": 0
            },
            "text/plain": [
              "VBox(children=(Label(value='0.002 MB of 0.002 MB uploaded\\r'), FloatProgress(value=1.0, max=1.0)))"
            ]
          },
          "metadata": {},
          "output_type": "display_data"
        },
        {
          "data": {
            "text/html": [
              "<style>\n",
              "    table.wandb td:nth-child(1) { padding: 0 10px; text-align: left ; width: auto;} td:nth-child(2) {text-align: left ; width: 100%}\n",
              "    .wandb-row { display: flex; flex-direction: row; flex-wrap: wrap; justify-content: flex-start; width: 100% }\n",
              "    .wandb-col { display: flex; flex-direction: column; flex-basis: 100%; flex: 1; padding: 10px; }\n",
              "    </style>\n",
              "<div class=\"wandb-row\"><div class=\"wandb-col\"><h3>Run history:</h3><br/><table class=\"wandb\"><tr><td>train_accuracy</td><td>▁▅▇██</td></tr><tr><td>train_loss</td><td>█▄▂▁▁</td></tr><tr><td>val_accuracy</td><td>▁▆▇▇█</td></tr><tr><td>val_error</td><td>█▃▂▁▁</td></tr></table><br/></div><div class=\"wandb-col\"><h3>Run summary:</h3><br/><table class=\"wandb\"><tr><td>train_accuracy</td><td>0.18352</td></tr><tr><td>train_loss</td><td>0.03448</td></tr><tr><td>val_accuracy</td><td>0.229</td></tr><tr><td>val_error</td><td>0.13459</td></tr></table><br/></div></div>"
            ],
            "text/plain": [
              "<IPython.core.display.HTML object>"
            ]
          },
          "metadata": {},
          "output_type": "display_data"
        },
        {
          "data": {
            "text/html": [
              " View run <strong style=\"color:#cdcd00\">polished-sweep-1</strong> at: <a href='https://wandb.ai/ge23m018/dl_ge23m18/runs/b3rjda62' target=\"_blank\">https://wandb.ai/ge23m018/dl_ge23m18/runs/b3rjda62</a><br/> View project at: <a href='https://wandb.ai/ge23m018/dl_ge23m18' target=\"_blank\">https://wandb.ai/ge23m018/dl_ge23m18</a><br/>Synced 6 W&B file(s), 0 media file(s), 0 artifact file(s) and 0 other file(s)"
            ],
            "text/plain": [
              "<IPython.core.display.HTML object>"
            ]
          },
          "metadata": {},
          "output_type": "display_data"
        },
        {
          "data": {
            "text/html": [
              "Find logs at: <code>./wandb/run-20240409_163650-b3rjda62/logs</code>"
            ],
            "text/plain": [
              "<IPython.core.display.HTML object>"
            ]
          },
          "metadata": {},
          "output_type": "display_data"
        },
        {
          "name": "stderr",
          "output_type": "stream",
          "text": [
            "\u001b[34m\u001b[1mwandb\u001b[0m: Agent Starting Run: pyug4ak7 with config:\n",
            "\u001b[34m\u001b[1mwandb\u001b[0m: \tactivation_func: ReLU\n",
            "\u001b[34m\u001b[1mwandb\u001b[0m: \tdropout_factor: 0\n",
            "\u001b[34m\u001b[1mwandb\u001b[0m: \tepochs: 10\n",
            "\u001b[34m\u001b[1mwandb\u001b[0m: \tfilter_factor: 0.5\n",
            "\u001b[34m\u001b[1mwandb\u001b[0m: \tnum_filters: 32\n",
            "\u001b[34m\u001b[1mwandb\u001b[0m: \u001b[33mWARNING\u001b[0m Ignored wandb.init() arg project when running a sweep.\n"
          ]
        },
        {
          "data": {
            "text/html": [
              "Tracking run with wandb version 0.16.6"
            ],
            "text/plain": [
              "<IPython.core.display.HTML object>"
            ]
          },
          "metadata": {},
          "output_type": "display_data"
        },
        {
          "data": {
            "text/html": [
              "Run data is saved locally in <code>/home/ge22m009/Abdul/wandb/run-20240409_164607-pyug4ak7</code>"
            ],
            "text/plain": [
              "<IPython.core.display.HTML object>"
            ]
          },
          "metadata": {},
          "output_type": "display_data"
        },
        {
          "data": {
            "text/html": [
              "Syncing run <strong><a href='https://wandb.ai/ge23m018/dl_ge23m18/runs/pyug4ak7' target=\"_blank\">robust-sweep-2</a></strong> to <a href='https://wandb.ai/ge23m018/dl_ge23m18' target=\"_blank\">Weights & Biases</a> (<a href='https://wandb.me/run' target=\"_blank\">docs</a>)<br/>Sweep page: <a href='https://wandb.ai/ge23m018/dl_ge23m18/sweeps/m9wnq4zl' target=\"_blank\">https://wandb.ai/ge23m018/dl_ge23m18/sweeps/m9wnq4zl</a>"
            ],
            "text/plain": [
              "<IPython.core.display.HTML object>"
            ]
          },
          "metadata": {},
          "output_type": "display_data"
        },
        {
          "data": {
            "text/html": [
              " View project at <a href='https://wandb.ai/ge23m018/dl_ge23m18' target=\"_blank\">https://wandb.ai/ge23m018/dl_ge23m18</a>"
            ],
            "text/plain": [
              "<IPython.core.display.HTML object>"
            ]
          },
          "metadata": {},
          "output_type": "display_data"
        },
        {
          "data": {
            "text/html": [
              " View sweep at <a href='https://wandb.ai/ge23m018/dl_ge23m18/sweeps/m9wnq4zl' target=\"_blank\">https://wandb.ai/ge23m018/dl_ge23m18/sweeps/m9wnq4zl</a>"
            ],
            "text/plain": [
              "<IPython.core.display.HTML object>"
            ]
          },
          "metadata": {},
          "output_type": "display_data"
        },
        {
          "data": {
            "text/html": [
              " View run at <a href='https://wandb.ai/ge23m018/dl_ge23m18/runs/pyug4ak7' target=\"_blank\">https://wandb.ai/ge23m018/dl_ge23m18/runs/pyug4ak7</a>"
            ],
            "text/plain": [
              "<IPython.core.display.HTML object>"
            ]
          },
          "metadata": {},
          "output_type": "display_data"
        },
        {
          "name": "stdout",
          "output_type": "stream",
          "text": [
            "train_path /home/ge22m009/inaturalist_12K/train/\n",
            "test_path /home/ge22m009/inaturalist_12K/val/\n",
            "Training dataset count :  9999\n",
            "Validation dataset count 2000\n",
            "Training the Model...\n",
            "Epochs : 1 Train Accuracy : 0.1542154215421542 Train Loss 0.035326327952352424\n",
            "Epochs : 1 Validation Accuracy : 0.1725 Validation Loss 0.13719529336690903\n",
            "Epochs : 2 Train Accuracy : 0.17941794179417941 Train Loss 0.034527491469277846\n",
            "Epochs : 2 Validation Accuracy : 0.19 Validation Loss 0.13605467510223387\n",
            "Epochs : 3 Train Accuracy : 0.20952095209520952 Train Loss 0.03400065620156071\n",
            "Epochs : 3 Validation Accuracy : 0.2105 Validation Loss 0.13395568805932997\n",
            "Epochs : 4 Train Accuracy : 0.22372237223722372 Train Loss 0.03324726901420153\n",
            "Epochs : 4 Validation Accuracy : 0.2225 Validation Loss 0.13318588489294053\n",
            "Epochs : 5 Train Accuracy : 0.24332433243324333 Train Loss 0.03279165554456752\n",
            "Epochs : 5 Validation Accuracy : 0.222 Validation Loss 0.1321647279858589\n",
            "Epochs : 6 Train Accuracy : 0.2532253225322532 Train Loss 0.03244482822353357\n",
            "Epochs : 6 Validation Accuracy : 0.2435 Validation Loss 0.12959008491039276\n",
            "Epochs : 7 Train Accuracy : 0.26202620262026205 Train Loss 0.03219663643791671\n",
            "Epochs : 7 Validation Accuracy : 0.2525 Validation Loss 0.12804608327150344\n",
            "Epochs : 8 Train Accuracy : 0.26452645264526453 Train Loss 0.031982571557231255\n",
            "Epochs : 8 Validation Accuracy : 0.2405 Validation Loss 0.12897894275188446\n",
            "Epochs : 9 Train Accuracy : 0.26632663266326634 Train Loss 0.03193420984230228\n",
            "Epochs : 9 Validation Accuracy : 0.2525 Validation Loss 0.1275872242450714\n",
            "Epochs : 10 Train Accuracy : 0.27202720272027203 Train Loss 0.03160339209398921\n",
            "Epochs : 10 Validation Accuracy : 0.267 Validation Loss 0.12633218330144882\n",
            "Training Finished !!\n"
          ]
        },
        {
          "data": {
            "application/vnd.jupyter.widget-view+json": {
              "model_id": "59234b3fc92440b1976eb3bd37e5a949",
              "version_major": 2,
              "version_minor": 0
            },
            "text/plain": [
              "VBox(children=(Label(value='0.002 MB of 0.002 MB uploaded\\r'), FloatProgress(value=1.0, max=1.0)))"
            ]
          },
          "metadata": {},
          "output_type": "display_data"
        },
        {
          "data": {
            "text/html": [
              "<style>\n",
              "    table.wandb td:nth-child(1) { padding: 0 10px; text-align: left ; width: auto;} td:nth-child(2) {text-align: left ; width: 100%}\n",
              "    .wandb-row { display: flex; flex-direction: row; flex-wrap: wrap; justify-content: flex-start; width: 100% }\n",
              "    .wandb-col { display: flex; flex-direction: column; flex-basis: 100%; flex: 1; padding: 10px; }\n",
              "    </style>\n",
              "<div class=\"wandb-row\"><div class=\"wandb-col\"><h3>Run history:</h3><br/><table class=\"wandb\"><tr><td>train_accuracy</td><td>▁▂▄▅▆▇▇███</td></tr><tr><td>train_loss</td><td>█▆▆▄▃▃▂▂▂▁</td></tr><tr><td>val_accuracy</td><td>▁▂▄▅▅▆▇▆▇█</td></tr><tr><td>val_error</td><td>█▇▆▅▅▃▂▃▂▁</td></tr></table><br/></div><div class=\"wandb-col\"><h3>Run summary:</h3><br/><table class=\"wandb\"><tr><td>train_accuracy</td><td>0.27203</td></tr><tr><td>train_loss</td><td>0.0316</td></tr><tr><td>val_accuracy</td><td>0.267</td></tr><tr><td>val_error</td><td>0.12633</td></tr></table><br/></div></div>"
            ],
            "text/plain": [
              "<IPython.core.display.HTML object>"
            ]
          },
          "metadata": {},
          "output_type": "display_data"
        },
        {
          "data": {
            "text/html": [
              " View run <strong style=\"color:#cdcd00\">robust-sweep-2</strong> at: <a href='https://wandb.ai/ge23m018/dl_ge23m18/runs/pyug4ak7' target=\"_blank\">https://wandb.ai/ge23m018/dl_ge23m18/runs/pyug4ak7</a><br/> View project at: <a href='https://wandb.ai/ge23m018/dl_ge23m18' target=\"_blank\">https://wandb.ai/ge23m018/dl_ge23m18</a><br/>Synced 6 W&B file(s), 0 media file(s), 0 artifact file(s) and 0 other file(s)"
            ],
            "text/plain": [
              "<IPython.core.display.HTML object>"
            ]
          },
          "metadata": {},
          "output_type": "display_data"
        },
        {
          "data": {
            "text/html": [
              "Find logs at: <code>./wandb/run-20240409_164607-pyug4ak7/logs</code>"
            ],
            "text/plain": [
              "<IPython.core.display.HTML object>"
            ]
          },
          "metadata": {},
          "output_type": "display_data"
        },
        {
          "name": "stderr",
          "output_type": "stream",
          "text": [
            "\u001b[34m\u001b[1mwandb\u001b[0m: Agent Starting Run: kpnfx3m2 with config:\n",
            "\u001b[34m\u001b[1mwandb\u001b[0m: \tactivation_func: Mish\n",
            "\u001b[34m\u001b[1mwandb\u001b[0m: \tdropout_factor: 0\n",
            "\u001b[34m\u001b[1mwandb\u001b[0m: \tepochs: 5\n",
            "\u001b[34m\u001b[1mwandb\u001b[0m: \tfilter_factor: 0.5\n",
            "\u001b[34m\u001b[1mwandb\u001b[0m: \tnum_filters: 64\n",
            "\u001b[34m\u001b[1mwandb\u001b[0m: \u001b[33mWARNING\u001b[0m Ignored wandb.init() arg project when running a sweep.\n"
          ]
        },
        {
          "data": {
            "text/html": [
              "Tracking run with wandb version 0.16.6"
            ],
            "text/plain": [
              "<IPython.core.display.HTML object>"
            ]
          },
          "metadata": {},
          "output_type": "display_data"
        },
        {
          "data": {
            "text/html": [
              "Run data is saved locally in <code>/home/ge22m009/Abdul/wandb/run-20240409_170405-kpnfx3m2</code>"
            ],
            "text/plain": [
              "<IPython.core.display.HTML object>"
            ]
          },
          "metadata": {},
          "output_type": "display_data"
        },
        {
          "data": {
            "text/html": [
              "Syncing run <strong><a href='https://wandb.ai/ge23m018/dl_ge23m18/runs/kpnfx3m2' target=\"_blank\">giddy-sweep-3</a></strong> to <a href='https://wandb.ai/ge23m018/dl_ge23m18' target=\"_blank\">Weights & Biases</a> (<a href='https://wandb.me/run' target=\"_blank\">docs</a>)<br/>Sweep page: <a href='https://wandb.ai/ge23m018/dl_ge23m18/sweeps/m9wnq4zl' target=\"_blank\">https://wandb.ai/ge23m018/dl_ge23m18/sweeps/m9wnq4zl</a>"
            ],
            "text/plain": [
              "<IPython.core.display.HTML object>"
            ]
          },
          "metadata": {},
          "output_type": "display_data"
        },
        {
          "data": {
            "text/html": [
              " View project at <a href='https://wandb.ai/ge23m018/dl_ge23m18' target=\"_blank\">https://wandb.ai/ge23m018/dl_ge23m18</a>"
            ],
            "text/plain": [
              "<IPython.core.display.HTML object>"
            ]
          },
          "metadata": {},
          "output_type": "display_data"
        },
        {
          "data": {
            "text/html": [
              " View sweep at <a href='https://wandb.ai/ge23m018/dl_ge23m18/sweeps/m9wnq4zl' target=\"_blank\">https://wandb.ai/ge23m018/dl_ge23m18/sweeps/m9wnq4zl</a>"
            ],
            "text/plain": [
              "<IPython.core.display.HTML object>"
            ]
          },
          "metadata": {},
          "output_type": "display_data"
        },
        {
          "data": {
            "text/html": [
              " View run at <a href='https://wandb.ai/ge23m018/dl_ge23m18/runs/kpnfx3m2' target=\"_blank\">https://wandb.ai/ge23m018/dl_ge23m18/runs/kpnfx3m2</a>"
            ],
            "text/plain": [
              "<IPython.core.display.HTML object>"
            ]
          },
          "metadata": {},
          "output_type": "display_data"
        },
        {
          "name": "stdout",
          "output_type": "stream",
          "text": [
            "train_path /home/ge22m009/inaturalist_12K/train/\n",
            "test_path /home/ge22m009/inaturalist_12K/val/\n",
            "Training dataset count :  9999\n",
            "Validation dataset count 2000\n",
            "Training the Model...\n",
            "Epochs : 1 Train Accuracy : 0.1791179117911791 Train Loss 0.03454686633490696\n",
            "Epochs : 1 Validation Accuracy : 0.2215 Validation Loss 0.13067611336708068\n",
            "Epochs : 2 Train Accuracy : 0.24272427242724273 Train Loss 0.03257888954321687\n",
            "Epochs : 2 Validation Accuracy : 0.2485 Validation Loss 0.1265913542509079\n",
            "Epochs : 3 Train Accuracy : 0.27742774277427745 Train Loss 0.031709012180247874\n",
            "Epochs : 3 Validation Accuracy : 0.2905 Validation Loss 0.12231629425287247\n",
            "Epochs : 4 Train Accuracy : 0.30203020302030203 Train Loss 0.030702300018782092\n",
            "Epochs : 4 Validation Accuracy : 0.3005 Validation Loss 0.123151207447052\n",
            "Epochs : 5 Train Accuracy : 0.30763076307630766 Train Loss 0.030393201764291115\n",
            "Epochs : 5 Validation Accuracy : 0.315 Validation Loss 0.12038128054141999\n",
            "Training Finished !!\n"
          ]
        },
        {
          "data": {
            "application/vnd.jupyter.widget-view+json": {
              "model_id": "e98183e1edda440182f2928d4bfad13a",
              "version_major": 2,
              "version_minor": 0
            },
            "text/plain": [
              "VBox(children=(Label(value='0.002 MB of 0.002 MB uploaded\\r'), FloatProgress(value=1.0, max=1.0)))"
            ]
          },
          "metadata": {},
          "output_type": "display_data"
        },
        {
          "data": {
            "text/html": [
              "<style>\n",
              "    table.wandb td:nth-child(1) { padding: 0 10px; text-align: left ; width: auto;} td:nth-child(2) {text-align: left ; width: 100%}\n",
              "    .wandb-row { display: flex; flex-direction: row; flex-wrap: wrap; justify-content: flex-start; width: 100% }\n",
              "    .wandb-col { display: flex; flex-direction: column; flex-basis: 100%; flex: 1; padding: 10px; }\n",
              "    </style>\n",
              "<div class=\"wandb-row\"><div class=\"wandb-col\"><h3>Run history:</h3><br/><table class=\"wandb\"><tr><td>train_accuracy</td><td>▁▄▆██</td></tr><tr><td>train_loss</td><td>█▅▃▂▁</td></tr><tr><td>val_accuracy</td><td>▁▃▆▇█</td></tr><tr><td>val_error</td><td>█▅▂▃▁</td></tr></table><br/></div><div class=\"wandb-col\"><h3>Run summary:</h3><br/><table class=\"wandb\"><tr><td>train_accuracy</td><td>0.30763</td></tr><tr><td>train_loss</td><td>0.03039</td></tr><tr><td>val_accuracy</td><td>0.315</td></tr><tr><td>val_error</td><td>0.12038</td></tr></table><br/></div></div>"
            ],
            "text/plain": [
              "<IPython.core.display.HTML object>"
            ]
          },
          "metadata": {},
          "output_type": "display_data"
        },
        {
          "data": {
            "text/html": [
              " View run <strong style=\"color:#cdcd00\">giddy-sweep-3</strong> at: <a href='https://wandb.ai/ge23m018/dl_ge23m18/runs/kpnfx3m2' target=\"_blank\">https://wandb.ai/ge23m018/dl_ge23m18/runs/kpnfx3m2</a><br/> View project at: <a href='https://wandb.ai/ge23m018/dl_ge23m18' target=\"_blank\">https://wandb.ai/ge23m018/dl_ge23m18</a><br/>Synced 6 W&B file(s), 0 media file(s), 0 artifact file(s) and 0 other file(s)"
            ],
            "text/plain": [
              "<IPython.core.display.HTML object>"
            ]
          },
          "metadata": {},
          "output_type": "display_data"
        },
        {
          "data": {
            "text/html": [
              "Find logs at: <code>./wandb/run-20240409_170405-kpnfx3m2/logs</code>"
            ],
            "text/plain": [
              "<IPython.core.display.HTML object>"
            ]
          },
          "metadata": {},
          "output_type": "display_data"
        },
        {
          "name": "stderr",
          "output_type": "stream",
          "text": [
            "\u001b[34m\u001b[1mwandb\u001b[0m: Agent Starting Run: z72hg6ml with config:\n",
            "\u001b[34m\u001b[1mwandb\u001b[0m: \tactivation_func: SiLU\n",
            "\u001b[34m\u001b[1mwandb\u001b[0m: \tdropout_factor: 0.4\n",
            "\u001b[34m\u001b[1mwandb\u001b[0m: \tepochs: 10\n",
            "\u001b[34m\u001b[1mwandb\u001b[0m: \tfilter_factor: 0.5\n",
            "\u001b[34m\u001b[1mwandb\u001b[0m: \tnum_filters: 32\n",
            "\u001b[34m\u001b[1mwandb\u001b[0m: \u001b[33mWARNING\u001b[0m Ignored wandb.init() arg project when running a sweep.\n"
          ]
        },
        {
          "data": {
            "text/html": [
              "Tracking run with wandb version 0.16.6"
            ],
            "text/plain": [
              "<IPython.core.display.HTML object>"
            ]
          },
          "metadata": {},
          "output_type": "display_data"
        },
        {
          "data": {
            "text/html": [
              "Run data is saved locally in <code>/home/ge22m009/Abdul/wandb/run-20240409_171338-z72hg6ml</code>"
            ],
            "text/plain": [
              "<IPython.core.display.HTML object>"
            ]
          },
          "metadata": {},
          "output_type": "display_data"
        },
        {
          "data": {
            "text/html": [
              "Syncing run <strong><a href='https://wandb.ai/ge23m018/dl_ge23m18/runs/z72hg6ml' target=\"_blank\">peachy-sweep-4</a></strong> to <a href='https://wandb.ai/ge23m018/dl_ge23m18' target=\"_blank\">Weights & Biases</a> (<a href='https://wandb.me/run' target=\"_blank\">docs</a>)<br/>Sweep page: <a href='https://wandb.ai/ge23m018/dl_ge23m18/sweeps/m9wnq4zl' target=\"_blank\">https://wandb.ai/ge23m018/dl_ge23m18/sweeps/m9wnq4zl</a>"
            ],
            "text/plain": [
              "<IPython.core.display.HTML object>"
            ]
          },
          "metadata": {},
          "output_type": "display_data"
        },
        {
          "data": {
            "text/html": [
              " View project at <a href='https://wandb.ai/ge23m018/dl_ge23m18' target=\"_blank\">https://wandb.ai/ge23m018/dl_ge23m18</a>"
            ],
            "text/plain": [
              "<IPython.core.display.HTML object>"
            ]
          },
          "metadata": {},
          "output_type": "display_data"
        },
        {
          "data": {
            "text/html": [
              " View sweep at <a href='https://wandb.ai/ge23m018/dl_ge23m18/sweeps/m9wnq4zl' target=\"_blank\">https://wandb.ai/ge23m018/dl_ge23m18/sweeps/m9wnq4zl</a>"
            ],
            "text/plain": [
              "<IPython.core.display.HTML object>"
            ]
          },
          "metadata": {},
          "output_type": "display_data"
        },
        {
          "data": {
            "text/html": [
              " View run at <a href='https://wandb.ai/ge23m018/dl_ge23m18/runs/z72hg6ml' target=\"_blank\">https://wandb.ai/ge23m018/dl_ge23m18/runs/z72hg6ml</a>"
            ],
            "text/plain": [
              "<IPython.core.display.HTML object>"
            ]
          },
          "metadata": {},
          "output_type": "display_data"
        },
        {
          "name": "stdout",
          "output_type": "stream",
          "text": [
            "train_path /home/ge22m009/inaturalist_12K/train/\n",
            "test_path /home/ge22m009/inaturalist_12K/val/\n",
            "Training dataset count :  9999\n",
            "Validation dataset count 2000\n",
            "Training the Model...\n",
            "Epochs : 1 Train Accuracy : 0.12371237123712371 Train Loss 0.03590977174041867\n",
            "Epochs : 1 Validation Accuracy : 0.1435 Validation Loss 0.14022156453132628\n",
            "Epochs : 2 Train Accuracy : 0.14521452145214522 Train Loss 0.035490001269681104\n",
            "Epochs : 2 Validation Accuracy : 0.181 Validation Loss 0.13868348801136016\n",
            "Epochs : 3 Train Accuracy : 0.17261726172617262 Train Loss 0.03505530194266222\n",
            "Epochs : 3 Validation Accuracy : 0.2105 Validation Loss 0.13719030094146728\n",
            "Epochs : 4 Train Accuracy : 0.18311831183118313 Train Loss 0.03457114654536819\n",
            "Epochs : 4 Validation Accuracy : 0.2205 Validation Loss 0.13584387171268464\n",
            "Epochs : 5 Train Accuracy : 0.18871887188718872 Train Loss 0.034239149723115925\n",
            "Epochs : 5 Validation Accuracy : 0.2305 Validation Loss 0.13358184951543808\n",
            "Epochs : 6 Train Accuracy : 0.20142014201420141 Train Loss 0.03413320022864942\n",
            "Epochs : 6 Validation Accuracy : 0.2465 Validation Loss 0.13187350088357924\n",
            "Epochs : 7 Train Accuracy : 0.20482048204820483 Train Loss 0.033901624589434194\n",
            "Epochs : 7 Validation Accuracy : 0.2405 Validation Loss 0.13109490501880647\n",
            "Epochs : 8 Train Accuracy : 0.20902090209020902 Train Loss 0.03374776457271429\n",
            "Epochs : 8 Validation Accuracy : 0.262 Validation Loss 0.1305130832195282\n",
            "Epochs : 9 Train Accuracy : 0.21782178217821782 Train Loss 0.03350226154731791\n",
            "Epochs : 9 Validation Accuracy : 0.246 Validation Loss 0.13002160447835923\n",
            "Epochs : 10 Train Accuracy : 0.21392139213921393 Train Loss 0.033623713137495695\n",
            "Epochs : 10 Validation Accuracy : 0.261 Validation Loss 0.13007446175813675\n",
            "Training Finished !!\n"
          ]
        },
        {
          "data": {
            "application/vnd.jupyter.widget-view+json": {
              "model_id": "2448c057bc2e4923be64596abe9ec1fb",
              "version_major": 2,
              "version_minor": 0
            },
            "text/plain": [
              "VBox(children=(Label(value='0.002 MB of 0.002 MB uploaded\\r'), FloatProgress(value=1.0, max=1.0)))"
            ]
          },
          "metadata": {},
          "output_type": "display_data"
        },
        {
          "data": {
            "text/html": [
              "<style>\n",
              "    table.wandb td:nth-child(1) { padding: 0 10px; text-align: left ; width: auto;} td:nth-child(2) {text-align: left ; width: 100%}\n",
              "    .wandb-row { display: flex; flex-direction: row; flex-wrap: wrap; justify-content: flex-start; width: 100% }\n",
              "    .wandb-col { display: flex; flex-direction: column; flex-basis: 100%; flex: 1; padding: 10px; }\n",
              "    </style>\n",
              "<div class=\"wandb-row\"><div class=\"wandb-col\"><h3>Run history:</h3><br/><table class=\"wandb\"><tr><td>train_accuracy</td><td>▁▃▅▅▆▇▇▇██</td></tr><tr><td>train_loss</td><td>█▇▆▄▃▃▂▂▁▁</td></tr><tr><td>val_accuracy</td><td>▁▃▅▆▆▇▇█▇█</td></tr><tr><td>val_error</td><td>█▇▆▅▃▂▂▁▁▁</td></tr></table><br/></div><div class=\"wandb-col\"><h3>Run summary:</h3><br/><table class=\"wandb\"><tr><td>train_accuracy</td><td>0.21392</td></tr><tr><td>train_loss</td><td>0.03362</td></tr><tr><td>val_accuracy</td><td>0.261</td></tr><tr><td>val_error</td><td>0.13007</td></tr></table><br/></div></div>"
            ],
            "text/plain": [
              "<IPython.core.display.HTML object>"
            ]
          },
          "metadata": {},
          "output_type": "display_data"
        },
        {
          "data": {
            "text/html": [
              " View run <strong style=\"color:#cdcd00\">peachy-sweep-4</strong> at: <a href='https://wandb.ai/ge23m018/dl_ge23m18/runs/z72hg6ml' target=\"_blank\">https://wandb.ai/ge23m018/dl_ge23m18/runs/z72hg6ml</a><br/> View project at: <a href='https://wandb.ai/ge23m018/dl_ge23m18' target=\"_blank\">https://wandb.ai/ge23m018/dl_ge23m18</a><br/>Synced 6 W&B file(s), 0 media file(s), 0 artifact file(s) and 0 other file(s)"
            ],
            "text/plain": [
              "<IPython.core.display.HTML object>"
            ]
          },
          "metadata": {},
          "output_type": "display_data"
        },
        {
          "data": {
            "text/html": [
              "Find logs at: <code>./wandb/run-20240409_171338-z72hg6ml/logs</code>"
            ],
            "text/plain": [
              "<IPython.core.display.HTML object>"
            ]
          },
          "metadata": {},
          "output_type": "display_data"
        },
        {
          "name": "stderr",
          "output_type": "stream",
          "text": [
            "\u001b[34m\u001b[1mwandb\u001b[0m: Sweep Agent: Waiting for job.\n",
            "\u001b[34m\u001b[1mwandb\u001b[0m: Job received.\n",
            "\u001b[34m\u001b[1mwandb\u001b[0m: Agent Starting Run: qb78u4aw with config:\n",
            "\u001b[34m\u001b[1mwandb\u001b[0m: \tactivation_func: Mish\n",
            "\u001b[34m\u001b[1mwandb\u001b[0m: \tdropout_factor: 0.3\n",
            "\u001b[34m\u001b[1mwandb\u001b[0m: \tepochs: 5\n",
            "\u001b[34m\u001b[1mwandb\u001b[0m: \tfilter_factor: 0.5\n",
            "\u001b[34m\u001b[1mwandb\u001b[0m: \tnum_filters: 64\n",
            "\u001b[34m\u001b[1mwandb\u001b[0m: \u001b[33mWARNING\u001b[0m Ignored wandb.init() arg project when running a sweep.\n"
          ]
        },
        {
          "data": {
            "text/html": [
              "Tracking run with wandb version 0.16.6"
            ],
            "text/plain": [
              "<IPython.core.display.HTML object>"
            ]
          },
          "metadata": {},
          "output_type": "display_data"
        },
        {
          "data": {
            "text/html": [
              "Run data is saved locally in <code>/home/ge22m009/Abdul/wandb/run-20240409_173201-qb78u4aw</code>"
            ],
            "text/plain": [
              "<IPython.core.display.HTML object>"
            ]
          },
          "metadata": {},
          "output_type": "display_data"
        },
        {
          "data": {
            "text/html": [
              "Syncing run <strong><a href='https://wandb.ai/ge23m018/dl_ge23m18/runs/qb78u4aw' target=\"_blank\">curious-sweep-5</a></strong> to <a href='https://wandb.ai/ge23m018/dl_ge23m18' target=\"_blank\">Weights & Biases</a> (<a href='https://wandb.me/run' target=\"_blank\">docs</a>)<br/>Sweep page: <a href='https://wandb.ai/ge23m018/dl_ge23m18/sweeps/m9wnq4zl' target=\"_blank\">https://wandb.ai/ge23m018/dl_ge23m18/sweeps/m9wnq4zl</a>"
            ],
            "text/plain": [
              "<IPython.core.display.HTML object>"
            ]
          },
          "metadata": {},
          "output_type": "display_data"
        },
        {
          "data": {
            "text/html": [
              " View project at <a href='https://wandb.ai/ge23m018/dl_ge23m18' target=\"_blank\">https://wandb.ai/ge23m018/dl_ge23m18</a>"
            ],
            "text/plain": [
              "<IPython.core.display.HTML object>"
            ]
          },
          "metadata": {},
          "output_type": "display_data"
        },
        {
          "data": {
            "text/html": [
              " View sweep at <a href='https://wandb.ai/ge23m018/dl_ge23m18/sweeps/m9wnq4zl' target=\"_blank\">https://wandb.ai/ge23m018/dl_ge23m18/sweeps/m9wnq4zl</a>"
            ],
            "text/plain": [
              "<IPython.core.display.HTML object>"
            ]
          },
          "metadata": {},
          "output_type": "display_data"
        },
        {
          "data": {
            "text/html": [
              " View run at <a href='https://wandb.ai/ge23m018/dl_ge23m18/runs/qb78u4aw' target=\"_blank\">https://wandb.ai/ge23m018/dl_ge23m18/runs/qb78u4aw</a>"
            ],
            "text/plain": [
              "<IPython.core.display.HTML object>"
            ]
          },
          "metadata": {},
          "output_type": "display_data"
        },
        {
          "name": "stdout",
          "output_type": "stream",
          "text": [
            "train_path /home/ge22m009/inaturalist_12K/train/\n",
            "test_path /home/ge22m009/inaturalist_12K/val/\n",
            "Training dataset count :  9999\n",
            "Validation dataset count 2000\n",
            "Training the Model...\n",
            "Epochs : 1 Train Accuracy : 0.17401740174017402 Train Loss 0.034902607134454595\n",
            "Epochs : 1 Validation Accuracy : 0.2475 Validation Loss 0.1320943213701248\n",
            "Epochs : 2 Train Accuracy : 0.22432243224322432 Train Loss 0.03336923338673284\n",
            "Epochs : 2 Validation Accuracy : 0.2835 Validation Loss 0.12655952000617982\n",
            "Epochs : 3 Train Accuracy : 0.23982398239823982 Train Loss 0.032840170947560456\n",
            "Epochs : 3 Validation Accuracy : 0.2975 Validation Loss 0.12575339859724044\n",
            "Epochs : 4 Train Accuracy : 0.25702570257025703 Train Loss 0.032388008645873434\n",
            "Epochs : 4 Validation Accuracy : 0.302 Validation Loss 0.12496867138147354\n",
            "Epochs : 5 Train Accuracy : 0.25822582258225824 Train Loss 0.03218049300361936\n",
            "Epochs : 5 Validation Accuracy : 0.292 Validation Loss 0.12614585399627687\n",
            "Training Finished !!\n"
          ]
        },
        {
          "data": {
            "application/vnd.jupyter.widget-view+json": {
              "model_id": "9e6a6bc4734a4d448dff3d07e63ddbae",
              "version_major": 2,
              "version_minor": 0
            },
            "text/plain": [
              "VBox(children=(Label(value='0.002 MB of 0.002 MB uploaded\\r'), FloatProgress(value=1.0, max=1.0)))"
            ]
          },
          "metadata": {},
          "output_type": "display_data"
        },
        {
          "data": {
            "text/html": [
              "<style>\n",
              "    table.wandb td:nth-child(1) { padding: 0 10px; text-align: left ; width: auto;} td:nth-child(2) {text-align: left ; width: 100%}\n",
              "    .wandb-row { display: flex; flex-direction: row; flex-wrap: wrap; justify-content: flex-start; width: 100% }\n",
              "    .wandb-col { display: flex; flex-direction: column; flex-basis: 100%; flex: 1; padding: 10px; }\n",
              "    </style>\n",
              "<div class=\"wandb-row\"><div class=\"wandb-col\"><h3>Run history:</h3><br/><table class=\"wandb\"><tr><td>train_accuracy</td><td>▁▅▆██</td></tr><tr><td>train_loss</td><td>█▄▃▂▁</td></tr><tr><td>val_accuracy</td><td>▁▆▇█▇</td></tr><tr><td>val_error</td><td>█▃▂▁▂</td></tr></table><br/></div><div class=\"wandb-col\"><h3>Run summary:</h3><br/><table class=\"wandb\"><tr><td>train_accuracy</td><td>0.25823</td></tr><tr><td>train_loss</td><td>0.03218</td></tr><tr><td>val_accuracy</td><td>0.292</td></tr><tr><td>val_error</td><td>0.12615</td></tr></table><br/></div></div>"
            ],
            "text/plain": [
              "<IPython.core.display.HTML object>"
            ]
          },
          "metadata": {},
          "output_type": "display_data"
        },
        {
          "data": {
            "text/html": [
              " View run <strong style=\"color:#cdcd00\">curious-sweep-5</strong> at: <a href='https://wandb.ai/ge23m018/dl_ge23m18/runs/qb78u4aw' target=\"_blank\">https://wandb.ai/ge23m018/dl_ge23m18/runs/qb78u4aw</a><br/> View project at: <a href='https://wandb.ai/ge23m018/dl_ge23m18' target=\"_blank\">https://wandb.ai/ge23m018/dl_ge23m18</a><br/>Synced 6 W&B file(s), 0 media file(s), 0 artifact file(s) and 0 other file(s)"
            ],
            "text/plain": [
              "<IPython.core.display.HTML object>"
            ]
          },
          "metadata": {},
          "output_type": "display_data"
        },
        {
          "data": {
            "text/html": [
              "Find logs at: <code>./wandb/run-20240409_173201-qb78u4aw/logs</code>"
            ],
            "text/plain": [
              "<IPython.core.display.HTML object>"
            ]
          },
          "metadata": {},
          "output_type": "display_data"
        },
        {
          "name": "stderr",
          "output_type": "stream",
          "text": [
            "\u001b[34m\u001b[1mwandb\u001b[0m: Agent Starting Run: byuszziu with config:\n",
            "\u001b[34m\u001b[1mwandb\u001b[0m: \tactivation_func: Mish\n",
            "\u001b[34m\u001b[1mwandb\u001b[0m: \tdropout_factor: 0\n",
            "\u001b[34m\u001b[1mwandb\u001b[0m: \tepochs: 5\n",
            "\u001b[34m\u001b[1mwandb\u001b[0m: \tfilter_factor: 0.5\n",
            "\u001b[34m\u001b[1mwandb\u001b[0m: \tnum_filters: 64\n",
            "\u001b[34m\u001b[1mwandb\u001b[0m: \u001b[33mWARNING\u001b[0m Ignored wandb.init() arg project when running a sweep.\n"
          ]
        },
        {
          "data": {
            "text/html": [
              "Tracking run with wandb version 0.16.6"
            ],
            "text/plain": [
              "<IPython.core.display.HTML object>"
            ]
          },
          "metadata": {},
          "output_type": "display_data"
        },
        {
          "data": {
            "text/html": [
              "Run data is saved locally in <code>/home/ge22m009/Abdul/wandb/run-20240409_174135-byuszziu</code>"
            ],
            "text/plain": [
              "<IPython.core.display.HTML object>"
            ]
          },
          "metadata": {},
          "output_type": "display_data"
        },
        {
          "data": {
            "text/html": [
              "Syncing run <strong><a href='https://wandb.ai/ge23m018/dl_ge23m18/runs/byuszziu' target=\"_blank\">happy-sweep-6</a></strong> to <a href='https://wandb.ai/ge23m018/dl_ge23m18' target=\"_blank\">Weights & Biases</a> (<a href='https://wandb.me/run' target=\"_blank\">docs</a>)<br/>Sweep page: <a href='https://wandb.ai/ge23m018/dl_ge23m18/sweeps/m9wnq4zl' target=\"_blank\">https://wandb.ai/ge23m018/dl_ge23m18/sweeps/m9wnq4zl</a>"
            ],
            "text/plain": [
              "<IPython.core.display.HTML object>"
            ]
          },
          "metadata": {},
          "output_type": "display_data"
        },
        {
          "data": {
            "text/html": [
              " View project at <a href='https://wandb.ai/ge23m018/dl_ge23m18' target=\"_blank\">https://wandb.ai/ge23m018/dl_ge23m18</a>"
            ],
            "text/plain": [
              "<IPython.core.display.HTML object>"
            ]
          },
          "metadata": {},
          "output_type": "display_data"
        },
        {
          "data": {
            "text/html": [
              " View sweep at <a href='https://wandb.ai/ge23m018/dl_ge23m18/sweeps/m9wnq4zl' target=\"_blank\">https://wandb.ai/ge23m018/dl_ge23m18/sweeps/m9wnq4zl</a>"
            ],
            "text/plain": [
              "<IPython.core.display.HTML object>"
            ]
          },
          "metadata": {},
          "output_type": "display_data"
        },
        {
          "data": {
            "text/html": [
              " View run at <a href='https://wandb.ai/ge23m018/dl_ge23m18/runs/byuszziu' target=\"_blank\">https://wandb.ai/ge23m018/dl_ge23m18/runs/byuszziu</a>"
            ],
            "text/plain": [
              "<IPython.core.display.HTML object>"
            ]
          },
          "metadata": {},
          "output_type": "display_data"
        },
        {
          "name": "stdout",
          "output_type": "stream",
          "text": [
            "train_path /home/ge22m009/inaturalist_12K/train/\n",
            "test_path /home/ge22m009/inaturalist_12K/val/\n",
            "Training dataset count :  9999\n",
            "Validation dataset count 2000\n",
            "Training the Model...\n",
            "Epochs : 1 Train Accuracy : 0.18811881188118812 Train Loss 0.0345971813940122\n",
            "Epochs : 1 Validation Accuracy : 0.224 Validation Loss 0.1340943929553032\n",
            "Epochs : 2 Train Accuracy : 0.26082608260826085 Train Loss 0.032400820276500916\n",
            "Epochs : 2 Validation Accuracy : 0.255 Validation Loss 0.1270037569999695\n",
            "Epochs : 3 Train Accuracy : 0.2966296629662966 Train Loss 0.03103646522451012\n",
            "Epochs : 3 Validation Accuracy : 0.289 Validation Loss 0.12229186952114106\n",
            "Epochs : 4 Train Accuracy : 0.31413141314131415 Train Loss 0.030121727041726543\n",
            "Epochs : 4 Validation Accuracy : 0.289 Validation Loss 0.12256247580051421\n",
            "Epochs : 5 Train Accuracy : 0.33183318331833184 Train Loss 0.02948622204492254\n",
            "Epochs : 5 Validation Accuracy : 0.3045 Validation Loss 0.11877188473939895\n",
            "Training Finished !!\n"
          ]
        },
        {
          "data": {
            "application/vnd.jupyter.widget-view+json": {
              "model_id": "79f0f17aa612485a9491506afd00952b",
              "version_major": 2,
              "version_minor": 0
            },
            "text/plain": [
              "VBox(children=(Label(value='0.002 MB of 0.002 MB uploaded\\r'), FloatProgress(value=1.0, max=1.0)))"
            ]
          },
          "metadata": {},
          "output_type": "display_data"
        },
        {
          "data": {
            "text/html": [
              "<style>\n",
              "    table.wandb td:nth-child(1) { padding: 0 10px; text-align: left ; width: auto;} td:nth-child(2) {text-align: left ; width: 100%}\n",
              "    .wandb-row { display: flex; flex-direction: row; flex-wrap: wrap; justify-content: flex-start; width: 100% }\n",
              "    .wandb-col { display: flex; flex-direction: column; flex-basis: 100%; flex: 1; padding: 10px; }\n",
              "    </style>\n",
              "<div class=\"wandb-row\"><div class=\"wandb-col\"><h3>Run history:</h3><br/><table class=\"wandb\"><tr><td>train_accuracy</td><td>▁▅▆▇█</td></tr><tr><td>train_loss</td><td>█▅▃▂▁</td></tr><tr><td>val_accuracy</td><td>▁▄▇▇█</td></tr><tr><td>val_error</td><td>█▅▃▃▁</td></tr></table><br/></div><div class=\"wandb-col\"><h3>Run summary:</h3><br/><table class=\"wandb\"><tr><td>train_accuracy</td><td>0.33183</td></tr><tr><td>train_loss</td><td>0.02949</td></tr><tr><td>val_accuracy</td><td>0.3045</td></tr><tr><td>val_error</td><td>0.11877</td></tr></table><br/></div></div>"
            ],
            "text/plain": [
              "<IPython.core.display.HTML object>"
            ]
          },
          "metadata": {},
          "output_type": "display_data"
        },
        {
          "data": {
            "text/html": [
              " View run <strong style=\"color:#cdcd00\">happy-sweep-6</strong> at: <a href='https://wandb.ai/ge23m018/dl_ge23m18/runs/byuszziu' target=\"_blank\">https://wandb.ai/ge23m018/dl_ge23m18/runs/byuszziu</a><br/> View project at: <a href='https://wandb.ai/ge23m018/dl_ge23m18' target=\"_blank\">https://wandb.ai/ge23m018/dl_ge23m18</a><br/>Synced 6 W&B file(s), 0 media file(s), 0 artifact file(s) and 0 other file(s)"
            ],
            "text/plain": [
              "<IPython.core.display.HTML object>"
            ]
          },
          "metadata": {},
          "output_type": "display_data"
        },
        {
          "data": {
            "text/html": [
              "Find logs at: <code>./wandb/run-20240409_174135-byuszziu/logs</code>"
            ],
            "text/plain": [
              "<IPython.core.display.HTML object>"
            ]
          },
          "metadata": {},
          "output_type": "display_data"
        },
        {
          "name": "stderr",
          "output_type": "stream",
          "text": [
            "\u001b[34m\u001b[1mwandb\u001b[0m: Agent Starting Run: 756uml0t with config:\n",
            "\u001b[34m\u001b[1mwandb\u001b[0m: \tactivation_func: Mish\n",
            "\u001b[34m\u001b[1mwandb\u001b[0m: \tdropout_factor: 0\n",
            "\u001b[34m\u001b[1mwandb\u001b[0m: \tepochs: 5\n",
            "\u001b[34m\u001b[1mwandb\u001b[0m: \tfilter_factor: 0.5\n",
            "\u001b[34m\u001b[1mwandb\u001b[0m: \tnum_filters: 64\n",
            "\u001b[34m\u001b[1mwandb\u001b[0m: \u001b[33mWARNING\u001b[0m Ignored wandb.init() arg project when running a sweep.\n"
          ]
        },
        {
          "data": {
            "text/html": [
              "Tracking run with wandb version 0.16.6"
            ],
            "text/plain": [
              "<IPython.core.display.HTML object>"
            ]
          },
          "metadata": {},
          "output_type": "display_data"
        },
        {
          "data": {
            "text/html": [
              "Run data is saved locally in <code>/home/ge22m009/Abdul/wandb/run-20240409_175058-756uml0t</code>"
            ],
            "text/plain": [
              "<IPython.core.display.HTML object>"
            ]
          },
          "metadata": {},
          "output_type": "display_data"
        },
        {
          "data": {
            "text/html": [
              "Syncing run <strong><a href='https://wandb.ai/ge23m018/dl_ge23m18/runs/756uml0t' target=\"_blank\">swept-sweep-7</a></strong> to <a href='https://wandb.ai/ge23m018/dl_ge23m18' target=\"_blank\">Weights & Biases</a> (<a href='https://wandb.me/run' target=\"_blank\">docs</a>)<br/>Sweep page: <a href='https://wandb.ai/ge23m018/dl_ge23m18/sweeps/m9wnq4zl' target=\"_blank\">https://wandb.ai/ge23m018/dl_ge23m18/sweeps/m9wnq4zl</a>"
            ],
            "text/plain": [
              "<IPython.core.display.HTML object>"
            ]
          },
          "metadata": {},
          "output_type": "display_data"
        },
        {
          "data": {
            "text/html": [
              " View project at <a href='https://wandb.ai/ge23m018/dl_ge23m18' target=\"_blank\">https://wandb.ai/ge23m018/dl_ge23m18</a>"
            ],
            "text/plain": [
              "<IPython.core.display.HTML object>"
            ]
          },
          "metadata": {},
          "output_type": "display_data"
        },
        {
          "data": {
            "text/html": [
              " View sweep at <a href='https://wandb.ai/ge23m018/dl_ge23m18/sweeps/m9wnq4zl' target=\"_blank\">https://wandb.ai/ge23m018/dl_ge23m18/sweeps/m9wnq4zl</a>"
            ],
            "text/plain": [
              "<IPython.core.display.HTML object>"
            ]
          },
          "metadata": {},
          "output_type": "display_data"
        },
        {
          "data": {
            "text/html": [
              " View run at <a href='https://wandb.ai/ge23m018/dl_ge23m18/runs/756uml0t' target=\"_blank\">https://wandb.ai/ge23m018/dl_ge23m18/runs/756uml0t</a>"
            ],
            "text/plain": [
              "<IPython.core.display.HTML object>"
            ]
          },
          "metadata": {},
          "output_type": "display_data"
        },
        {
          "name": "stdout",
          "output_type": "stream",
          "text": [
            "train_path /home/ge22m009/inaturalist_12K/train/\n",
            "test_path /home/ge22m009/inaturalist_12K/val/\n",
            "Training dataset count :  9999\n",
            "Validation dataset count 2000\n",
            "Training the Model...\n",
            "Epochs : 1 Train Accuracy : 0.18351835183518353 Train Loss 0.03439762213430663\n",
            "Epochs : 1 Validation Accuracy : 0.1975 Validation Loss 0.13185617011785508\n",
            "Epochs : 2 Train Accuracy : 0.2449244924492449 Train Loss 0.032355558324997535\n",
            "Epochs : 2 Validation Accuracy : 0.284 Validation Loss 0.12583049100637436\n",
            "Epochs : 3 Train Accuracy : 0.29102910291029105 Train Loss 0.031189643605874413\n",
            "Epochs : 3 Validation Accuracy : 0.2965 Validation Loss 0.12378599959611893\n",
            "Epochs : 4 Train Accuracy : 0.29832983298329835 Train Loss 0.03063834354941613\n",
            "Epochs : 4 Validation Accuracy : 0.276 Validation Loss 0.12721728736162186\n",
            "Epochs : 5 Train Accuracy : 0.3197319731973197 Train Loss 0.030079367482932832\n",
            "Epochs : 5 Validation Accuracy : 0.32 Validation Loss 0.12175744611024857\n",
            "Training Finished !!\n"
          ]
        },
        {
          "data": {
            "application/vnd.jupyter.widget-view+json": {
              "model_id": "b7c09f70fd1e4a9e9ec3e95ecf7b47a0",
              "version_major": 2,
              "version_minor": 0
            },
            "text/plain": [
              "VBox(children=(Label(value='0.002 MB of 0.003 MB uploaded\\r'), FloatProgress(value=0.746816479400749, max=1.0)…"
            ]
          },
          "metadata": {},
          "output_type": "display_data"
        },
        {
          "data": {
            "text/html": [
              "<style>\n",
              "    table.wandb td:nth-child(1) { padding: 0 10px; text-align: left ; width: auto;} td:nth-child(2) {text-align: left ; width: 100%}\n",
              "    .wandb-row { display: flex; flex-direction: row; flex-wrap: wrap; justify-content: flex-start; width: 100% }\n",
              "    .wandb-col { display: flex; flex-direction: column; flex-basis: 100%; flex: 1; padding: 10px; }\n",
              "    </style>\n",
              "<div class=\"wandb-row\"><div class=\"wandb-col\"><h3>Run history:</h3><br/><table class=\"wandb\"><tr><td>train_accuracy</td><td>▁▄▇▇█</td></tr><tr><td>train_loss</td><td>█▅▃▂▁</td></tr><tr><td>val_accuracy</td><td>▁▆▇▅█</td></tr><tr><td>val_error</td><td>█▄▂▅▁</td></tr></table><br/></div><div class=\"wandb-col\"><h3>Run summary:</h3><br/><table class=\"wandb\"><tr><td>train_accuracy</td><td>0.31973</td></tr><tr><td>train_loss</td><td>0.03008</td></tr><tr><td>val_accuracy</td><td>0.32</td></tr><tr><td>val_error</td><td>0.12176</td></tr></table><br/></div></div>"
            ],
            "text/plain": [
              "<IPython.core.display.HTML object>"
            ]
          },
          "metadata": {},
          "output_type": "display_data"
        },
        {
          "data": {
            "text/html": [
              " View run <strong style=\"color:#cdcd00\">swept-sweep-7</strong> at: <a href='https://wandb.ai/ge23m018/dl_ge23m18/runs/756uml0t' target=\"_blank\">https://wandb.ai/ge23m018/dl_ge23m18/runs/756uml0t</a><br/> View project at: <a href='https://wandb.ai/ge23m018/dl_ge23m18' target=\"_blank\">https://wandb.ai/ge23m018/dl_ge23m18</a><br/>Synced 6 W&B file(s), 0 media file(s), 0 artifact file(s) and 0 other file(s)"
            ],
            "text/plain": [
              "<IPython.core.display.HTML object>"
            ]
          },
          "metadata": {},
          "output_type": "display_data"
        },
        {
          "data": {
            "text/html": [
              "Find logs at: <code>./wandb/run-20240409_175058-756uml0t/logs</code>"
            ],
            "text/plain": [
              "<IPython.core.display.HTML object>"
            ]
          },
          "metadata": {},
          "output_type": "display_data"
        },
        {
          "name": "stderr",
          "output_type": "stream",
          "text": [
            "\u001b[34m\u001b[1mwandb\u001b[0m: Sweep Agent: Waiting for job.\n",
            "\u001b[34m\u001b[1mwandb\u001b[0m: Job received.\n",
            "\u001b[34m\u001b[1mwandb\u001b[0m: Agent Starting Run: u77p9oxy with config:\n",
            "\u001b[34m\u001b[1mwandb\u001b[0m: \tactivation_func: Mish\n",
            "\u001b[34m\u001b[1mwandb\u001b[0m: \tdropout_factor: 0\n",
            "\u001b[34m\u001b[1mwandb\u001b[0m: \tepochs: 10\n",
            "\u001b[34m\u001b[1mwandb\u001b[0m: \tfilter_factor: 0.5\n",
            "\u001b[34m\u001b[1mwandb\u001b[0m: \tnum_filters: 64\n",
            "\u001b[34m\u001b[1mwandb\u001b[0m: \u001b[33mWARNING\u001b[0m Ignored wandb.init() arg project when running a sweep.\n"
          ]
        },
        {
          "data": {
            "text/html": [
              "Tracking run with wandb version 0.16.6"
            ],
            "text/plain": [
              "<IPython.core.display.HTML object>"
            ]
          },
          "metadata": {},
          "output_type": "display_data"
        },
        {
          "data": {
            "text/html": [
              "Run data is saved locally in <code>/home/ge22m009/Abdul/wandb/run-20240409_180041-u77p9oxy</code>"
            ],
            "text/plain": [
              "<IPython.core.display.HTML object>"
            ]
          },
          "metadata": {},
          "output_type": "display_data"
        },
        {
          "data": {
            "text/html": [
              "Syncing run <strong><a href='https://wandb.ai/ge23m018/dl_ge23m18/runs/u77p9oxy' target=\"_blank\">valiant-sweep-8</a></strong> to <a href='https://wandb.ai/ge23m018/dl_ge23m18' target=\"_blank\">Weights & Biases</a> (<a href='https://wandb.me/run' target=\"_blank\">docs</a>)<br/>Sweep page: <a href='https://wandb.ai/ge23m018/dl_ge23m18/sweeps/m9wnq4zl' target=\"_blank\">https://wandb.ai/ge23m018/dl_ge23m18/sweeps/m9wnq4zl</a>"
            ],
            "text/plain": [
              "<IPython.core.display.HTML object>"
            ]
          },
          "metadata": {},
          "output_type": "display_data"
        },
        {
          "data": {
            "text/html": [
              " View project at <a href='https://wandb.ai/ge23m018/dl_ge23m18' target=\"_blank\">https://wandb.ai/ge23m018/dl_ge23m18</a>"
            ],
            "text/plain": [
              "<IPython.core.display.HTML object>"
            ]
          },
          "metadata": {},
          "output_type": "display_data"
        },
        {
          "data": {
            "text/html": [
              " View sweep at <a href='https://wandb.ai/ge23m018/dl_ge23m18/sweeps/m9wnq4zl' target=\"_blank\">https://wandb.ai/ge23m018/dl_ge23m18/sweeps/m9wnq4zl</a>"
            ],
            "text/plain": [
              "<IPython.core.display.HTML object>"
            ]
          },
          "metadata": {},
          "output_type": "display_data"
        },
        {
          "data": {
            "text/html": [
              " View run at <a href='https://wandb.ai/ge23m018/dl_ge23m18/runs/u77p9oxy' target=\"_blank\">https://wandb.ai/ge23m018/dl_ge23m18/runs/u77p9oxy</a>"
            ],
            "text/plain": [
              "<IPython.core.display.HTML object>"
            ]
          },
          "metadata": {},
          "output_type": "display_data"
        },
        {
          "name": "stdout",
          "output_type": "stream",
          "text": [
            "train_path /home/ge22m009/inaturalist_12K/train/\n",
            "test_path /home/ge22m009/inaturalist_12K/val/\n",
            "Training dataset count :  9999\n",
            "Validation dataset count 2000\n",
            "Training the Model...\n",
            "Epochs : 1 Train Accuracy : 0.19601960196019602 Train Loss 0.03414582732868547\n",
            "Epochs : 1 Validation Accuracy : 0.245 Validation Loss 0.13184816282987594\n",
            "Epochs : 2 Train Accuracy : 0.2522252225222522 Train Loss 0.03230803137314845\n",
            "Epochs : 2 Validation Accuracy : 0.264 Validation Loss 0.12787822359800338\n",
            "Epochs : 3 Train Accuracy : 0.2909290929092909 Train Loss 0.03105651879265304\n",
            "Epochs : 3 Validation Accuracy : 0.3165 Validation Loss 0.12399158978462219\n",
            "Epochs : 4 Train Accuracy : 0.30523052305230525 Train Loss 0.03035767174491955\n",
            "Epochs : 4 Validation Accuracy : 0.3045 Validation Loss 0.12217039650678635\n",
            "Epochs : 5 Train Accuracy : 0.32163216321632165 Train Loss 0.02984559450140952\n",
            "Epochs : 5 Validation Accuracy : 0.341 Validation Loss 0.12018257814645768\n",
            "Epochs : 6 Train Accuracy : 0.327032703270327 Train Loss 0.02956217052292998\n",
            "Epochs : 6 Validation Accuracy : 0.34 Validation Loss 0.11830545431375504\n",
            "Epochs : 7 Train Accuracy : 0.3436343634363436 Train Loss 0.029061676466604486\n",
            "Epochs : 7 Validation Accuracy : 0.3355 Validation Loss 0.1180550917983055\n",
            "Epochs : 8 Train Accuracy : 0.34943494349434945 Train Loss 0.028826388922652334\n",
            "Epochs : 8 Validation Accuracy : 0.3385 Validation Loss 0.11680974221229554\n",
            "Epochs : 9 Train Accuracy : 0.3483348334833483 Train Loss 0.02872220193496858\n",
            "Epochs : 9 Validation Accuracy : 0.324 Validation Loss 0.11732754212617874\n",
            "Epochs : 10 Train Accuracy : 0.3584358435843584 Train Loss 0.028414230905111842\n",
            "Epochs : 10 Validation Accuracy : 0.342 Validation Loss 0.11617527800798416\n",
            "Training Finished !!\n"
          ]
        },
        {
          "data": {
            "application/vnd.jupyter.widget-view+json": {
              "model_id": "e0fd4899d1e4448f8cd832caddd05adf",
              "version_major": 2,
              "version_minor": 0
            },
            "text/plain": [
              "VBox(children=(Label(value='0.002 MB of 0.013 MB uploaded\\r'), FloatProgress(value=0.1505360108712064, max=1.0…"
            ]
          },
          "metadata": {},
          "output_type": "display_data"
        },
        {
          "data": {
            "text/html": [
              "<style>\n",
              "    table.wandb td:nth-child(1) { padding: 0 10px; text-align: left ; width: auto;} td:nth-child(2) {text-align: left ; width: 100%}\n",
              "    .wandb-row { display: flex; flex-direction: row; flex-wrap: wrap; justify-content: flex-start; width: 100% }\n",
              "    .wandb-col { display: flex; flex-direction: column; flex-basis: 100%; flex: 1; padding: 10px; }\n",
              "    </style>\n",
              "<div class=\"wandb-row\"><div class=\"wandb-col\"><h3>Run history:</h3><br/><table class=\"wandb\"><tr><td>train_accuracy</td><td>▁▃▅▆▆▇▇███</td></tr><tr><td>train_loss</td><td>█▆▄▃▃▂▂▂▁▁</td></tr><tr><td>val_accuracy</td><td>▁▂▆▅████▇█</td></tr><tr><td>val_error</td><td>█▆▄▄▃▂▂▁▂▁</td></tr></table><br/></div><div class=\"wandb-col\"><h3>Run summary:</h3><br/><table class=\"wandb\"><tr><td>train_accuracy</td><td>0.35844</td></tr><tr><td>train_loss</td><td>0.02841</td></tr><tr><td>val_accuracy</td><td>0.342</td></tr><tr><td>val_error</td><td>0.11618</td></tr></table><br/></div></div>"
            ],
            "text/plain": [
              "<IPython.core.display.HTML object>"
            ]
          },
          "metadata": {},
          "output_type": "display_data"
        },
        {
          "data": {
            "text/html": [
              " View run <strong style=\"color:#cdcd00\">valiant-sweep-8</strong> at: <a href='https://wandb.ai/ge23m018/dl_ge23m18/runs/u77p9oxy' target=\"_blank\">https://wandb.ai/ge23m018/dl_ge23m18/runs/u77p9oxy</a><br/> View project at: <a href='https://wandb.ai/ge23m018/dl_ge23m18' target=\"_blank\">https://wandb.ai/ge23m018/dl_ge23m18</a><br/>Synced 6 W&B file(s), 0 media file(s), 0 artifact file(s) and 0 other file(s)"
            ],
            "text/plain": [
              "<IPython.core.display.HTML object>"
            ]
          },
          "metadata": {},
          "output_type": "display_data"
        },
        {
          "data": {
            "text/html": [
              "Find logs at: <code>./wandb/run-20240409_180041-u77p9oxy/logs</code>"
            ],
            "text/plain": [
              "<IPython.core.display.HTML object>"
            ]
          },
          "metadata": {},
          "output_type": "display_data"
        },
        {
          "name": "stderr",
          "output_type": "stream",
          "text": [
            "\u001b[34m\u001b[1mwandb\u001b[0m: Agent Starting Run: y97cllnp with config:\n",
            "\u001b[34m\u001b[1mwandb\u001b[0m: \tactivation_func: Mish\n",
            "\u001b[34m\u001b[1mwandb\u001b[0m: \tdropout_factor: 0\n",
            "\u001b[34m\u001b[1mwandb\u001b[0m: \tepochs: 10\n",
            "\u001b[34m\u001b[1mwandb\u001b[0m: \tfilter_factor: 0.5\n",
            "\u001b[34m\u001b[1mwandb\u001b[0m: \tnum_filters: 64\n",
            "\u001b[34m\u001b[1mwandb\u001b[0m: \u001b[33mWARNING\u001b[0m Ignored wandb.init() arg project when running a sweep.\n"
          ]
        },
        {
          "data": {
            "text/html": [
              "Tracking run with wandb version 0.16.6"
            ],
            "text/plain": [
              "<IPython.core.display.HTML object>"
            ]
          },
          "metadata": {},
          "output_type": "display_data"
        },
        {
          "data": {
            "text/html": [
              "Run data is saved locally in <code>/home/ge22m009/Abdul/wandb/run-20240409_181939-y97cllnp</code>"
            ],
            "text/plain": [
              "<IPython.core.display.HTML object>"
            ]
          },
          "metadata": {},
          "output_type": "display_data"
        },
        {
          "data": {
            "text/html": [
              "Syncing run <strong><a href='https://wandb.ai/ge23m018/dl_ge23m18/runs/y97cllnp' target=\"_blank\">neat-sweep-9</a></strong> to <a href='https://wandb.ai/ge23m018/dl_ge23m18' target=\"_blank\">Weights & Biases</a> (<a href='https://wandb.me/run' target=\"_blank\">docs</a>)<br/>Sweep page: <a href='https://wandb.ai/ge23m018/dl_ge23m18/sweeps/m9wnq4zl' target=\"_blank\">https://wandb.ai/ge23m018/dl_ge23m18/sweeps/m9wnq4zl</a>"
            ],
            "text/plain": [
              "<IPython.core.display.HTML object>"
            ]
          },
          "metadata": {},
          "output_type": "display_data"
        },
        {
          "data": {
            "text/html": [
              " View project at <a href='https://wandb.ai/ge23m018/dl_ge23m18' target=\"_blank\">https://wandb.ai/ge23m018/dl_ge23m18</a>"
            ],
            "text/plain": [
              "<IPython.core.display.HTML object>"
            ]
          },
          "metadata": {},
          "output_type": "display_data"
        },
        {
          "data": {
            "text/html": [
              " View sweep at <a href='https://wandb.ai/ge23m018/dl_ge23m18/sweeps/m9wnq4zl' target=\"_blank\">https://wandb.ai/ge23m018/dl_ge23m18/sweeps/m9wnq4zl</a>"
            ],
            "text/plain": [
              "<IPython.core.display.HTML object>"
            ]
          },
          "metadata": {},
          "output_type": "display_data"
        },
        {
          "data": {
            "text/html": [
              " View run at <a href='https://wandb.ai/ge23m018/dl_ge23m18/runs/y97cllnp' target=\"_blank\">https://wandb.ai/ge23m018/dl_ge23m18/runs/y97cllnp</a>"
            ],
            "text/plain": [
              "<IPython.core.display.HTML object>"
            ]
          },
          "metadata": {},
          "output_type": "display_data"
        },
        {
          "name": "stdout",
          "output_type": "stream",
          "text": [
            "train_path /home/ge22m009/inaturalist_12K/train/\n",
            "test_path /home/ge22m009/inaturalist_12K/val/\n",
            "Training dataset count :  9999\n",
            "Validation dataset count 2000\n",
            "Training the Model...\n",
            "Epochs : 1 Train Accuracy : 0.19601960196019602 Train Loss 0.03406989572047949\n",
            "Epochs : 1 Validation Accuracy : 0.258 Validation Loss 0.12967805677652358\n",
            "Epochs : 2 Train Accuracy : 0.27342734273427344 Train Loss 0.031537408995168166\n",
            "Epochs : 2 Validation Accuracy : 0.292 Validation Loss 0.1247640193104744\n",
            "Epochs : 3 Train Accuracy : 0.3086308630863086 Train Loss 0.030619792335449977\n",
            "Epochs : 3 Validation Accuracy : 0.3115 Validation Loss 0.12215910416841506\n",
            "Epochs : 4 Train Accuracy : 0.3167316731673167 Train Loss 0.03008249547794135\n",
            "Epochs : 4 Validation Accuracy : 0.3095 Validation Loss 0.12177739340066909\n",
            "Epochs : 5 Train Accuracy : 0.3274327432743274 Train Loss 0.029655018512314946\n",
            "Epochs : 5 Validation Accuracy : 0.319 Validation Loss 0.12187492531538009\n",
            "Epochs : 6 Train Accuracy : 0.32973297329732976 Train Loss 0.029487109515700105\n",
            "Epochs : 6 Validation Accuracy : 0.3205 Validation Loss 0.11988752955198288\n",
            "Epochs : 7 Train Accuracy : 0.3416341634163416 Train Loss 0.029098040116454425\n",
            "Epochs : 7 Validation Accuracy : 0.3225 Validation Loss 0.11980025666952134\n",
            "Epochs : 8 Train Accuracy : 0.34393439343934396 Train Loss 0.02898375847802447\n",
            "Epochs : 8 Validation Accuracy : 0.3315 Validation Loss 0.11863060587644578\n",
            "Epochs : 9 Train Accuracy : 0.3481348134813481 Train Loss 0.028679193383587015\n",
            "Epochs : 9 Validation Accuracy : 0.3325 Validation Loss 0.120295126080513\n",
            "Epochs : 10 Train Accuracy : 0.35183518351835186 Train Loss 0.028557274100517963\n",
            "Epochs : 10 Validation Accuracy : 0.344 Validation Loss 0.11788288313150407\n",
            "Training Finished !!\n"
          ]
        },
        {
          "data": {
            "application/vnd.jupyter.widget-view+json": {
              "model_id": "2a4ff7b5c74c415785deced895f469d7",
              "version_major": 2,
              "version_minor": 0
            },
            "text/plain": [
              "VBox(children=(Label(value='0.002 MB of 0.002 MB uploaded\\r'), FloatProgress(value=1.0, max=1.0)))"
            ]
          },
          "metadata": {},
          "output_type": "display_data"
        },
        {
          "data": {
            "text/html": [
              "<style>\n",
              "    table.wandb td:nth-child(1) { padding: 0 10px; text-align: left ; width: auto;} td:nth-child(2) {text-align: left ; width: 100%}\n",
              "    .wandb-row { display: flex; flex-direction: row; flex-wrap: wrap; justify-content: flex-start; width: 100% }\n",
              "    .wandb-col { display: flex; flex-direction: column; flex-basis: 100%; flex: 1; padding: 10px; }\n",
              "    </style>\n",
              "<div class=\"wandb-row\"><div class=\"wandb-col\"><h3>Run history:</h3><br/><table class=\"wandb\"><tr><td>train_accuracy</td><td>▁▄▆▆▇▇████</td></tr><tr><td>train_loss</td><td>█▅▄▃▂▂▂▂▁▁</td></tr><tr><td>val_accuracy</td><td>▁▄▅▅▆▆▆▇▇█</td></tr><tr><td>val_error</td><td>█▅▄▃▃▂▂▁▂▁</td></tr></table><br/></div><div class=\"wandb-col\"><h3>Run summary:</h3><br/><table class=\"wandb\"><tr><td>train_accuracy</td><td>0.35184</td></tr><tr><td>train_loss</td><td>0.02856</td></tr><tr><td>val_accuracy</td><td>0.344</td></tr><tr><td>val_error</td><td>0.11788</td></tr></table><br/></div></div>"
            ],
            "text/plain": [
              "<IPython.core.display.HTML object>"
            ]
          },
          "metadata": {},
          "output_type": "display_data"
        },
        {
          "data": {
            "text/html": [
              " View run <strong style=\"color:#cdcd00\">neat-sweep-9</strong> at: <a href='https://wandb.ai/ge23m018/dl_ge23m18/runs/y97cllnp' target=\"_blank\">https://wandb.ai/ge23m018/dl_ge23m18/runs/y97cllnp</a><br/> View project at: <a href='https://wandb.ai/ge23m018/dl_ge23m18' target=\"_blank\">https://wandb.ai/ge23m018/dl_ge23m18</a><br/>Synced 6 W&B file(s), 0 media file(s), 0 artifact file(s) and 0 other file(s)"
            ],
            "text/plain": [
              "<IPython.core.display.HTML object>"
            ]
          },
          "metadata": {},
          "output_type": "display_data"
        },
        {
          "data": {
            "text/html": [
              "Find logs at: <code>./wandb/run-20240409_181939-y97cllnp/logs</code>"
            ],
            "text/plain": [
              "<IPython.core.display.HTML object>"
            ]
          },
          "metadata": {},
          "output_type": "display_data"
        },
        {
          "name": "stderr",
          "output_type": "stream",
          "text": [
            "\u001b[34m\u001b[1mwandb\u001b[0m: Agent Starting Run: moa10tf0 with config:\n",
            "\u001b[34m\u001b[1mwandb\u001b[0m: \tactivation_func: Mish\n",
            "\u001b[34m\u001b[1mwandb\u001b[0m: \tdropout_factor: 0\n",
            "\u001b[34m\u001b[1mwandb\u001b[0m: \tepochs: 10\n",
            "\u001b[34m\u001b[1mwandb\u001b[0m: \tfilter_factor: 0.5\n",
            "\u001b[34m\u001b[1mwandb\u001b[0m: \tnum_filters: 64\n",
            "\u001b[34m\u001b[1mwandb\u001b[0m: \u001b[33mWARNING\u001b[0m Ignored wandb.init() arg project when running a sweep.\n"
          ]
        },
        {
          "data": {
            "text/html": [
              "Tracking run with wandb version 0.16.6"
            ],
            "text/plain": [
              "<IPython.core.display.HTML object>"
            ]
          },
          "metadata": {},
          "output_type": "display_data"
        },
        {
          "data": {
            "text/html": [
              "Run data is saved locally in <code>/home/ge22m009/Abdul/wandb/run-20240409_183833-moa10tf0</code>"
            ],
            "text/plain": [
              "<IPython.core.display.HTML object>"
            ]
          },
          "metadata": {},
          "output_type": "display_data"
        },
        {
          "data": {
            "text/html": [
              "Syncing run <strong><a href='https://wandb.ai/ge23m018/dl_ge23m18/runs/moa10tf0' target=\"_blank\">fanciful-sweep-10</a></strong> to <a href='https://wandb.ai/ge23m018/dl_ge23m18' target=\"_blank\">Weights & Biases</a> (<a href='https://wandb.me/run' target=\"_blank\">docs</a>)<br/>Sweep page: <a href='https://wandb.ai/ge23m018/dl_ge23m18/sweeps/m9wnq4zl' target=\"_blank\">https://wandb.ai/ge23m018/dl_ge23m18/sweeps/m9wnq4zl</a>"
            ],
            "text/plain": [
              "<IPython.core.display.HTML object>"
            ]
          },
          "metadata": {},
          "output_type": "display_data"
        },
        {
          "data": {
            "text/html": [
              " View project at <a href='https://wandb.ai/ge23m018/dl_ge23m18' target=\"_blank\">https://wandb.ai/ge23m018/dl_ge23m18</a>"
            ],
            "text/plain": [
              "<IPython.core.display.HTML object>"
            ]
          },
          "metadata": {},
          "output_type": "display_data"
        },
        {
          "data": {
            "text/html": [
              " View sweep at <a href='https://wandb.ai/ge23m018/dl_ge23m18/sweeps/m9wnq4zl' target=\"_blank\">https://wandb.ai/ge23m018/dl_ge23m18/sweeps/m9wnq4zl</a>"
            ],
            "text/plain": [
              "<IPython.core.display.HTML object>"
            ]
          },
          "metadata": {},
          "output_type": "display_data"
        },
        {
          "data": {
            "text/html": [
              " View run at <a href='https://wandb.ai/ge23m018/dl_ge23m18/runs/moa10tf0' target=\"_blank\">https://wandb.ai/ge23m018/dl_ge23m18/runs/moa10tf0</a>"
            ],
            "text/plain": [
              "<IPython.core.display.HTML object>"
            ]
          },
          "metadata": {},
          "output_type": "display_data"
        },
        {
          "name": "stdout",
          "output_type": "stream",
          "text": [
            "train_path /home/ge22m009/inaturalist_12K/train/\n",
            "test_path /home/ge22m009/inaturalist_12K/val/\n",
            "Training dataset count :  9999\n",
            "Validation dataset count 2000\n",
            "Training the Model...\n",
            "Epochs : 1 Train Accuracy : 0.19551955195519552 Train Loss 0.03431556594170312\n",
            "Epochs : 1 Validation Accuracy : 0.252 Validation Loss 0.13126954567432403\n",
            "Epochs : 2 Train Accuracy : 0.25682568256825683 Train Loss 0.03223051256102936\n",
            "Epochs : 2 Validation Accuracy : 0.273 Validation Loss 0.12704074823856354\n",
            "Epochs : 3 Train Accuracy : 0.2796279627962796 Train Loss 0.031230799256950537\n",
            "Epochs : 3 Validation Accuracy : 0.289 Validation Loss 0.12527957248687743\n",
            "Epochs : 4 Train Accuracy : 0.3114311431143114 Train Loss 0.03053230382833663\n",
            "Epochs : 4 Validation Accuracy : 0.314 Validation Loss 0.12158407974243164\n",
            "Epochs : 5 Train Accuracy : 0.3195319531953195 Train Loss 0.029902154296049418\n",
            "Epochs : 5 Validation Accuracy : 0.308 Validation Loss 0.12013979065418244\n",
            "Epochs : 6 Train Accuracy : 0.33083308330833083 Train Loss 0.02950752180854682\n",
            "Epochs : 6 Validation Accuracy : 0.333 Validation Loss 0.11930295014381409\n",
            "Epochs : 7 Train Accuracy : 0.3386338633863386 Train Loss 0.02922293609089226\n",
            "Epochs : 7 Validation Accuracy : 0.3415 Validation Loss 0.11826528126001358\n",
            "Epochs : 8 Train Accuracy : 0.34393439343934396 Train Loss 0.02891889407952102\n",
            "Epochs : 8 Validation Accuracy : 0.3285 Validation Loss 0.11888497400283814\n",
            "Epochs : 9 Train Accuracy : 0.35203520352035206 Train Loss 0.028672912047140384\n",
            "Epochs : 9 Validation Accuracy : 0.3385 Validation Loss 0.1177344127893448\n",
            "Epochs : 10 Train Accuracy : 0.36303630363036304 Train Loss 0.02835109777743369\n",
            "Epochs : 10 Validation Accuracy : 0.3505 Validation Loss 0.1169854308962822\n",
            "Training Finished !!\n"
          ]
        },
        {
          "data": {
            "application/vnd.jupyter.widget-view+json": {
              "model_id": "c6757302f355437ab43eba741897c7c4",
              "version_major": 2,
              "version_minor": 0
            },
            "text/plain": [
              "VBox(children=(Label(value='0.002 MB of 0.013 MB uploaded\\r'), FloatProgress(value=0.15050192467356027, max=1.…"
            ]
          },
          "metadata": {},
          "output_type": "display_data"
        },
        {
          "data": {
            "text/html": [
              "<style>\n",
              "    table.wandb td:nth-child(1) { padding: 0 10px; text-align: left ; width: auto;} td:nth-child(2) {text-align: left ; width: 100%}\n",
              "    .wandb-row { display: flex; flex-direction: row; flex-wrap: wrap; justify-content: flex-start; width: 100% }\n",
              "    .wandb-col { display: flex; flex-direction: column; flex-basis: 100%; flex: 1; padding: 10px; }\n",
              "    </style>\n",
              "<div class=\"wandb-row\"><div class=\"wandb-col\"><h3>Run history:</h3><br/><table class=\"wandb\"><tr><td>train_accuracy</td><td>▁▄▅▆▆▇▇▇██</td></tr><tr><td>train_loss</td><td>█▆▄▄▃▂▂▂▁▁</td></tr><tr><td>val_accuracy</td><td>▁▂▄▅▅▇▇▆▇█</td></tr><tr><td>val_error</td><td>█▆▅▃▃▂▂▂▁▁</td></tr></table><br/></div><div class=\"wandb-col\"><h3>Run summary:</h3><br/><table class=\"wandb\"><tr><td>train_accuracy</td><td>0.36304</td></tr><tr><td>train_loss</td><td>0.02835</td></tr><tr><td>val_accuracy</td><td>0.3505</td></tr><tr><td>val_error</td><td>0.11699</td></tr></table><br/></div></div>"
            ],
            "text/plain": [
              "<IPython.core.display.HTML object>"
            ]
          },
          "metadata": {},
          "output_type": "display_data"
        },
        {
          "data": {
            "text/html": [
              " View run <strong style=\"color:#cdcd00\">fanciful-sweep-10</strong> at: <a href='https://wandb.ai/ge23m018/dl_ge23m18/runs/moa10tf0' target=\"_blank\">https://wandb.ai/ge23m018/dl_ge23m18/runs/moa10tf0</a><br/> View project at: <a href='https://wandb.ai/ge23m018/dl_ge23m18' target=\"_blank\">https://wandb.ai/ge23m018/dl_ge23m18</a><br/>Synced 6 W&B file(s), 0 media file(s), 0 artifact file(s) and 0 other file(s)"
            ],
            "text/plain": [
              "<IPython.core.display.HTML object>"
            ]
          },
          "metadata": {},
          "output_type": "display_data"
        },
        {
          "data": {
            "text/html": [
              "Find logs at: <code>./wandb/run-20240409_183833-moa10tf0/logs</code>"
            ],
            "text/plain": [
              "<IPython.core.display.HTML object>"
            ]
          },
          "metadata": {},
          "output_type": "display_data"
        },
        {
          "name": "stderr",
          "output_type": "stream",
          "text": [
            "\u001b[34m\u001b[1mwandb\u001b[0m: Agent Starting Run: susznadv with config:\n",
            "\u001b[34m\u001b[1mwandb\u001b[0m: \tactivation_func: Mish\n",
            "\u001b[34m\u001b[1mwandb\u001b[0m: \tdropout_factor: 0\n",
            "\u001b[34m\u001b[1mwandb\u001b[0m: \tepochs: 10\n",
            "\u001b[34m\u001b[1mwandb\u001b[0m: \tfilter_factor: 0.5\n",
            "\u001b[34m\u001b[1mwandb\u001b[0m: \tnum_filters: 64\n",
            "\u001b[34m\u001b[1mwandb\u001b[0m: \u001b[33mWARNING\u001b[0m Ignored wandb.init() arg project when running a sweep.\n"
          ]
        },
        {
          "data": {
            "text/html": [
              "Tracking run with wandb version 0.16.6"
            ],
            "text/plain": [
              "<IPython.core.display.HTML object>"
            ]
          },
          "metadata": {},
          "output_type": "display_data"
        },
        {
          "data": {
            "text/html": [
              "Run data is saved locally in <code>/home/ge22m009/Abdul/wandb/run-20240409_185727-susznadv</code>"
            ],
            "text/plain": [
              "<IPython.core.display.HTML object>"
            ]
          },
          "metadata": {},
          "output_type": "display_data"
        },
        {
          "data": {
            "text/html": [
              "Syncing run <strong><a href='https://wandb.ai/ge23m018/dl_ge23m18/runs/susznadv' target=\"_blank\">stoic-sweep-11</a></strong> to <a href='https://wandb.ai/ge23m018/dl_ge23m18' target=\"_blank\">Weights & Biases</a> (<a href='https://wandb.me/run' target=\"_blank\">docs</a>)<br/>Sweep page: <a href='https://wandb.ai/ge23m018/dl_ge23m18/sweeps/m9wnq4zl' target=\"_blank\">https://wandb.ai/ge23m018/dl_ge23m18/sweeps/m9wnq4zl</a>"
            ],
            "text/plain": [
              "<IPython.core.display.HTML object>"
            ]
          },
          "metadata": {},
          "output_type": "display_data"
        },
        {
          "data": {
            "text/html": [
              " View project at <a href='https://wandb.ai/ge23m018/dl_ge23m18' target=\"_blank\">https://wandb.ai/ge23m018/dl_ge23m18</a>"
            ],
            "text/plain": [
              "<IPython.core.display.HTML object>"
            ]
          },
          "metadata": {},
          "output_type": "display_data"
        },
        {
          "data": {
            "text/html": [
              " View sweep at <a href='https://wandb.ai/ge23m018/dl_ge23m18/sweeps/m9wnq4zl' target=\"_blank\">https://wandb.ai/ge23m018/dl_ge23m18/sweeps/m9wnq4zl</a>"
            ],
            "text/plain": [
              "<IPython.core.display.HTML object>"
            ]
          },
          "metadata": {},
          "output_type": "display_data"
        },
        {
          "data": {
            "text/html": [
              " View run at <a href='https://wandb.ai/ge23m018/dl_ge23m18/runs/susznadv' target=\"_blank\">https://wandb.ai/ge23m018/dl_ge23m18/runs/susznadv</a>"
            ],
            "text/plain": [
              "<IPython.core.display.HTML object>"
            ]
          },
          "metadata": {},
          "output_type": "display_data"
        },
        {
          "name": "stdout",
          "output_type": "stream",
          "text": [
            "train_path /home/ge22m009/inaturalist_12K/train/\n",
            "test_path /home/ge22m009/inaturalist_12K/val/\n",
            "Training dataset count :  9999\n",
            "Validation dataset count 2000\n",
            "Training the Model...\n",
            "Epochs : 1 Train Accuracy : 0.1788178817881788 Train Loss 0.03463044774831563\n",
            "Epochs : 1 Validation Accuracy : 0.245 Validation Loss 0.13084310734272003\n",
            "Epochs : 2 Train Accuracy : 0.24552455245524551 Train Loss 0.032692400798021236\n",
            "Epochs : 2 Validation Accuracy : 0.2645 Validation Loss 0.12870260083675383\n",
            "Epochs : 3 Train Accuracy : 0.2658265826582658 Train Loss 0.0318661958101404\n",
            "Epochs : 3 Validation Accuracy : 0.2985 Validation Loss 0.1245395765900612\n",
            "Epochs : 4 Train Accuracy : 0.299029902990299 Train Loss 0.030978697659385386\n",
            "Epochs : 4 Validation Accuracy : 0.2955 Validation Loss 0.12236509013175964\n",
            "Epochs : 5 Train Accuracy : 0.30363036303630364 Train Loss 0.030528954809123796\n",
            "Epochs : 5 Validation Accuracy : 0.3 Validation Loss 0.11989712178707122\n",
            "Epochs : 6 Train Accuracy : 0.32303230323032306 Train Loss 0.030103400011326817\n",
            "Epochs : 6 Validation Accuracy : 0.3 Validation Loss 0.12067953330278397\n",
            "Epochs : 7 Train Accuracy : 0.3248324832483248 Train Loss 0.029741401886484577\n",
            "Epochs : 7 Validation Accuracy : 0.3075 Validation Loss 0.11825543385744094\n",
            "Epochs : 8 Train Accuracy : 0.32983298329832983 Train Loss 0.029321616525017673\n",
            "Epochs : 8 Validation Accuracy : 0.3145 Validation Loss 0.12033577489852905\n",
            "Epochs : 9 Train Accuracy : 0.34093409340934094 Train Loss 0.029142310672050024\n",
            "Epochs : 9 Validation Accuracy : 0.3305 Validation Loss 0.11637227034568787\n",
            "Epochs : 10 Train Accuracy : 0.3497349734973497 Train Loss 0.028709347706602172\n",
            "Epochs : 10 Validation Accuracy : 0.3215 Validation Loss 0.12048562669754029\n",
            "Training Finished !!\n"
          ]
        },
        {
          "data": {
            "application/vnd.jupyter.widget-view+json": {
              "model_id": "2ecfed6e8bf24ee693a2d0a78370c440",
              "version_major": 2,
              "version_minor": 0
            },
            "text/plain": [
              "VBox(children=(Label(value='0.002 MB of 0.007 MB uploaded\\r'), FloatProgress(value=0.2828956706884315, max=1.0…"
            ]
          },
          "metadata": {},
          "output_type": "display_data"
        },
        {
          "data": {
            "text/html": [
              "<style>\n",
              "    table.wandb td:nth-child(1) { padding: 0 10px; text-align: left ; width: auto;} td:nth-child(2) {text-align: left ; width: 100%}\n",
              "    .wandb-row { display: flex; flex-direction: row; flex-wrap: wrap; justify-content: flex-start; width: 100% }\n",
              "    .wandb-col { display: flex; flex-direction: column; flex-basis: 100%; flex: 1; padding: 10px; }\n",
              "    </style>\n",
              "<div class=\"wandb-row\"><div class=\"wandb-col\"><h3>Run history:</h3><br/><table class=\"wandb\"><tr><td>train_accuracy</td><td>▁▄▅▆▆▇▇▇██</td></tr><tr><td>train_loss</td><td>█▆▅▄▃▃▂▂▂▁</td></tr><tr><td>val_accuracy</td><td>▁▃▅▅▆▆▆▇█▇</td></tr><tr><td>val_error</td><td>█▇▅▄▃▃▂▃▁▃</td></tr></table><br/></div><div class=\"wandb-col\"><h3>Run summary:</h3><br/><table class=\"wandb\"><tr><td>train_accuracy</td><td>0.34973</td></tr><tr><td>train_loss</td><td>0.02871</td></tr><tr><td>val_accuracy</td><td>0.3215</td></tr><tr><td>val_error</td><td>0.12049</td></tr></table><br/></div></div>"
            ],
            "text/plain": [
              "<IPython.core.display.HTML object>"
            ]
          },
          "metadata": {},
          "output_type": "display_data"
        },
        {
          "data": {
            "text/html": [
              " View run <strong style=\"color:#cdcd00\">stoic-sweep-11</strong> at: <a href='https://wandb.ai/ge23m018/dl_ge23m18/runs/susznadv' target=\"_blank\">https://wandb.ai/ge23m018/dl_ge23m18/runs/susznadv</a><br/> View project at: <a href='https://wandb.ai/ge23m018/dl_ge23m18' target=\"_blank\">https://wandb.ai/ge23m018/dl_ge23m18</a><br/>Synced 6 W&B file(s), 0 media file(s), 0 artifact file(s) and 0 other file(s)"
            ],
            "text/plain": [
              "<IPython.core.display.HTML object>"
            ]
          },
          "metadata": {},
          "output_type": "display_data"
        },
        {
          "data": {
            "text/html": [
              "Find logs at: <code>./wandb/run-20240409_185727-susznadv/logs</code>"
            ],
            "text/plain": [
              "<IPython.core.display.HTML object>"
            ]
          },
          "metadata": {},
          "output_type": "display_data"
        },
        {
          "name": "stderr",
          "output_type": "stream",
          "text": [
            "\u001b[34m\u001b[1mwandb\u001b[0m: Agent Starting Run: fhkn35ek with config:\n",
            "\u001b[34m\u001b[1mwandb\u001b[0m: \tactivation_func: Mish\n",
            "\u001b[34m\u001b[1mwandb\u001b[0m: \tdropout_factor: 0\n",
            "\u001b[34m\u001b[1mwandb\u001b[0m: \tepochs: 10\n",
            "\u001b[34m\u001b[1mwandb\u001b[0m: \tfilter_factor: 0.5\n",
            "\u001b[34m\u001b[1mwandb\u001b[0m: \tnum_filters: 64\n",
            "\u001b[34m\u001b[1mwandb\u001b[0m: \u001b[33mWARNING\u001b[0m Ignored wandb.init() arg project when running a sweep.\n"
          ]
        },
        {
          "data": {
            "text/html": [
              "Tracking run with wandb version 0.16.6"
            ],
            "text/plain": [
              "<IPython.core.display.HTML object>"
            ]
          },
          "metadata": {},
          "output_type": "display_data"
        },
        {
          "data": {
            "text/html": [
              "Run data is saved locally in <code>/home/ge22m009/Abdul/wandb/run-20240409_191615-fhkn35ek</code>"
            ],
            "text/plain": [
              "<IPython.core.display.HTML object>"
            ]
          },
          "metadata": {},
          "output_type": "display_data"
        },
        {
          "data": {
            "text/html": [
              "Syncing run <strong><a href='https://wandb.ai/ge23m018/dl_ge23m18/runs/fhkn35ek' target=\"_blank\">legendary-sweep-12</a></strong> to <a href='https://wandb.ai/ge23m018/dl_ge23m18' target=\"_blank\">Weights & Biases</a> (<a href='https://wandb.me/run' target=\"_blank\">docs</a>)<br/>Sweep page: <a href='https://wandb.ai/ge23m018/dl_ge23m18/sweeps/m9wnq4zl' target=\"_blank\">https://wandb.ai/ge23m018/dl_ge23m18/sweeps/m9wnq4zl</a>"
            ],
            "text/plain": [
              "<IPython.core.display.HTML object>"
            ]
          },
          "metadata": {},
          "output_type": "display_data"
        },
        {
          "data": {
            "text/html": [
              " View project at <a href='https://wandb.ai/ge23m018/dl_ge23m18' target=\"_blank\">https://wandb.ai/ge23m018/dl_ge23m18</a>"
            ],
            "text/plain": [
              "<IPython.core.display.HTML object>"
            ]
          },
          "metadata": {},
          "output_type": "display_data"
        },
        {
          "data": {
            "text/html": [
              " View sweep at <a href='https://wandb.ai/ge23m018/dl_ge23m18/sweeps/m9wnq4zl' target=\"_blank\">https://wandb.ai/ge23m018/dl_ge23m18/sweeps/m9wnq4zl</a>"
            ],
            "text/plain": [
              "<IPython.core.display.HTML object>"
            ]
          },
          "metadata": {},
          "output_type": "display_data"
        },
        {
          "data": {
            "text/html": [
              " View run at <a href='https://wandb.ai/ge23m018/dl_ge23m18/runs/fhkn35ek' target=\"_blank\">https://wandb.ai/ge23m018/dl_ge23m18/runs/fhkn35ek</a>"
            ],
            "text/plain": [
              "<IPython.core.display.HTML object>"
            ]
          },
          "metadata": {},
          "output_type": "display_data"
        },
        {
          "name": "stdout",
          "output_type": "stream",
          "text": [
            "train_path /home/ge22m009/inaturalist_12K/train/\n",
            "test_path /home/ge22m009/inaturalist_12K/val/\n",
            "Training dataset count :  9999\n",
            "Validation dataset count 2000\n",
            "Training the Model...\n",
            "Epochs : 1 Train Accuracy : 0.1777177717771777 Train Loss 0.03455349787174076\n",
            "Epochs : 1 Validation Accuracy : 0.235 Validation Loss 0.13091787087917328\n",
            "Epochs : 2 Train Accuracy : 0.2567256725672567 Train Loss 0.03206353224996496\n",
            "Epochs : 2 Validation Accuracy : 0.2605 Validation Loss 0.12641789454221725\n",
            "Epochs : 3 Train Accuracy : 0.27872787278727873 Train Loss 0.03114623431623405\n",
            "Epochs : 3 Validation Accuracy : 0.271 Validation Loss 0.1240523824095726\n",
            "Epochs : 4 Train Accuracy : 0.29792979297929795 Train Loss 0.030642847619494006\n",
            "Epochs : 4 Validation Accuracy : 0.291 Validation Loss 0.12230831587314606\n",
            "Epochs : 5 Train Accuracy : 0.30603060306030605 Train Loss 0.030186711305236206\n",
            "Epochs : 5 Validation Accuracy : 0.3095 Validation Loss 0.12047514468431472\n",
            "Epochs : 6 Train Accuracy : 0.3195319531953195 Train Loss 0.029755920741018956\n",
            "Epochs : 6 Validation Accuracy : 0.301 Validation Loss 0.12316929572820663\n",
            "Epochs : 7 Train Accuracy : 0.32953295329532956 Train Loss 0.02941116115691388\n",
            "Epochs : 7 Validation Accuracy : 0.3235 Validation Loss 0.11905081284046173\n",
            "Epochs : 8 Train Accuracy : 0.33913391339133914 Train Loss 0.029163861992430932\n",
            "Epochs : 8 Validation Accuracy : 0.3365 Validation Loss 0.11763949793577194\n",
            "Epochs : 9 Train Accuracy : 0.33933393339333934 Train Loss 0.028776005537870682\n",
            "Epochs : 9 Validation Accuracy : 0.3435 Validation Loss 0.11687143248319626\n",
            "Epochs : 10 Train Accuracy : 0.35223522352235226 Train Loss 0.028536469140688484\n",
            "Epochs : 10 Validation Accuracy : 0.34 Validation Loss 0.11750669360160827\n",
            "Training Finished !!\n"
          ]
        },
        {
          "data": {
            "application/vnd.jupyter.widget-view+json": {
              "model_id": "246cb892f761452dbee36ac021c552fe",
              "version_major": 2,
              "version_minor": 0
            },
            "text/plain": [
              "VBox(children=(Label(value='0.002 MB of 0.002 MB uploaded\\r'), FloatProgress(value=1.0, max=1.0)))"
            ]
          },
          "metadata": {},
          "output_type": "display_data"
        },
        {
          "data": {
            "text/html": [
              "<style>\n",
              "    table.wandb td:nth-child(1) { padding: 0 10px; text-align: left ; width: auto;} td:nth-child(2) {text-align: left ; width: 100%}\n",
              "    .wandb-row { display: flex; flex-direction: row; flex-wrap: wrap; justify-content: flex-start; width: 100% }\n",
              "    .wandb-col { display: flex; flex-direction: column; flex-basis: 100%; flex: 1; padding: 10px; }\n",
              "    </style>\n",
              "<div class=\"wandb-row\"><div class=\"wandb-col\"><h3>Run history:</h3><br/><table class=\"wandb\"><tr><td>train_accuracy</td><td>▁▄▅▆▆▇▇▇▇█</td></tr><tr><td>train_loss</td><td>█▅▄▃▃▂▂▂▁▁</td></tr><tr><td>val_accuracy</td><td>▁▃▃▅▆▅▇███</td></tr><tr><td>val_error</td><td>█▆▅▄▃▄▂▁▁▁</td></tr></table><br/></div><div class=\"wandb-col\"><h3>Run summary:</h3><br/><table class=\"wandb\"><tr><td>train_accuracy</td><td>0.35224</td></tr><tr><td>train_loss</td><td>0.02854</td></tr><tr><td>val_accuracy</td><td>0.34</td></tr><tr><td>val_error</td><td>0.11751</td></tr></table><br/></div></div>"
            ],
            "text/plain": [
              "<IPython.core.display.HTML object>"
            ]
          },
          "metadata": {},
          "output_type": "display_data"
        },
        {
          "data": {
            "text/html": [
              " View run <strong style=\"color:#cdcd00\">legendary-sweep-12</strong> at: <a href='https://wandb.ai/ge23m018/dl_ge23m18/runs/fhkn35ek' target=\"_blank\">https://wandb.ai/ge23m018/dl_ge23m18/runs/fhkn35ek</a><br/> View project at: <a href='https://wandb.ai/ge23m018/dl_ge23m18' target=\"_blank\">https://wandb.ai/ge23m018/dl_ge23m18</a><br/>Synced 6 W&B file(s), 0 media file(s), 0 artifact file(s) and 0 other file(s)"
            ],
            "text/plain": [
              "<IPython.core.display.HTML object>"
            ]
          },
          "metadata": {},
          "output_type": "display_data"
        },
        {
          "data": {
            "text/html": [
              "Find logs at: <code>./wandb/run-20240409_191615-fhkn35ek/logs</code>"
            ],
            "text/plain": [
              "<IPython.core.display.HTML object>"
            ]
          },
          "metadata": {},
          "output_type": "display_data"
        },
        {
          "name": "stderr",
          "output_type": "stream",
          "text": [
            "\u001b[34m\u001b[1mwandb\u001b[0m: Sweep Agent: Waiting for job.\n",
            "\u001b[34m\u001b[1mwandb\u001b[0m: Job received.\n",
            "\u001b[34m\u001b[1mwandb\u001b[0m: Agent Starting Run: uk8vk128 with config:\n",
            "\u001b[34m\u001b[1mwandb\u001b[0m: \tactivation_func: Mish\n",
            "\u001b[34m\u001b[1mwandb\u001b[0m: \tdropout_factor: 0\n",
            "\u001b[34m\u001b[1mwandb\u001b[0m: \tepochs: 10\n",
            "\u001b[34m\u001b[1mwandb\u001b[0m: \tfilter_factor: 0.5\n",
            "\u001b[34m\u001b[1mwandb\u001b[0m: \tnum_filters: 64\n",
            "\u001b[34m\u001b[1mwandb\u001b[0m: \u001b[33mWARNING\u001b[0m Ignored wandb.init() arg project when running a sweep.\n"
          ]
        },
        {
          "data": {
            "text/html": [
              "Tracking run with wandb version 0.16.6"
            ],
            "text/plain": [
              "<IPython.core.display.HTML object>"
            ]
          },
          "metadata": {},
          "output_type": "display_data"
        },
        {
          "data": {
            "text/html": [
              "Run data is saved locally in <code>/home/ge22m009/Abdul/wandb/run-20240409_193508-uk8vk128</code>"
            ],
            "text/plain": [
              "<IPython.core.display.HTML object>"
            ]
          },
          "metadata": {},
          "output_type": "display_data"
        },
        {
          "data": {
            "text/html": [
              "Syncing run <strong><a href='https://wandb.ai/ge23m018/dl_ge23m18/runs/uk8vk128' target=\"_blank\">deep-sweep-13</a></strong> to <a href='https://wandb.ai/ge23m018/dl_ge23m18' target=\"_blank\">Weights & Biases</a> (<a href='https://wandb.me/run' target=\"_blank\">docs</a>)<br/>Sweep page: <a href='https://wandb.ai/ge23m018/dl_ge23m18/sweeps/m9wnq4zl' target=\"_blank\">https://wandb.ai/ge23m018/dl_ge23m18/sweeps/m9wnq4zl</a>"
            ],
            "text/plain": [
              "<IPython.core.display.HTML object>"
            ]
          },
          "metadata": {},
          "output_type": "display_data"
        },
        {
          "data": {
            "text/html": [
              " View project at <a href='https://wandb.ai/ge23m018/dl_ge23m18' target=\"_blank\">https://wandb.ai/ge23m018/dl_ge23m18</a>"
            ],
            "text/plain": [
              "<IPython.core.display.HTML object>"
            ]
          },
          "metadata": {},
          "output_type": "display_data"
        },
        {
          "data": {
            "text/html": [
              " View sweep at <a href='https://wandb.ai/ge23m018/dl_ge23m18/sweeps/m9wnq4zl' target=\"_blank\">https://wandb.ai/ge23m018/dl_ge23m18/sweeps/m9wnq4zl</a>"
            ],
            "text/plain": [
              "<IPython.core.display.HTML object>"
            ]
          },
          "metadata": {},
          "output_type": "display_data"
        },
        {
          "data": {
            "text/html": [
              " View run at <a href='https://wandb.ai/ge23m018/dl_ge23m18/runs/uk8vk128' target=\"_blank\">https://wandb.ai/ge23m018/dl_ge23m18/runs/uk8vk128</a>"
            ],
            "text/plain": [
              "<IPython.core.display.HTML object>"
            ]
          },
          "metadata": {},
          "output_type": "display_data"
        },
        {
          "name": "stdout",
          "output_type": "stream",
          "text": [
            "train_path /home/ge22m009/inaturalist_12K/train/\n",
            "test_path /home/ge22m009/inaturalist_12K/val/\n",
            "Training dataset count :  9999\n",
            "Validation dataset count 2000\n",
            "Training the Model...\n",
            "Epochs : 1 Train Accuracy : 0.18011801180118012 Train Loss 0.034351924119299444\n",
            "Epochs : 1 Validation Accuracy : 0.234 Validation Loss 0.13061861097812652\n",
            "Epochs : 2 Train Accuracy : 0.2532253225322532 Train Loss 0.03215620009609909\n",
            "Epochs : 2 Validation Accuracy : 0.269 Validation Loss 0.1266668558716774\n",
            "Epochs : 3 Train Accuracy : 0.28072807280728074 Train Loss 0.03123890123244273\n",
            "Epochs : 3 Validation Accuracy : 0.295 Validation Loss 0.12441211920976639\n",
            "Epochs : 4 Train Accuracy : 0.30083008300830083 Train Loss 0.030776989842691546\n",
            "Epochs : 4 Validation Accuracy : 0.293 Validation Loss 0.12316382908821107\n",
            "Epochs : 5 Train Accuracy : 0.30853085308530853 Train Loss 0.030307141074252995\n",
            "Epochs : 5 Validation Accuracy : 0.292 Validation Loss 0.12048994785547257\n",
            "Epochs : 6 Train Accuracy : 0.31963196319631965 Train Loss 0.029935967172309272\n",
            "Epochs : 6 Validation Accuracy : 0.333 Validation Loss 0.11927418714761734\n",
            "Epochs : 7 Train Accuracy : 0.32713271327132715 Train Loss 0.029568641170738624\n",
            "Epochs : 7 Validation Accuracy : 0.325 Validation Loss 0.11969556444883346\n",
            "Epochs : 8 Train Accuracy : 0.3315331533153315 Train Loss 0.02924986290495352\n",
            "Epochs : 8 Validation Accuracy : 0.3465 Validation Loss 0.11725732088088989\n",
            "Epochs : 9 Train Accuracy : 0.33693369336933693 Train Loss 0.029057002911652096\n",
            "Epochs : 9 Validation Accuracy : 0.3395 Validation Loss 0.11691897124052048\n",
            "Epochs : 10 Train Accuracy : 0.3503350335033503 Train Loss 0.02870178151123523\n",
            "Epochs : 10 Validation Accuracy : 0.346 Validation Loss 0.11574846941232682\n",
            "Training Finished !!\n"
          ]
        },
        {
          "data": {
            "application/vnd.jupyter.widget-view+json": {
              "model_id": "f755239d1a2f465b80c667cecee6b754",
              "version_major": 2,
              "version_minor": 0
            },
            "text/plain": [
              "VBox(children=(Label(value='0.002 MB of 0.002 MB uploaded\\r'), FloatProgress(value=1.0, max=1.0)))"
            ]
          },
          "metadata": {},
          "output_type": "display_data"
        },
        {
          "data": {
            "text/html": [
              "<style>\n",
              "    table.wandb td:nth-child(1) { padding: 0 10px; text-align: left ; width: auto;} td:nth-child(2) {text-align: left ; width: 100%}\n",
              "    .wandb-row { display: flex; flex-direction: row; flex-wrap: wrap; justify-content: flex-start; width: 100% }\n",
              "    .wandb-col { display: flex; flex-direction: column; flex-basis: 100%; flex: 1; padding: 10px; }\n",
              "    </style>\n",
              "<div class=\"wandb-row\"><div class=\"wandb-col\"><h3>Run history:</h3><br/><table class=\"wandb\"><tr><td>train_accuracy</td><td>▁▄▅▆▆▇▇▇▇█</td></tr><tr><td>train_loss</td><td>█▅▄▄▃▃▂▂▁▁</td></tr><tr><td>val_accuracy</td><td>▁▃▅▅▅▇▇███</td></tr><tr><td>val_error</td><td>█▆▅▄▃▃▃▂▂▁</td></tr></table><br/></div><div class=\"wandb-col\"><h3>Run summary:</h3><br/><table class=\"wandb\"><tr><td>train_accuracy</td><td>0.35034</td></tr><tr><td>train_loss</td><td>0.0287</td></tr><tr><td>val_accuracy</td><td>0.346</td></tr><tr><td>val_error</td><td>0.11575</td></tr></table><br/></div></div>"
            ],
            "text/plain": [
              "<IPython.core.display.HTML object>"
            ]
          },
          "metadata": {},
          "output_type": "display_data"
        },
        {
          "data": {
            "text/html": [
              " View run <strong style=\"color:#cdcd00\">deep-sweep-13</strong> at: <a href='https://wandb.ai/ge23m018/dl_ge23m18/runs/uk8vk128' target=\"_blank\">https://wandb.ai/ge23m018/dl_ge23m18/runs/uk8vk128</a><br/> View project at: <a href='https://wandb.ai/ge23m018/dl_ge23m18' target=\"_blank\">https://wandb.ai/ge23m018/dl_ge23m18</a><br/>Synced 6 W&B file(s), 0 media file(s), 0 artifact file(s) and 0 other file(s)"
            ],
            "text/plain": [
              "<IPython.core.display.HTML object>"
            ]
          },
          "metadata": {},
          "output_type": "display_data"
        },
        {
          "data": {
            "text/html": [
              "Find logs at: <code>./wandb/run-20240409_193508-uk8vk128/logs</code>"
            ],
            "text/plain": [
              "<IPython.core.display.HTML object>"
            ]
          },
          "metadata": {},
          "output_type": "display_data"
        },
        {
          "name": "stderr",
          "output_type": "stream",
          "text": [
            "\u001b[34m\u001b[1mwandb\u001b[0m: Sweep Agent: Waiting for job.\n",
            "\u001b[34m\u001b[1mwandb\u001b[0m: Job received.\n",
            "\u001b[34m\u001b[1mwandb\u001b[0m: Agent Starting Run: 47kizmec with config:\n",
            "\u001b[34m\u001b[1mwandb\u001b[0m: \tactivation_func: Mish\n",
            "\u001b[34m\u001b[1mwandb\u001b[0m: \tdropout_factor: 0\n",
            "\u001b[34m\u001b[1mwandb\u001b[0m: \tepochs: 10\n",
            "\u001b[34m\u001b[1mwandb\u001b[0m: \tfilter_factor: 0.5\n",
            "\u001b[34m\u001b[1mwandb\u001b[0m: \tnum_filters: 64\n",
            "\u001b[34m\u001b[1mwandb\u001b[0m: \u001b[33mWARNING\u001b[0m Ignored wandb.init() arg project when running a sweep.\n"
          ]
        },
        {
          "data": {
            "text/html": [
              "Tracking run with wandb version 0.16.6"
            ],
            "text/plain": [
              "<IPython.core.display.HTML object>"
            ]
          },
          "metadata": {},
          "output_type": "display_data"
        },
        {
          "data": {
            "text/html": [
              "Run data is saved locally in <code>/home/ge22m009/Abdul/wandb/run-20240409_195415-47kizmec</code>"
            ],
            "text/plain": [
              "<IPython.core.display.HTML object>"
            ]
          },
          "metadata": {},
          "output_type": "display_data"
        },
        {
          "data": {
            "text/html": [
              "Syncing run <strong><a href='https://wandb.ai/ge23m018/dl_ge23m18/runs/47kizmec' target=\"_blank\">snowy-sweep-14</a></strong> to <a href='https://wandb.ai/ge23m018/dl_ge23m18' target=\"_blank\">Weights & Biases</a> (<a href='https://wandb.me/run' target=\"_blank\">docs</a>)<br/>Sweep page: <a href='https://wandb.ai/ge23m018/dl_ge23m18/sweeps/m9wnq4zl' target=\"_blank\">https://wandb.ai/ge23m018/dl_ge23m18/sweeps/m9wnq4zl</a>"
            ],
            "text/plain": [
              "<IPython.core.display.HTML object>"
            ]
          },
          "metadata": {},
          "output_type": "display_data"
        },
        {
          "data": {
            "text/html": [
              " View project at <a href='https://wandb.ai/ge23m018/dl_ge23m18' target=\"_blank\">https://wandb.ai/ge23m018/dl_ge23m18</a>"
            ],
            "text/plain": [
              "<IPython.core.display.HTML object>"
            ]
          },
          "metadata": {},
          "output_type": "display_data"
        },
        {
          "data": {
            "text/html": [
              " View sweep at <a href='https://wandb.ai/ge23m018/dl_ge23m18/sweeps/m9wnq4zl' target=\"_blank\">https://wandb.ai/ge23m018/dl_ge23m18/sweeps/m9wnq4zl</a>"
            ],
            "text/plain": [
              "<IPython.core.display.HTML object>"
            ]
          },
          "metadata": {},
          "output_type": "display_data"
        },
        {
          "data": {
            "text/html": [
              " View run at <a href='https://wandb.ai/ge23m018/dl_ge23m18/runs/47kizmec' target=\"_blank\">https://wandb.ai/ge23m018/dl_ge23m18/runs/47kizmec</a>"
            ],
            "text/plain": [
              "<IPython.core.display.HTML object>"
            ]
          },
          "metadata": {},
          "output_type": "display_data"
        },
        {
          "name": "stdout",
          "output_type": "stream",
          "text": [
            "train_path /home/ge22m009/inaturalist_12K/train/\n",
            "test_path /home/ge22m009/inaturalist_12K/val/\n",
            "Training dataset count :  9999\n",
            "Validation dataset count 2000\n",
            "Training the Model...\n",
            "Epochs : 1 Train Accuracy : 0.18141814181418142 Train Loss 0.034304478643226416\n",
            "Epochs : 1 Validation Accuracy : 0.2255 Validation Loss 0.13221981489658355\n",
            "Epochs : 2 Train Accuracy : 0.24932493249324933 Train Loss 0.03229819143852099\n",
            "Epochs : 2 Validation Accuracy : 0.239 Validation Loss 0.12863621270656586\n",
            "Epochs : 3 Train Accuracy : 0.2767276727672767 Train Loss 0.031578877363482506\n",
            "Epochs : 3 Validation Accuracy : 0.26 Validation Loss 0.12685519808530807\n",
            "Epochs : 4 Train Accuracy : 0.28472847284728475 Train Loss 0.031157090349404355\n",
            "Epochs : 4 Validation Accuracy : 0.2865 Validation Loss 0.12557556092739106\n",
            "Epochs : 5 Train Accuracy : 0.29812981298129815 Train Loss 0.03069427328379658\n",
            "Epochs : 5 Validation Accuracy : 0.2735 Validation Loss 0.12651025235652924\n",
            "Epochs : 6 Train Accuracy : 0.30703070307030705 Train Loss 0.030291173836984375\n",
            "Epochs : 6 Validation Accuracy : 0.266 Validation Loss 0.1268320622444153\n",
            "Epochs : 7 Train Accuracy : 0.31483148314831483 Train Loss 0.030031206119250076\n",
            "Epochs : 7 Validation Accuracy : 0.3075 Validation Loss 0.12288790267705918\n",
            "Epochs : 8 Train Accuracy : 0.3268326832683268 Train Loss 0.029553760742113487\n",
            "Epochs : 8 Validation Accuracy : 0.309 Validation Loss 0.12279037529230118\n",
            "Epochs : 9 Train Accuracy : 0.3341334133413341 Train Loss 0.029282001068930898\n",
            "Epochs : 9 Validation Accuracy : 0.319 Validation Loss 0.12138773673772812\n",
            "Epochs : 10 Train Accuracy : 0.3475347534753475 Train Loss 0.02900693882511954\n",
            "Epochs : 10 Validation Accuracy : 0.316 Validation Loss 0.12157294458150864\n",
            "Training Finished !!\n"
          ]
        },
        {
          "data": {
            "application/vnd.jupyter.widget-view+json": {
              "model_id": "604e5b1726a544de831ddd1590e35e3e",
              "version_major": 2,
              "version_minor": 0
            },
            "text/plain": [
              "VBox(children=(Label(value='0.002 MB of 0.013 MB uploaded\\r'), FloatProgress(value=0.15049056603773586, max=1.…"
            ]
          },
          "metadata": {},
          "output_type": "display_data"
        },
        {
          "data": {
            "text/html": [
              "<style>\n",
              "    table.wandb td:nth-child(1) { padding: 0 10px; text-align: left ; width: auto;} td:nth-child(2) {text-align: left ; width: 100%}\n",
              "    .wandb-row { display: flex; flex-direction: row; flex-wrap: wrap; justify-content: flex-start; width: 100% }\n",
              "    .wandb-col { display: flex; flex-direction: column; flex-basis: 100%; flex: 1; padding: 10px; }\n",
              "    </style>\n",
              "<div class=\"wandb-row\"><div class=\"wandb-col\"><h3>Run history:</h3><br/><table class=\"wandb\"><tr><td>train_accuracy</td><td>▁▄▅▅▆▆▇▇▇█</td></tr><tr><td>train_loss</td><td>█▅▄▄▃▃▂▂▁▁</td></tr><tr><td>val_accuracy</td><td>▁▂▄▆▅▄▇▇██</td></tr><tr><td>val_error</td><td>█▆▅▄▄▅▂▂▁▁</td></tr></table><br/></div><div class=\"wandb-col\"><h3>Run summary:</h3><br/><table class=\"wandb\"><tr><td>train_accuracy</td><td>0.34753</td></tr><tr><td>train_loss</td><td>0.02901</td></tr><tr><td>val_accuracy</td><td>0.316</td></tr><tr><td>val_error</td><td>0.12157</td></tr></table><br/></div></div>"
            ],
            "text/plain": [
              "<IPython.core.display.HTML object>"
            ]
          },
          "metadata": {},
          "output_type": "display_data"
        },
        {
          "data": {
            "text/html": [
              " View run <strong style=\"color:#cdcd00\">snowy-sweep-14</strong> at: <a href='https://wandb.ai/ge23m018/dl_ge23m18/runs/47kizmec' target=\"_blank\">https://wandb.ai/ge23m018/dl_ge23m18/runs/47kizmec</a><br/> View project at: <a href='https://wandb.ai/ge23m018/dl_ge23m18' target=\"_blank\">https://wandb.ai/ge23m018/dl_ge23m18</a><br/>Synced 6 W&B file(s), 0 media file(s), 0 artifact file(s) and 0 other file(s)"
            ],
            "text/plain": [
              "<IPython.core.display.HTML object>"
            ]
          },
          "metadata": {},
          "output_type": "display_data"
        },
        {
          "data": {
            "text/html": [
              "Find logs at: <code>./wandb/run-20240409_195415-47kizmec/logs</code>"
            ],
            "text/plain": [
              "<IPython.core.display.HTML object>"
            ]
          },
          "metadata": {},
          "output_type": "display_data"
        },
        {
          "name": "stderr",
          "output_type": "stream",
          "text": [
            "\u001b[34m\u001b[1mwandb\u001b[0m: Agent Starting Run: 4r4utvi0 with config:\n",
            "\u001b[34m\u001b[1mwandb\u001b[0m: \tactivation_func: Mish\n",
            "\u001b[34m\u001b[1mwandb\u001b[0m: \tdropout_factor: 0\n",
            "\u001b[34m\u001b[1mwandb\u001b[0m: \tepochs: 10\n",
            "\u001b[34m\u001b[1mwandb\u001b[0m: \tfilter_factor: 0.5\n",
            "\u001b[34m\u001b[1mwandb\u001b[0m: \tnum_filters: 64\n",
            "\u001b[34m\u001b[1mwandb\u001b[0m: \u001b[33mWARNING\u001b[0m Ignored wandb.init() arg project when running a sweep.\n"
          ]
        },
        {
          "data": {
            "text/html": [
              "Tracking run with wandb version 0.16.6"
            ],
            "text/plain": [
              "<IPython.core.display.HTML object>"
            ]
          },
          "metadata": {},
          "output_type": "display_data"
        },
        {
          "data": {
            "text/html": [
              "Run data is saved locally in <code>/home/ge22m009/Abdul/wandb/run-20240409_201321-4r4utvi0</code>"
            ],
            "text/plain": [
              "<IPython.core.display.HTML object>"
            ]
          },
          "metadata": {},
          "output_type": "display_data"
        },
        {
          "data": {
            "text/html": [
              "Syncing run <strong><a href='https://wandb.ai/ge23m018/dl_ge23m18/runs/4r4utvi0' target=\"_blank\">elated-sweep-15</a></strong> to <a href='https://wandb.ai/ge23m018/dl_ge23m18' target=\"_blank\">Weights & Biases</a> (<a href='https://wandb.me/run' target=\"_blank\">docs</a>)<br/>Sweep page: <a href='https://wandb.ai/ge23m018/dl_ge23m18/sweeps/m9wnq4zl' target=\"_blank\">https://wandb.ai/ge23m018/dl_ge23m18/sweeps/m9wnq4zl</a>"
            ],
            "text/plain": [
              "<IPython.core.display.HTML object>"
            ]
          },
          "metadata": {},
          "output_type": "display_data"
        },
        {
          "data": {
            "text/html": [
              " View project at <a href='https://wandb.ai/ge23m018/dl_ge23m18' target=\"_blank\">https://wandb.ai/ge23m018/dl_ge23m18</a>"
            ],
            "text/plain": [
              "<IPython.core.display.HTML object>"
            ]
          },
          "metadata": {},
          "output_type": "display_data"
        },
        {
          "data": {
            "text/html": [
              " View sweep at <a href='https://wandb.ai/ge23m018/dl_ge23m18/sweeps/m9wnq4zl' target=\"_blank\">https://wandb.ai/ge23m018/dl_ge23m18/sweeps/m9wnq4zl</a>"
            ],
            "text/plain": [
              "<IPython.core.display.HTML object>"
            ]
          },
          "metadata": {},
          "output_type": "display_data"
        },
        {
          "data": {
            "text/html": [
              " View run at <a href='https://wandb.ai/ge23m018/dl_ge23m18/runs/4r4utvi0' target=\"_blank\">https://wandb.ai/ge23m018/dl_ge23m18/runs/4r4utvi0</a>"
            ],
            "text/plain": [
              "<IPython.core.display.HTML object>"
            ]
          },
          "metadata": {},
          "output_type": "display_data"
        },
        {
          "name": "stdout",
          "output_type": "stream",
          "text": [
            "train_path /home/ge22m009/inaturalist_12K/train/\n",
            "test_path /home/ge22m009/inaturalist_12K/val/\n",
            "Training dataset count :  9999\n",
            "Validation dataset count 2000\n",
            "Training the Model...\n",
            "Epochs : 1 Train Accuracy : 0.19141914191419143 Train Loss 0.03425787893435111\n",
            "Epochs : 1 Validation Accuracy : 0.2505 Validation Loss 0.13035054510831834\n",
            "Epochs : 2 Train Accuracy : 0.2575257525752575 Train Loss 0.03217200916258618\n",
            "Epochs : 2 Validation Accuracy : 0.2645 Validation Loss 0.1273150488138199\n",
            "Epochs : 3 Train Accuracy : 0.28742874287428744 Train Loss 0.03133201622965336\n",
            "Epochs : 3 Validation Accuracy : 0.269 Validation Loss 0.12605319041013718\n",
            "Epochs : 4 Train Accuracy : 0.28902890289028904 Train Loss 0.03093424370579987\n",
            "Epochs : 4 Validation Accuracy : 0.302 Validation Loss 0.12335139524936677\n",
            "Epochs : 5 Train Accuracy : 0.3051305130513051 Train Loss 0.03047267673420708\n",
            "Epochs : 5 Validation Accuracy : 0.3 Validation Loss 0.121554458796978\n",
            "Epochs : 6 Train Accuracy : 0.31763176317631764 Train Loss 0.030111346987321718\n",
            "Epochs : 6 Validation Accuracy : 0.333 Validation Loss 0.11956694823503494\n",
            "Epochs : 7 Train Accuracy : 0.32793279327932795 Train Loss 0.029673917089203427\n",
            "Epochs : 7 Validation Accuracy : 0.326 Validation Loss 0.11943305349349975\n",
            "Epochs : 8 Train Accuracy : 0.34443444344434443 Train Loss 0.029273829897447447\n",
            "Epochs : 8 Validation Accuracy : 0.3215 Validation Loss 0.11971360552310943\n",
            "Epochs : 9 Train Accuracy : 0.34823482348234824 Train Loss 0.028917609387510406\n",
            "Epochs : 9 Validation Accuracy : 0.3395 Validation Loss 0.11797717934846878\n",
            "Epochs : 10 Train Accuracy : 0.3544354435443544 Train Loss 0.028679950497891737\n",
            "Epochs : 10 Validation Accuracy : 0.3415 Validation Loss 0.11637418550252915\n",
            "Training Finished !!\n"
          ]
        },
        {
          "data": {
            "application/vnd.jupyter.widget-view+json": {
              "model_id": "757828c3880e41df82f1d5156140cc12",
              "version_major": 2,
              "version_minor": 0
            },
            "text/plain": [
              "VBox(children=(Label(value='0.002 MB of 0.007 MB uploaded\\r'), FloatProgress(value=0.2830376153300213, max=1.0…"
            ]
          },
          "metadata": {},
          "output_type": "display_data"
        },
        {
          "data": {
            "text/html": [
              "<style>\n",
              "    table.wandb td:nth-child(1) { padding: 0 10px; text-align: left ; width: auto;} td:nth-child(2) {text-align: left ; width: 100%}\n",
              "    .wandb-row { display: flex; flex-direction: row; flex-wrap: wrap; justify-content: flex-start; width: 100% }\n",
              "    .wandb-col { display: flex; flex-direction: column; flex-basis: 100%; flex: 1; padding: 10px; }\n",
              "    </style>\n",
              "<div class=\"wandb-row\"><div class=\"wandb-col\"><h3>Run history:</h3><br/><table class=\"wandb\"><tr><td>train_accuracy</td><td>▁▄▅▅▆▆▇███</td></tr><tr><td>train_loss</td><td>█▅▄▄▃▃▂▂▁▁</td></tr><tr><td>val_accuracy</td><td>▁▂▂▅▅▇▇▆██</td></tr><tr><td>val_error</td><td>█▆▆▄▄▃▃▃▂▁</td></tr></table><br/></div><div class=\"wandb-col\"><h3>Run summary:</h3><br/><table class=\"wandb\"><tr><td>train_accuracy</td><td>0.35444</td></tr><tr><td>train_loss</td><td>0.02868</td></tr><tr><td>val_accuracy</td><td>0.3415</td></tr><tr><td>val_error</td><td>0.11637</td></tr></table><br/></div></div>"
            ],
            "text/plain": [
              "<IPython.core.display.HTML object>"
            ]
          },
          "metadata": {},
          "output_type": "display_data"
        },
        {
          "data": {
            "text/html": [
              " View run <strong style=\"color:#cdcd00\">elated-sweep-15</strong> at: <a href='https://wandb.ai/ge23m018/dl_ge23m18/runs/4r4utvi0' target=\"_blank\">https://wandb.ai/ge23m018/dl_ge23m18/runs/4r4utvi0</a><br/> View project at: <a href='https://wandb.ai/ge23m018/dl_ge23m18' target=\"_blank\">https://wandb.ai/ge23m018/dl_ge23m18</a><br/>Synced 6 W&B file(s), 0 media file(s), 0 artifact file(s) and 0 other file(s)"
            ],
            "text/plain": [
              "<IPython.core.display.HTML object>"
            ]
          },
          "metadata": {},
          "output_type": "display_data"
        },
        {
          "data": {
            "text/html": [
              "Find logs at: <code>./wandb/run-20240409_201321-4r4utvi0/logs</code>"
            ],
            "text/plain": [
              "<IPython.core.display.HTML object>"
            ]
          },
          "metadata": {},
          "output_type": "display_data"
        },
        {
          "name": "stderr",
          "output_type": "stream",
          "text": [
            "\u001b[34m\u001b[1mwandb\u001b[0m: Sweep Agent: Waiting for job.\n",
            "\u001b[34m\u001b[1mwandb\u001b[0m: Job received.\n",
            "\u001b[34m\u001b[1mwandb\u001b[0m: Agent Starting Run: 2a8ahb0l with config:\n",
            "\u001b[34m\u001b[1mwandb\u001b[0m: \tactivation_func: Mish\n",
            "\u001b[34m\u001b[1mwandb\u001b[0m: \tdropout_factor: 0\n",
            "\u001b[34m\u001b[1mwandb\u001b[0m: \tepochs: 10\n",
            "\u001b[34m\u001b[1mwandb\u001b[0m: \tfilter_factor: 0.5\n",
            "\u001b[34m\u001b[1mwandb\u001b[0m: \tnum_filters: 64\n",
            "\u001b[34m\u001b[1mwandb\u001b[0m: \u001b[33mWARNING\u001b[0m Ignored wandb.init() arg project when running a sweep.\n"
          ]
        },
        {
          "data": {
            "text/html": [
              "Tracking run with wandb version 0.16.6"
            ],
            "text/plain": [
              "<IPython.core.display.HTML object>"
            ]
          },
          "metadata": {},
          "output_type": "display_data"
        },
        {
          "data": {
            "text/html": [
              "Run data is saved locally in <code>/home/ge22m009/Abdul/wandb/run-20240409_203226-2a8ahb0l</code>"
            ],
            "text/plain": [
              "<IPython.core.display.HTML object>"
            ]
          },
          "metadata": {},
          "output_type": "display_data"
        },
        {
          "data": {
            "text/html": [
              "Syncing run <strong><a href='https://wandb.ai/ge23m018/dl_ge23m18/runs/2a8ahb0l' target=\"_blank\">deep-sweep-16</a></strong> to <a href='https://wandb.ai/ge23m018/dl_ge23m18' target=\"_blank\">Weights & Biases</a> (<a href='https://wandb.me/run' target=\"_blank\">docs</a>)<br/>Sweep page: <a href='https://wandb.ai/ge23m018/dl_ge23m18/sweeps/m9wnq4zl' target=\"_blank\">https://wandb.ai/ge23m018/dl_ge23m18/sweeps/m9wnq4zl</a>"
            ],
            "text/plain": [
              "<IPython.core.display.HTML object>"
            ]
          },
          "metadata": {},
          "output_type": "display_data"
        },
        {
          "data": {
            "text/html": [
              " View project at <a href='https://wandb.ai/ge23m018/dl_ge23m18' target=\"_blank\">https://wandb.ai/ge23m018/dl_ge23m18</a>"
            ],
            "text/plain": [
              "<IPython.core.display.HTML object>"
            ]
          },
          "metadata": {},
          "output_type": "display_data"
        },
        {
          "data": {
            "text/html": [
              " View sweep at <a href='https://wandb.ai/ge23m018/dl_ge23m18/sweeps/m9wnq4zl' target=\"_blank\">https://wandb.ai/ge23m018/dl_ge23m18/sweeps/m9wnq4zl</a>"
            ],
            "text/plain": [
              "<IPython.core.display.HTML object>"
            ]
          },
          "metadata": {},
          "output_type": "display_data"
        },
        {
          "data": {
            "text/html": [
              " View run at <a href='https://wandb.ai/ge23m018/dl_ge23m18/runs/2a8ahb0l' target=\"_blank\">https://wandb.ai/ge23m018/dl_ge23m18/runs/2a8ahb0l</a>"
            ],
            "text/plain": [
              "<IPython.core.display.HTML object>"
            ]
          },
          "metadata": {},
          "output_type": "display_data"
        },
        {
          "name": "stdout",
          "output_type": "stream",
          "text": [
            "train_path /home/ge22m009/inaturalist_12K/train/\n",
            "test_path /home/ge22m009/inaturalist_12K/val/\n",
            "Training dataset count :  9999\n",
            "Validation dataset count 2000\n",
            "Training the Model...\n",
            "Epochs : 1 Train Accuracy : 0.1793179317931793 Train Loss 0.034446962905747974\n",
            "Epochs : 1 Validation Accuracy : 0.2315 Validation Loss 0.13138460713624955\n",
            "Epochs : 2 Train Accuracy : 0.2609260926092609 Train Loss 0.03192033128912943\n",
            "Epochs : 2 Validation Accuracy : 0.2885 Validation Loss 0.12552798914909363\n",
            "Epochs : 3 Train Accuracy : 0.29692969296929694 Train Loss 0.030902993906759144\n",
            "Epochs : 3 Validation Accuracy : 0.291 Validation Loss 0.12349627524614334\n",
            "Epochs : 4 Train Accuracy : 0.31273127312731275 Train Loss 0.030193346418706354\n",
            "Epochs : 4 Validation Accuracy : 0.3025 Validation Loss 0.12029150086641312\n",
            "Epochs : 5 Train Accuracy : 0.31983198319831985 Train Loss 0.03003359264177684\n",
            "Epochs : 5 Validation Accuracy : 0.304 Validation Loss 0.12261355173587798\n",
            "Epochs : 6 Train Accuracy : 0.33483348334833485 Train Loss 0.02949719970757299\n",
            "Epochs : 6 Validation Accuracy : 0.331 Validation Loss 0.11913565242290497\n",
            "Epochs : 7 Train Accuracy : 0.3436343634363436 Train Loss 0.029122217939739074\n",
            "Epochs : 7 Validation Accuracy : 0.3195 Validation Loss 0.11981166213750839\n",
            "Epochs : 8 Train Accuracy : 0.354035403540354 Train Loss 0.028740155338013048\n",
            "Epochs : 8 Validation Accuracy : 0.338 Validation Loss 0.11770504331588745\n",
            "Epochs : 9 Train Accuracy : 0.35433543354335434 Train Loss 0.028523736994842824\n",
            "Epochs : 9 Validation Accuracy : 0.333 Validation Loss 0.12005183511972427\n",
            "Epochs : 10 Train Accuracy : 0.3698369836983698 Train Loss 0.02816583676533242\n",
            "Epochs : 10 Validation Accuracy : 0.326 Validation Loss 0.11823483777046204\n",
            "Training Finished !!\n"
          ]
        },
        {
          "data": {
            "application/vnd.jupyter.widget-view+json": {
              "model_id": "4cfbf1e3db43429784f60f0a1164f524",
              "version_major": 2,
              "version_minor": 0
            },
            "text/plain": [
              "VBox(children=(Label(value='0.002 MB of 0.002 MB uploaded\\r'), FloatProgress(value=1.0, max=1.0)))"
            ]
          },
          "metadata": {},
          "output_type": "display_data"
        },
        {
          "data": {
            "text/html": [
              "<style>\n",
              "    table.wandb td:nth-child(1) { padding: 0 10px; text-align: left ; width: auto;} td:nth-child(2) {text-align: left ; width: 100%}\n",
              "    .wandb-row { display: flex; flex-direction: row; flex-wrap: wrap; justify-content: flex-start; width: 100% }\n",
              "    .wandb-col { display: flex; flex-direction: column; flex-basis: 100%; flex: 1; padding: 10px; }\n",
              "    </style>\n",
              "<div class=\"wandb-row\"><div class=\"wandb-col\"><h3>Run history:</h3><br/><table class=\"wandb\"><tr><td>train_accuracy</td><td>▁▄▅▆▆▇▇▇▇█</td></tr><tr><td>train_loss</td><td>█▅▄▃▃▂▂▂▁▁</td></tr><tr><td>val_accuracy</td><td>▁▅▅▆▆█▇██▇</td></tr><tr><td>val_error</td><td>█▅▄▂▄▂▂▁▂▁</td></tr></table><br/></div><div class=\"wandb-col\"><h3>Run summary:</h3><br/><table class=\"wandb\"><tr><td>train_accuracy</td><td>0.36984</td></tr><tr><td>train_loss</td><td>0.02817</td></tr><tr><td>val_accuracy</td><td>0.326</td></tr><tr><td>val_error</td><td>0.11823</td></tr></table><br/></div></div>"
            ],
            "text/plain": [
              "<IPython.core.display.HTML object>"
            ]
          },
          "metadata": {},
          "output_type": "display_data"
        },
        {
          "data": {
            "text/html": [
              " View run <strong style=\"color:#cdcd00\">deep-sweep-16</strong> at: <a href='https://wandb.ai/ge23m018/dl_ge23m18/runs/2a8ahb0l' target=\"_blank\">https://wandb.ai/ge23m018/dl_ge23m18/runs/2a8ahb0l</a><br/> View project at: <a href='https://wandb.ai/ge23m018/dl_ge23m18' target=\"_blank\">https://wandb.ai/ge23m018/dl_ge23m18</a><br/>Synced 6 W&B file(s), 0 media file(s), 0 artifact file(s) and 0 other file(s)"
            ],
            "text/plain": [
              "<IPython.core.display.HTML object>"
            ]
          },
          "metadata": {},
          "output_type": "display_data"
        },
        {
          "data": {
            "text/html": [
              "Find logs at: <code>./wandb/run-20240409_203226-2a8ahb0l/logs</code>"
            ],
            "text/plain": [
              "<IPython.core.display.HTML object>"
            ]
          },
          "metadata": {},
          "output_type": "display_data"
        },
        {
          "name": "stderr",
          "output_type": "stream",
          "text": [
            "\u001b[34m\u001b[1mwandb\u001b[0m: Agent Starting Run: vrwv06mu with config:\n",
            "\u001b[34m\u001b[1mwandb\u001b[0m: \tactivation_func: Mish\n",
            "\u001b[34m\u001b[1mwandb\u001b[0m: \tdropout_factor: 0\n",
            "\u001b[34m\u001b[1mwandb\u001b[0m: \tepochs: 10\n",
            "\u001b[34m\u001b[1mwandb\u001b[0m: \tfilter_factor: 0.5\n",
            "\u001b[34m\u001b[1mwandb\u001b[0m: \tnum_filters: 64\n",
            "\u001b[34m\u001b[1mwandb\u001b[0m: \u001b[33mWARNING\u001b[0m Ignored wandb.init() arg project when running a sweep.\n"
          ]
        },
        {
          "data": {
            "text/html": [
              "Tracking run with wandb version 0.16.6"
            ],
            "text/plain": [
              "<IPython.core.display.HTML object>"
            ]
          },
          "metadata": {},
          "output_type": "display_data"
        },
        {
          "data": {
            "text/html": [
              "Run data is saved locally in <code>/home/ge22m009/Abdul/wandb/run-20240409_205133-vrwv06mu</code>"
            ],
            "text/plain": [
              "<IPython.core.display.HTML object>"
            ]
          },
          "metadata": {},
          "output_type": "display_data"
        },
        {
          "data": {
            "text/html": [
              "Syncing run <strong><a href='https://wandb.ai/ge23m018/dl_ge23m18/runs/vrwv06mu' target=\"_blank\">rural-sweep-17</a></strong> to <a href='https://wandb.ai/ge23m018/dl_ge23m18' target=\"_blank\">Weights & Biases</a> (<a href='https://wandb.me/run' target=\"_blank\">docs</a>)<br/>Sweep page: <a href='https://wandb.ai/ge23m018/dl_ge23m18/sweeps/m9wnq4zl' target=\"_blank\">https://wandb.ai/ge23m018/dl_ge23m18/sweeps/m9wnq4zl</a>"
            ],
            "text/plain": [
              "<IPython.core.display.HTML object>"
            ]
          },
          "metadata": {},
          "output_type": "display_data"
        },
        {
          "data": {
            "text/html": [
              " View project at <a href='https://wandb.ai/ge23m018/dl_ge23m18' target=\"_blank\">https://wandb.ai/ge23m018/dl_ge23m18</a>"
            ],
            "text/plain": [
              "<IPython.core.display.HTML object>"
            ]
          },
          "metadata": {},
          "output_type": "display_data"
        },
        {
          "data": {
            "text/html": [
              " View sweep at <a href='https://wandb.ai/ge23m018/dl_ge23m18/sweeps/m9wnq4zl' target=\"_blank\">https://wandb.ai/ge23m018/dl_ge23m18/sweeps/m9wnq4zl</a>"
            ],
            "text/plain": [
              "<IPython.core.display.HTML object>"
            ]
          },
          "metadata": {},
          "output_type": "display_data"
        },
        {
          "data": {
            "text/html": [
              " View run at <a href='https://wandb.ai/ge23m018/dl_ge23m18/runs/vrwv06mu' target=\"_blank\">https://wandb.ai/ge23m018/dl_ge23m18/runs/vrwv06mu</a>"
            ],
            "text/plain": [
              "<IPython.core.display.HTML object>"
            ]
          },
          "metadata": {},
          "output_type": "display_data"
        },
        {
          "name": "stdout",
          "output_type": "stream",
          "text": [
            "train_path /home/ge22m009/inaturalist_12K/train/\n",
            "test_path /home/ge22m009/inaturalist_12K/val/\n",
            "Training dataset count :  9999\n",
            "Validation dataset count 2000\n",
            "Training the Model...\n",
            "Epochs : 1 Train Accuracy : 0.1772177217721772 Train Loss 0.034633735785878694\n",
            "Epochs : 1 Validation Accuracy : 0.2475 Validation Loss 0.131701804459095\n",
            "Epochs : 2 Train Accuracy : 0.23982398239823982 Train Loss 0.032716563909408365\n",
            "Epochs : 2 Validation Accuracy : 0.264 Validation Loss 0.12802961975336075\n",
            "Epochs : 3 Train Accuracy : 0.2711271127112711 Train Loss 0.03152234745760037\n",
            "Epochs : 3 Validation Accuracy : 0.295 Validation Loss 0.1243290234208107\n",
            "Epochs : 4 Train Accuracy : 0.2956295629562956 Train Loss 0.030751454828977464\n",
            "Epochs : 4 Validation Accuracy : 0.3095 Validation Loss 0.12111704230308533\n",
            "Epochs : 5 Train Accuracy : 0.3177317731773177 Train Loss 0.030127419079646\n",
            "Epochs : 5 Validation Accuracy : 0.3145 Validation Loss 0.12078350496292115\n",
            "Epochs : 6 Train Accuracy : 0.3246324632463246 Train Loss 0.029819084425093664\n",
            "Epochs : 6 Validation Accuracy : 0.3325 Validation Loss 0.11824909090995789\n",
            "Epochs : 7 Train Accuracy : 0.33973397339733974 Train Loss 0.029300562214023985\n",
            "Epochs : 7 Validation Accuracy : 0.3265 Validation Loss 0.11796102917194366\n",
            "Epochs : 8 Train Accuracy : 0.34583458345834583 Train Loss 0.028924292296764315\n",
            "Epochs : 8 Validation Accuracy : 0.324 Validation Loss 0.11763211876153946\n",
            "Epochs : 9 Train Accuracy : 0.34843484348434844 Train Loss 0.028638917906950303\n",
            "Epochs : 9 Validation Accuracy : 0.3315 Validation Loss 0.1192304437160492\n",
            "Epochs : 10 Train Accuracy : 0.35553555355535554 Train Loss 0.02835082855209349\n",
            "Epochs : 10 Validation Accuracy : 0.358 Validation Loss 0.11457651358842849\n",
            "Training Finished !!\n"
          ]
        },
        {
          "data": {
            "application/vnd.jupyter.widget-view+json": {
              "model_id": "fc64994801bd422f89d3c548e8f919f4",
              "version_major": 2,
              "version_minor": 0
            },
            "text/plain": [
              "VBox(children=(Label(value='0.002 MB of 0.002 MB uploaded\\r'), FloatProgress(value=1.0, max=1.0)))"
            ]
          },
          "metadata": {},
          "output_type": "display_data"
        },
        {
          "data": {
            "text/html": [
              "<style>\n",
              "    table.wandb td:nth-child(1) { padding: 0 10px; text-align: left ; width: auto;} td:nth-child(2) {text-align: left ; width: 100%}\n",
              "    .wandb-row { display: flex; flex-direction: row; flex-wrap: wrap; justify-content: flex-start; width: 100% }\n",
              "    .wandb-col { display: flex; flex-direction: column; flex-basis: 100%; flex: 1; padding: 10px; }\n",
              "    </style>\n",
              "<div class=\"wandb-row\"><div class=\"wandb-col\"><h3>Run history:</h3><br/><table class=\"wandb\"><tr><td>train_accuracy</td><td>▁▃▅▆▇▇▇███</td></tr><tr><td>train_loss</td><td>█▆▅▄▃▃▂▂▁▁</td></tr><tr><td>val_accuracy</td><td>▁▂▄▅▅▆▆▆▆█</td></tr><tr><td>val_error</td><td>█▆▅▄▄▃▂▂▃▁</td></tr></table><br/></div><div class=\"wandb-col\"><h3>Run summary:</h3><br/><table class=\"wandb\"><tr><td>train_accuracy</td><td>0.35554</td></tr><tr><td>train_loss</td><td>0.02835</td></tr><tr><td>val_accuracy</td><td>0.358</td></tr><tr><td>val_error</td><td>0.11458</td></tr></table><br/></div></div>"
            ],
            "text/plain": [
              "<IPython.core.display.HTML object>"
            ]
          },
          "metadata": {},
          "output_type": "display_data"
        },
        {
          "data": {
            "text/html": [
              " View run <strong style=\"color:#cdcd00\">rural-sweep-17</strong> at: <a href='https://wandb.ai/ge23m018/dl_ge23m18/runs/vrwv06mu' target=\"_blank\">https://wandb.ai/ge23m018/dl_ge23m18/runs/vrwv06mu</a><br/> View project at: <a href='https://wandb.ai/ge23m018/dl_ge23m18' target=\"_blank\">https://wandb.ai/ge23m018/dl_ge23m18</a><br/>Synced 6 W&B file(s), 0 media file(s), 0 artifact file(s) and 0 other file(s)"
            ],
            "text/plain": [
              "<IPython.core.display.HTML object>"
            ]
          },
          "metadata": {},
          "output_type": "display_data"
        },
        {
          "data": {
            "text/html": [
              "Find logs at: <code>./wandb/run-20240409_205133-vrwv06mu/logs</code>"
            ],
            "text/plain": [
              "<IPython.core.display.HTML object>"
            ]
          },
          "metadata": {},
          "output_type": "display_data"
        },
        {
          "name": "stderr",
          "output_type": "stream",
          "text": [
            "\u001b[34m\u001b[1mwandb\u001b[0m: Sweep Agent: Waiting for job.\n",
            "\u001b[34m\u001b[1mwandb\u001b[0m: Job received.\n",
            "\u001b[34m\u001b[1mwandb\u001b[0m: Agent Starting Run: tmci7i02 with config:\n",
            "\u001b[34m\u001b[1mwandb\u001b[0m: \tactivation_func: Mish\n",
            "\u001b[34m\u001b[1mwandb\u001b[0m: \tdropout_factor: 0\n",
            "\u001b[34m\u001b[1mwandb\u001b[0m: \tepochs: 10\n",
            "\u001b[34m\u001b[1mwandb\u001b[0m: \tfilter_factor: 0.5\n",
            "\u001b[34m\u001b[1mwandb\u001b[0m: \tnum_filters: 64\n",
            "\u001b[34m\u001b[1mwandb\u001b[0m: \u001b[33mWARNING\u001b[0m Ignored wandb.init() arg project when running a sweep.\n"
          ]
        },
        {
          "data": {
            "text/html": [
              "Tracking run with wandb version 0.16.6"
            ],
            "text/plain": [
              "<IPython.core.display.HTML object>"
            ]
          },
          "metadata": {},
          "output_type": "display_data"
        },
        {
          "data": {
            "text/html": [
              "Run data is saved locally in <code>/home/ge22m009/Abdul/wandb/run-20240409_211049-tmci7i02</code>"
            ],
            "text/plain": [
              "<IPython.core.display.HTML object>"
            ]
          },
          "metadata": {},
          "output_type": "display_data"
        },
        {
          "data": {
            "text/html": [
              "Syncing run <strong><a href='https://wandb.ai/ge23m018/dl_ge23m18/runs/tmci7i02' target=\"_blank\">volcanic-sweep-18</a></strong> to <a href='https://wandb.ai/ge23m018/dl_ge23m18' target=\"_blank\">Weights & Biases</a> (<a href='https://wandb.me/run' target=\"_blank\">docs</a>)<br/>Sweep page: <a href='https://wandb.ai/ge23m018/dl_ge23m18/sweeps/m9wnq4zl' target=\"_blank\">https://wandb.ai/ge23m018/dl_ge23m18/sweeps/m9wnq4zl</a>"
            ],
            "text/plain": [
              "<IPython.core.display.HTML object>"
            ]
          },
          "metadata": {},
          "output_type": "display_data"
        },
        {
          "data": {
            "text/html": [
              " View project at <a href='https://wandb.ai/ge23m018/dl_ge23m18' target=\"_blank\">https://wandb.ai/ge23m018/dl_ge23m18</a>"
            ],
            "text/plain": [
              "<IPython.core.display.HTML object>"
            ]
          },
          "metadata": {},
          "output_type": "display_data"
        },
        {
          "data": {
            "text/html": [
              " View sweep at <a href='https://wandb.ai/ge23m018/dl_ge23m18/sweeps/m9wnq4zl' target=\"_blank\">https://wandb.ai/ge23m018/dl_ge23m18/sweeps/m9wnq4zl</a>"
            ],
            "text/plain": [
              "<IPython.core.display.HTML object>"
            ]
          },
          "metadata": {},
          "output_type": "display_data"
        },
        {
          "data": {
            "text/html": [
              " View run at <a href='https://wandb.ai/ge23m018/dl_ge23m18/runs/tmci7i02' target=\"_blank\">https://wandb.ai/ge23m018/dl_ge23m18/runs/tmci7i02</a>"
            ],
            "text/plain": [
              "<IPython.core.display.HTML object>"
            ]
          },
          "metadata": {},
          "output_type": "display_data"
        },
        {
          "name": "stdout",
          "output_type": "stream",
          "text": [
            "train_path /home/ge22m009/inaturalist_12K/train/\n",
            "test_path /home/ge22m009/inaturalist_12K/val/\n",
            "Training dataset count :  9999\n",
            "Validation dataset count 2000\n",
            "Training the Model...\n",
            "Epochs : 1 Train Accuracy : 0.17471747174717472 Train Loss 0.034834164227827966\n",
            "Epochs : 1 Validation Accuracy : 0.2255 Validation Loss 0.13343288326263428\n",
            "Epochs : 2 Train Accuracy : 0.25982598259825984 Train Loss 0.03228950539831281\n",
            "Epochs : 2 Validation Accuracy : 0.2735 Validation Loss 0.12642330676317215\n",
            "Epochs : 3 Train Accuracy : 0.2901290129012901 Train Loss 0.03110820232051434\n",
            "Epochs : 3 Validation Accuracy : 0.3025 Validation Loss 0.12301554757356643\n",
            "Epochs : 4 Train Accuracy : 0.3049304930493049 Train Loss 0.030286617905679422\n",
            "Epochs : 4 Validation Accuracy : 0.3055 Validation Loss 0.12282584631443023\n",
            "Epochs : 5 Train Accuracy : 0.31923192319231924 Train Loss 0.029787657367955425\n",
            "Epochs : 5 Validation Accuracy : 0.295 Validation Loss 0.12276967757940292\n",
            "Epochs : 6 Train Accuracy : 0.32873287328732875 Train Loss 0.029549353300827672\n",
            "Epochs : 6 Validation Accuracy : 0.3165 Validation Loss 0.11987859255075455\n",
            "Epochs : 7 Train Accuracy : 0.34093409340934094 Train Loss 0.02911098930451593\n",
            "Epochs : 7 Validation Accuracy : 0.313 Validation Loss 0.11974604719877244\n",
            "Epochs : 8 Train Accuracy : 0.3511351135113511 Train Loss 0.028744817555028206\n",
            "Epochs : 8 Validation Accuracy : 0.3295 Validation Loss 0.1187789820432663\n",
            "Epochs : 9 Train Accuracy : 0.3544354435443544 Train Loss 0.028479821348872253\n",
            "Epochs : 9 Validation Accuracy : 0.3165 Validation Loss 0.11955257588624954\n",
            "Epochs : 10 Train Accuracy : 0.3574357435743574 Train Loss 0.028268918012044276\n",
            "Epochs : 10 Validation Accuracy : 0.349 Validation Loss 0.11617246270179749\n",
            "Training Finished !!\n"
          ]
        },
        {
          "data": {
            "application/vnd.jupyter.widget-view+json": {
              "model_id": "cc12830b07644b18a9442f4f52d69348",
              "version_major": 2,
              "version_minor": 0
            },
            "text/plain": [
              "VBox(children=(Label(value='0.002 MB of 0.002 MB uploaded\\r'), FloatProgress(value=1.0, max=1.0)))"
            ]
          },
          "metadata": {},
          "output_type": "display_data"
        },
        {
          "data": {
            "text/html": [
              "<style>\n",
              "    table.wandb td:nth-child(1) { padding: 0 10px; text-align: left ; width: auto;} td:nth-child(2) {text-align: left ; width: 100%}\n",
              "    .wandb-row { display: flex; flex-direction: row; flex-wrap: wrap; justify-content: flex-start; width: 100% }\n",
              "    .wandb-col { display: flex; flex-direction: column; flex-basis: 100%; flex: 1; padding: 10px; }\n",
              "    </style>\n",
              "<div class=\"wandb-row\"><div class=\"wandb-col\"><h3>Run history:</h3><br/><table class=\"wandb\"><tr><td>train_accuracy</td><td>▁▄▅▆▇▇▇███</td></tr><tr><td>train_loss</td><td>█▅▄▃▃▂▂▂▁▁</td></tr><tr><td>val_accuracy</td><td>▁▄▅▆▅▆▆▇▆█</td></tr><tr><td>val_error</td><td>█▅▄▄▄▃▂▂▂▁</td></tr></table><br/></div><div class=\"wandb-col\"><h3>Run summary:</h3><br/><table class=\"wandb\"><tr><td>train_accuracy</td><td>0.35744</td></tr><tr><td>train_loss</td><td>0.02827</td></tr><tr><td>val_accuracy</td><td>0.349</td></tr><tr><td>val_error</td><td>0.11617</td></tr></table><br/></div></div>"
            ],
            "text/plain": [
              "<IPython.core.display.HTML object>"
            ]
          },
          "metadata": {},
          "output_type": "display_data"
        },
        {
          "data": {
            "text/html": [
              " View run <strong style=\"color:#cdcd00\">volcanic-sweep-18</strong> at: <a href='https://wandb.ai/ge23m018/dl_ge23m18/runs/tmci7i02' target=\"_blank\">https://wandb.ai/ge23m018/dl_ge23m18/runs/tmci7i02</a><br/> View project at: <a href='https://wandb.ai/ge23m018/dl_ge23m18' target=\"_blank\">https://wandb.ai/ge23m018/dl_ge23m18</a><br/>Synced 6 W&B file(s), 0 media file(s), 0 artifact file(s) and 0 other file(s)"
            ],
            "text/plain": [
              "<IPython.core.display.HTML object>"
            ]
          },
          "metadata": {},
          "output_type": "display_data"
        },
        {
          "data": {
            "text/html": [
              "Find logs at: <code>./wandb/run-20240409_211049-tmci7i02/logs</code>"
            ],
            "text/plain": [
              "<IPython.core.display.HTML object>"
            ]
          },
          "metadata": {},
          "output_type": "display_data"
        },
        {
          "name": "stderr",
          "output_type": "stream",
          "text": [
            "\u001b[34m\u001b[1mwandb\u001b[0m: Agent Starting Run: yobipmrq with config:\n",
            "\u001b[34m\u001b[1mwandb\u001b[0m: \tactivation_func: Mish\n",
            "\u001b[34m\u001b[1mwandb\u001b[0m: \tdropout_factor: 0\n",
            "\u001b[34m\u001b[1mwandb\u001b[0m: \tepochs: 10\n",
            "\u001b[34m\u001b[1mwandb\u001b[0m: \tfilter_factor: 0.5\n",
            "\u001b[34m\u001b[1mwandb\u001b[0m: \tnum_filters: 64\n",
            "\u001b[34m\u001b[1mwandb\u001b[0m: \u001b[33mWARNING\u001b[0m Ignored wandb.init() arg project when running a sweep.\n"
          ]
        },
        {
          "data": {
            "text/html": [
              "Tracking run with wandb version 0.16.6"
            ],
            "text/plain": [
              "<IPython.core.display.HTML object>"
            ]
          },
          "metadata": {},
          "output_type": "display_data"
        },
        {
          "data": {
            "text/html": [
              "Run data is saved locally in <code>/home/ge22m009/Abdul/wandb/run-20240409_212934-yobipmrq</code>"
            ],
            "text/plain": [
              "<IPython.core.display.HTML object>"
            ]
          },
          "metadata": {},
          "output_type": "display_data"
        },
        {
          "data": {
            "text/html": [
              "Syncing run <strong><a href='https://wandb.ai/ge23m018/dl_ge23m18/runs/yobipmrq' target=\"_blank\">expert-sweep-19</a></strong> to <a href='https://wandb.ai/ge23m018/dl_ge23m18' target=\"_blank\">Weights & Biases</a> (<a href='https://wandb.me/run' target=\"_blank\">docs</a>)<br/>Sweep page: <a href='https://wandb.ai/ge23m018/dl_ge23m18/sweeps/m9wnq4zl' target=\"_blank\">https://wandb.ai/ge23m018/dl_ge23m18/sweeps/m9wnq4zl</a>"
            ],
            "text/plain": [
              "<IPython.core.display.HTML object>"
            ]
          },
          "metadata": {},
          "output_type": "display_data"
        },
        {
          "data": {
            "text/html": [
              " View project at <a href='https://wandb.ai/ge23m018/dl_ge23m18' target=\"_blank\">https://wandb.ai/ge23m018/dl_ge23m18</a>"
            ],
            "text/plain": [
              "<IPython.core.display.HTML object>"
            ]
          },
          "metadata": {},
          "output_type": "display_data"
        },
        {
          "data": {
            "text/html": [
              " View sweep at <a href='https://wandb.ai/ge23m018/dl_ge23m18/sweeps/m9wnq4zl' target=\"_blank\">https://wandb.ai/ge23m018/dl_ge23m18/sweeps/m9wnq4zl</a>"
            ],
            "text/plain": [
              "<IPython.core.display.HTML object>"
            ]
          },
          "metadata": {},
          "output_type": "display_data"
        },
        {
          "data": {
            "text/html": [
              " View run at <a href='https://wandb.ai/ge23m018/dl_ge23m18/runs/yobipmrq' target=\"_blank\">https://wandb.ai/ge23m018/dl_ge23m18/runs/yobipmrq</a>"
            ],
            "text/plain": [
              "<IPython.core.display.HTML object>"
            ]
          },
          "metadata": {},
          "output_type": "display_data"
        },
        {
          "name": "stdout",
          "output_type": "stream",
          "text": [
            "train_path /home/ge22m009/inaturalist_12K/train/\n",
            "test_path /home/ge22m009/inaturalist_12K/val/\n",
            "Training dataset count :  9999\n",
            "Validation dataset count 2000\n",
            "Training the Model...\n",
            "Epochs : 1 Train Accuracy : 0.17621762176217623 Train Loss 0.034692809681663966\n",
            "Epochs : 1 Validation Accuracy : 0.203 Validation Loss 0.1329374651312828\n",
            "Epochs : 2 Train Accuracy : 0.2526252625262526 Train Loss 0.03245684947713826\n",
            "Epochs : 2 Validation Accuracy : 0.2675 Validation Loss 0.12667563724517822\n",
            "Epochs : 3 Train Accuracy : 0.2905290529052905 Train Loss 0.03112780315802805\n",
            "Epochs : 3 Validation Accuracy : 0.303 Validation Loss 0.12284363090991973\n",
            "Epochs : 4 Train Accuracy : 0.3132313231323132 Train Loss 0.030336680978831677\n",
            "Epochs : 4 Validation Accuracy : 0.3175 Validation Loss 0.12022172379493713\n",
            "Epochs : 5 Train Accuracy : 0.3254325432543254 Train Loss 0.029725914908022937\n",
            "Epochs : 5 Validation Accuracy : 0.3335 Validation Loss 0.11699575489759445\n",
            "Epochs : 6 Train Accuracy : 0.33363336333633364 Train Loss 0.02938484599535698\n",
            "Epochs : 6 Validation Accuracy : 0.345 Validation Loss 0.11664340823888779\n",
            "Epochs : 7 Train Accuracy : 0.3475347534753475 Train Loss 0.02889725941159103\n",
            "Epochs : 7 Validation Accuracy : 0.325 Validation Loss 0.11713975834846496\n",
            "Epochs : 8 Train Accuracy : 0.3477347734773477 Train Loss 0.028736777455344868\n",
            "Epochs : 8 Validation Accuracy : 0.3415 Validation Loss 0.11502036052942276\n",
            "Epochs : 9 Train Accuracy : 0.35753575357535755 Train Loss 0.028449024208928003\n",
            "Epochs : 9 Validation Accuracy : 0.3395 Validation Loss 0.11539371716976166\n",
            "Epochs : 10 Train Accuracy : 0.36143614361436144 Train Loss 0.028132366709666724\n",
            "Epochs : 10 Validation Accuracy : 0.357 Validation Loss 0.11575358211994172\n",
            "Training Finished !!\n"
          ]
        },
        {
          "data": {
            "application/vnd.jupyter.widget-view+json": {
              "model_id": "a782fb5dbdae42829fe406cbc0f5365c",
              "version_major": 2,
              "version_minor": 0
            },
            "text/plain": [
              "VBox(children=(Label(value='0.002 MB of 0.002 MB uploaded\\r'), FloatProgress(value=1.0, max=1.0)))"
            ]
          },
          "metadata": {},
          "output_type": "display_data"
        },
        {
          "data": {
            "text/html": [
              "<style>\n",
              "    table.wandb td:nth-child(1) { padding: 0 10px; text-align: left ; width: auto;} td:nth-child(2) {text-align: left ; width: 100%}\n",
              "    .wandb-row { display: flex; flex-direction: row; flex-wrap: wrap; justify-content: flex-start; width: 100% }\n",
              "    .wandb-col { display: flex; flex-direction: column; flex-basis: 100%; flex: 1; padding: 10px; }\n",
              "    </style>\n",
              "<div class=\"wandb-row\"><div class=\"wandb-col\"><h3>Run history:</h3><br/><table class=\"wandb\"><tr><td>train_accuracy</td><td>▁▄▅▆▇▇▇▇██</td></tr><tr><td>train_loss</td><td>█▆▄▃▃▂▂▂▁▁</td></tr><tr><td>val_accuracy</td><td>▁▄▆▆▇▇▇▇▇█</td></tr><tr><td>val_error</td><td>█▆▄▃▂▂▂▁▁▁</td></tr></table><br/></div><div class=\"wandb-col\"><h3>Run summary:</h3><br/><table class=\"wandb\"><tr><td>train_accuracy</td><td>0.36144</td></tr><tr><td>train_loss</td><td>0.02813</td></tr><tr><td>val_accuracy</td><td>0.357</td></tr><tr><td>val_error</td><td>0.11575</td></tr></table><br/></div></div>"
            ],
            "text/plain": [
              "<IPython.core.display.HTML object>"
            ]
          },
          "metadata": {},
          "output_type": "display_data"
        },
        {
          "data": {
            "text/html": [
              " View run <strong style=\"color:#cdcd00\">expert-sweep-19</strong> at: <a href='https://wandb.ai/ge23m018/dl_ge23m18/runs/yobipmrq' target=\"_blank\">https://wandb.ai/ge23m018/dl_ge23m18/runs/yobipmrq</a><br/> View project at: <a href='https://wandb.ai/ge23m018/dl_ge23m18' target=\"_blank\">https://wandb.ai/ge23m018/dl_ge23m18</a><br/>Synced 6 W&B file(s), 0 media file(s), 0 artifact file(s) and 0 other file(s)"
            ],
            "text/plain": [
              "<IPython.core.display.HTML object>"
            ]
          },
          "metadata": {},
          "output_type": "display_data"
        },
        {
          "data": {
            "text/html": [
              "Find logs at: <code>./wandb/run-20240409_212934-yobipmrq/logs</code>"
            ],
            "text/plain": [
              "<IPython.core.display.HTML object>"
            ]
          },
          "metadata": {},
          "output_type": "display_data"
        },
        {
          "name": "stderr",
          "output_type": "stream",
          "text": [
            "\u001b[34m\u001b[1mwandb\u001b[0m: Agent Starting Run: i5gtfn2y with config:\n",
            "\u001b[34m\u001b[1mwandb\u001b[0m: \tactivation_func: Mish\n",
            "\u001b[34m\u001b[1mwandb\u001b[0m: \tdropout_factor: 0\n",
            "\u001b[34m\u001b[1mwandb\u001b[0m: \tepochs: 10\n",
            "\u001b[34m\u001b[1mwandb\u001b[0m: \tfilter_factor: 0.5\n",
            "\u001b[34m\u001b[1mwandb\u001b[0m: \tnum_filters: 64\n",
            "\u001b[34m\u001b[1mwandb\u001b[0m: \u001b[33mWARNING\u001b[0m Ignored wandb.init() arg project when running a sweep.\n"
          ]
        },
        {
          "data": {
            "text/html": [
              "Tracking run with wandb version 0.16.6"
            ],
            "text/plain": [
              "<IPython.core.display.HTML object>"
            ]
          },
          "metadata": {},
          "output_type": "display_data"
        },
        {
          "data": {
            "text/html": [
              "Run data is saved locally in <code>/home/ge22m009/Abdul/wandb/run-20240409_214850-i5gtfn2y</code>"
            ],
            "text/plain": [
              "<IPython.core.display.HTML object>"
            ]
          },
          "metadata": {},
          "output_type": "display_data"
        },
        {
          "data": {
            "text/html": [
              "Syncing run <strong><a href='https://wandb.ai/ge23m018/dl_ge23m18/runs/i5gtfn2y' target=\"_blank\">vocal-sweep-20</a></strong> to <a href='https://wandb.ai/ge23m018/dl_ge23m18' target=\"_blank\">Weights & Biases</a> (<a href='https://wandb.me/run' target=\"_blank\">docs</a>)<br/>Sweep page: <a href='https://wandb.ai/ge23m018/dl_ge23m18/sweeps/m9wnq4zl' target=\"_blank\">https://wandb.ai/ge23m018/dl_ge23m18/sweeps/m9wnq4zl</a>"
            ],
            "text/plain": [
              "<IPython.core.display.HTML object>"
            ]
          },
          "metadata": {},
          "output_type": "display_data"
        },
        {
          "data": {
            "text/html": [
              " View project at <a href='https://wandb.ai/ge23m018/dl_ge23m18' target=\"_blank\">https://wandb.ai/ge23m018/dl_ge23m18</a>"
            ],
            "text/plain": [
              "<IPython.core.display.HTML object>"
            ]
          },
          "metadata": {},
          "output_type": "display_data"
        },
        {
          "data": {
            "text/html": [
              " View sweep at <a href='https://wandb.ai/ge23m018/dl_ge23m18/sweeps/m9wnq4zl' target=\"_blank\">https://wandb.ai/ge23m018/dl_ge23m18/sweeps/m9wnq4zl</a>"
            ],
            "text/plain": [
              "<IPython.core.display.HTML object>"
            ]
          },
          "metadata": {},
          "output_type": "display_data"
        },
        {
          "data": {
            "text/html": [
              " View run at <a href='https://wandb.ai/ge23m018/dl_ge23m18/runs/i5gtfn2y' target=\"_blank\">https://wandb.ai/ge23m018/dl_ge23m18/runs/i5gtfn2y</a>"
            ],
            "text/plain": [
              "<IPython.core.display.HTML object>"
            ]
          },
          "metadata": {},
          "output_type": "display_data"
        },
        {
          "name": "stdout",
          "output_type": "stream",
          "text": [
            "train_path /home/ge22m009/inaturalist_12K/train/\n",
            "test_path /home/ge22m009/inaturalist_12K/val/\n",
            "Training dataset count :  9999\n",
            "Validation dataset count 2000\n",
            "Training the Model...\n",
            "Epochs : 1 Train Accuracy : 0.1848184818481848 Train Loss 0.034546368741335806\n",
            "Epochs : 1 Validation Accuracy : 0.246 Validation Loss 0.13185338360071183\n",
            "Epochs : 2 Train Accuracy : 0.26712671267126714 Train Loss 0.031832992726534004\n",
            "Epochs : 2 Validation Accuracy : 0.272 Validation Loss 0.12796977680921554\n",
            "Epochs : 3 Train Accuracy : 0.296029602960296 Train Loss 0.030884710940519252\n",
            "Epochs : 3 Validation Accuracy : 0.2855 Validation Loss 0.12388151651620864\n",
            "Epochs : 4 Train Accuracy : 0.3086308630863086 Train Loss 0.030373119404225577\n",
            "Epochs : 4 Validation Accuracy : 0.3035 Validation Loss 0.12207413518428803\n",
            "Epochs : 5 Train Accuracy : 0.3179317931793179 Train Loss 0.030020899695865584\n",
            "Epochs : 5 Validation Accuracy : 0.3125 Validation Loss 0.12139430749416351\n",
            "Epochs : 6 Train Accuracy : 0.33033303330333036 Train Loss 0.029599485808413605\n",
            "Epochs : 6 Validation Accuracy : 0.3315 Validation Loss 0.11930660927295685\n",
            "Epochs : 7 Train Accuracy : 0.3345334533453345 Train Loss 0.029344578756905996\n",
            "Epochs : 7 Validation Accuracy : 0.31 Validation Loss 0.12068217694759369\n",
            "Epochs : 8 Train Accuracy : 0.34483448344834483 Train Loss 0.02910009427408729\n",
            "Epochs : 8 Validation Accuracy : 0.328 Validation Loss 0.11976920992136002\n",
            "Epochs : 9 Train Accuracy : 0.34683468346834684 Train Loss 0.028810279466400315\n",
            "Epochs : 9 Validation Accuracy : 0.3165 Validation Loss 0.11934705239534378\n",
            "Epochs : 10 Train Accuracy : 0.35293529352935293 Train Loss 0.028698481587317363\n",
            "Epochs : 10 Validation Accuracy : 0.34 Validation Loss 0.1176842110157013\n",
            "Training Finished !!\n"
          ]
        },
        {
          "data": {
            "application/vnd.jupyter.widget-view+json": {
              "model_id": "2f2ba7456a4a47fd9e0e4d6f97f0abe9",
              "version_major": 2,
              "version_minor": 0
            },
            "text/plain": [
              "VBox(children=(Label(value='0.002 MB of 0.003 MB uploaded\\r'), FloatProgress(value=0.7465368775739424, max=1.0…"
            ]
          },
          "metadata": {},
          "output_type": "display_data"
        },
        {
          "data": {
            "text/html": [
              "<style>\n",
              "    table.wandb td:nth-child(1) { padding: 0 10px; text-align: left ; width: auto;} td:nth-child(2) {text-align: left ; width: 100%}\n",
              "    .wandb-row { display: flex; flex-direction: row; flex-wrap: wrap; justify-content: flex-start; width: 100% }\n",
              "    .wandb-col { display: flex; flex-direction: column; flex-basis: 100%; flex: 1; padding: 10px; }\n",
              "    </style>\n",
              "<div class=\"wandb-row\"><div class=\"wandb-col\"><h3>Run history:</h3><br/><table class=\"wandb\"><tr><td>train_accuracy</td><td>▁▄▆▆▇▇▇███</td></tr><tr><td>train_loss</td><td>█▅▄▃▃▂▂▁▁▁</td></tr><tr><td>val_accuracy</td><td>▁▃▄▅▆▇▆▇▆█</td></tr><tr><td>val_error</td><td>█▆▄▃▃▂▂▂▂▁</td></tr></table><br/></div><div class=\"wandb-col\"><h3>Run summary:</h3><br/><table class=\"wandb\"><tr><td>train_accuracy</td><td>0.35294</td></tr><tr><td>train_loss</td><td>0.0287</td></tr><tr><td>val_accuracy</td><td>0.34</td></tr><tr><td>val_error</td><td>0.11768</td></tr></table><br/></div></div>"
            ],
            "text/plain": [
              "<IPython.core.display.HTML object>"
            ]
          },
          "metadata": {},
          "output_type": "display_data"
        },
        {
          "data": {
            "text/html": [
              " View run <strong style=\"color:#cdcd00\">vocal-sweep-20</strong> at: <a href='https://wandb.ai/ge23m018/dl_ge23m18/runs/i5gtfn2y' target=\"_blank\">https://wandb.ai/ge23m018/dl_ge23m18/runs/i5gtfn2y</a><br/> View project at: <a href='https://wandb.ai/ge23m018/dl_ge23m18' target=\"_blank\">https://wandb.ai/ge23m018/dl_ge23m18</a><br/>Synced 6 W&B file(s), 0 media file(s), 0 artifact file(s) and 0 other file(s)"
            ],
            "text/plain": [
              "<IPython.core.display.HTML object>"
            ]
          },
          "metadata": {},
          "output_type": "display_data"
        },
        {
          "data": {
            "text/html": [
              "Find logs at: <code>./wandb/run-20240409_214850-i5gtfn2y/logs</code>"
            ],
            "text/plain": [
              "<IPython.core.display.HTML object>"
            ]
          },
          "metadata": {},
          "output_type": "display_data"
        },
        {
          "name": "stderr",
          "output_type": "stream",
          "text": [
            "\u001b[34m\u001b[1mwandb\u001b[0m: Agent Starting Run: q0abtas3 with config:\n",
            "\u001b[34m\u001b[1mwandb\u001b[0m: \tactivation_func: Mish\n",
            "\u001b[34m\u001b[1mwandb\u001b[0m: \tdropout_factor: 0\n",
            "\u001b[34m\u001b[1mwandb\u001b[0m: \tepochs: 10\n",
            "\u001b[34m\u001b[1mwandb\u001b[0m: \tfilter_factor: 0.5\n",
            "\u001b[34m\u001b[1mwandb\u001b[0m: \tnum_filters: 64\n",
            "\u001b[34m\u001b[1mwandb\u001b[0m: \u001b[33mWARNING\u001b[0m Ignored wandb.init() arg project when running a sweep.\n"
          ]
        },
        {
          "data": {
            "text/html": [
              "Tracking run with wandb version 0.16.6"
            ],
            "text/plain": [
              "<IPython.core.display.HTML object>"
            ]
          },
          "metadata": {},
          "output_type": "display_data"
        },
        {
          "data": {
            "text/html": [
              "Run data is saved locally in <code>/home/ge22m009/Abdul/wandb/run-20240409_220750-q0abtas3</code>"
            ],
            "text/plain": [
              "<IPython.core.display.HTML object>"
            ]
          },
          "metadata": {},
          "output_type": "display_data"
        },
        {
          "data": {
            "text/html": [
              "Syncing run <strong><a href='https://wandb.ai/ge23m018/dl_ge23m18/runs/q0abtas3' target=\"_blank\">northern-sweep-21</a></strong> to <a href='https://wandb.ai/ge23m018/dl_ge23m18' target=\"_blank\">Weights & Biases</a> (<a href='https://wandb.me/run' target=\"_blank\">docs</a>)<br/>Sweep page: <a href='https://wandb.ai/ge23m018/dl_ge23m18/sweeps/m9wnq4zl' target=\"_blank\">https://wandb.ai/ge23m018/dl_ge23m18/sweeps/m9wnq4zl</a>"
            ],
            "text/plain": [
              "<IPython.core.display.HTML object>"
            ]
          },
          "metadata": {},
          "output_type": "display_data"
        },
        {
          "data": {
            "text/html": [
              " View project at <a href='https://wandb.ai/ge23m018/dl_ge23m18' target=\"_blank\">https://wandb.ai/ge23m018/dl_ge23m18</a>"
            ],
            "text/plain": [
              "<IPython.core.display.HTML object>"
            ]
          },
          "metadata": {},
          "output_type": "display_data"
        },
        {
          "data": {
            "text/html": [
              " View sweep at <a href='https://wandb.ai/ge23m018/dl_ge23m18/sweeps/m9wnq4zl' target=\"_blank\">https://wandb.ai/ge23m018/dl_ge23m18/sweeps/m9wnq4zl</a>"
            ],
            "text/plain": [
              "<IPython.core.display.HTML object>"
            ]
          },
          "metadata": {},
          "output_type": "display_data"
        },
        {
          "data": {
            "text/html": [
              " View run at <a href='https://wandb.ai/ge23m018/dl_ge23m18/runs/q0abtas3' target=\"_blank\">https://wandb.ai/ge23m018/dl_ge23m18/runs/q0abtas3</a>"
            ],
            "text/plain": [
              "<IPython.core.display.HTML object>"
            ]
          },
          "metadata": {},
          "output_type": "display_data"
        },
        {
          "name": "stdout",
          "output_type": "stream",
          "text": [
            "train_path /home/ge22m009/inaturalist_12K/train/\n",
            "test_path /home/ge22m009/inaturalist_12K/val/\n",
            "Training dataset count :  9999\n",
            "Validation dataset count 2000\n",
            "Training the Model...\n",
            "Epochs : 1 Train Accuracy : 0.17641764176417643 Train Loss 0.03462775053531125\n",
            "Epochs : 1 Validation Accuracy : 0.2165 Validation Loss 0.1326683611869812\n",
            "Epochs : 2 Train Accuracy : 0.2538253825382538 Train Loss 0.03229768495104744\n",
            "Epochs : 2 Validation Accuracy : 0.2505 Validation Loss 0.12780801022052765\n",
            "Epochs : 3 Train Accuracy : 0.2836283628362836 Train Loss 0.031388811569641156\n",
            "Epochs : 3 Validation Accuracy : 0.291 Validation Loss 0.12483191096782684\n",
            "Epochs : 4 Train Accuracy : 0.2936293629362936 Train Loss 0.03071286716703439\n",
            "Epochs : 4 Validation Accuracy : 0.291 Validation Loss 0.12374093705415726\n",
            "Epochs : 5 Train Accuracy : 0.3144314431443144 Train Loss 0.030161394156364336\n",
            "Epochs : 5 Validation Accuracy : 0.314 Validation Loss 0.1211233177781105\n",
            "Epochs : 6 Train Accuracy : 0.3219321932193219 Train Loss 0.029636207682238257\n",
            "Epochs : 6 Validation Accuracy : 0.315 Validation Loss 0.11954242902994155\n",
            "Epochs : 7 Train Accuracy : 0.34513451345134516 Train Loss 0.029324241907242025\n",
            "Epochs : 7 Validation Accuracy : 0.3105 Validation Loss 0.12240730798244476\n",
            "Epochs : 8 Train Accuracy : 0.34743474347434744 Train Loss 0.02899272993381339\n",
            "Epochs : 8 Validation Accuracy : 0.3355 Validation Loss 0.11783055800199509\n",
            "Epochs : 9 Train Accuracy : 0.358035803580358 Train Loss 0.028602749493756595\n",
            "Epochs : 9 Validation Accuracy : 0.329 Validation Loss 0.11702253699302673\n",
            "Epochs : 10 Train Accuracy : 0.3647364736473647 Train Loss 0.02850861449946951\n",
            "Epochs : 10 Validation Accuracy : 0.34 Validation Loss 0.11722263514995575\n",
            "Training Finished !!\n"
          ]
        },
        {
          "data": {
            "application/vnd.jupyter.widget-view+json": {
              "model_id": "731d225730bb4925ba0dcc08619a104e",
              "version_major": 2,
              "version_minor": 0
            },
            "text/plain": [
              "VBox(children=(Label(value='0.002 MB of 0.002 MB uploaded\\r'), FloatProgress(value=1.0, max=1.0)))"
            ]
          },
          "metadata": {},
          "output_type": "display_data"
        },
        {
          "data": {
            "text/html": [
              "<style>\n",
              "    table.wandb td:nth-child(1) { padding: 0 10px; text-align: left ; width: auto;} td:nth-child(2) {text-align: left ; width: 100%}\n",
              "    .wandb-row { display: flex; flex-direction: row; flex-wrap: wrap; justify-content: flex-start; width: 100% }\n",
              "    .wandb-col { display: flex; flex-direction: column; flex-basis: 100%; flex: 1; padding: 10px; }\n",
              "    </style>\n",
              "<div class=\"wandb-row\"><div class=\"wandb-col\"><h3>Run history:</h3><br/><table class=\"wandb\"><tr><td>train_accuracy</td><td>▁▄▅▅▆▆▇▇██</td></tr><tr><td>train_loss</td><td>█▅▄▄▃▂▂▂▁▁</td></tr><tr><td>val_accuracy</td><td>▁▃▅▅▇▇▆█▇█</td></tr><tr><td>val_error</td><td>█▆▄▄▃▂▃▁▁▁</td></tr></table><br/></div><div class=\"wandb-col\"><h3>Run summary:</h3><br/><table class=\"wandb\"><tr><td>train_accuracy</td><td>0.36474</td></tr><tr><td>train_loss</td><td>0.02851</td></tr><tr><td>val_accuracy</td><td>0.34</td></tr><tr><td>val_error</td><td>0.11722</td></tr></table><br/></div></div>"
            ],
            "text/plain": [
              "<IPython.core.display.HTML object>"
            ]
          },
          "metadata": {},
          "output_type": "display_data"
        },
        {
          "data": {
            "text/html": [
              " View run <strong style=\"color:#cdcd00\">northern-sweep-21</strong> at: <a href='https://wandb.ai/ge23m018/dl_ge23m18/runs/q0abtas3' target=\"_blank\">https://wandb.ai/ge23m018/dl_ge23m18/runs/q0abtas3</a><br/> View project at: <a href='https://wandb.ai/ge23m018/dl_ge23m18' target=\"_blank\">https://wandb.ai/ge23m018/dl_ge23m18</a><br/>Synced 6 W&B file(s), 0 media file(s), 0 artifact file(s) and 0 other file(s)"
            ],
            "text/plain": [
              "<IPython.core.display.HTML object>"
            ]
          },
          "metadata": {},
          "output_type": "display_data"
        },
        {
          "data": {
            "text/html": [
              "Find logs at: <code>./wandb/run-20240409_220750-q0abtas3/logs</code>"
            ],
            "text/plain": [
              "<IPython.core.display.HTML object>"
            ]
          },
          "metadata": {},
          "output_type": "display_data"
        },
        {
          "name": "stderr",
          "output_type": "stream",
          "text": [
            "\u001b[34m\u001b[1mwandb\u001b[0m: Sweep Agent: Waiting for job.\n",
            "\u001b[34m\u001b[1mwandb\u001b[0m: Sweep Agent: Exiting.\n"
          ]
        }
      ],
      "source": [
        "wandb.agent(sweep_id, function=run_sweep)"
      ]
    },
    {
      "cell_type": "markdown",
      "metadata": {
        "id": "brF8kxANtX0P"
      },
      "source": [
        "## Run Without sweep"
      ]
    },
    {
      "cell_type": "code",
      "execution_count": null,
      "metadata": {
        "execution": {
          "iopub.execute_input": "2023-04-11T21:17:36.225880Z",
          "iopub.status.busy": "2023-04-11T21:17:36.225520Z",
          "iopub.status.idle": "2023-04-11T21:17:49.683944Z",
          "shell.execute_reply": "2023-04-11T21:17:49.682705Z",
          "shell.execute_reply.started": "2023-04-11T21:17:36.225851Z"
        },
        "trusted": true,
        "id": "_9lbvXdrtX0Q",
        "outputId": "35e24a4a-4e69-4996-8033-ee4fa67bc301"
      },
      "outputs": [
        {
          "name": "stdout",
          "output_type": "stream",
          "text": [
            "train_path /home/ge22m009/inaturalist_12K/train/\n",
            "test_path /home/ge22m009/inaturalist_12K/val/\n",
            "Training dataset count :  9999\n",
            "Validation dataset count 2000\n",
            "Training the Model...\n",
            "Epochs : 1 Train Accuracy : 0.19041904190419043 Train Loss 0.034574953445566575\n",
            "Epochs : 1 Validation Accuracy : 0.2735 Validation Loss 0.1282467455267906\n",
            "Epochs : 2 Train Accuracy : 0.24972497249724973 Train Loss 0.032914484318571934\n",
            "Epochs : 2 Validation Accuracy : 0.287 Validation Loss 0.12547618907690047\n",
            "Epochs : 3 Train Accuracy : 0.2634263426342634 Train Loss 0.03225637914085522\n",
            "Epochs : 3 Validation Accuracy : 0.3055 Validation Loss 0.12193633139133453\n",
            "Epochs : 4 Train Accuracy : 0.28152815281528154 Train Loss 0.03163011890254577\n",
            "Epochs : 4 Validation Accuracy : 0.325 Validation Loss 0.11930974096059799\n",
            "Epochs : 5 Train Accuracy : 0.29262926292629265 Train Loss 0.03127662439753573\n",
            "Epochs : 5 Validation Accuracy : 0.34 Validation Loss 0.11682473808526993\n",
            "Epochs : 6 Train Accuracy : 0.30183018301830183 Train Loss 0.030689560421610702\n",
            "Epochs : 6 Validation Accuracy : 0.3265 Validation Loss 0.11850738686323166\n",
            "Epochs : 7 Train Accuracy : 0.31173117311731174 Train Loss 0.03044516111042562\n",
            "Epochs : 7 Validation Accuracy : 0.349 Validation Loss 0.1145354278087616\n",
            "Epochs : 8 Train Accuracy : 0.31983198319831985 Train Loss 0.03014877200400857\n",
            "Epochs : 8 Validation Accuracy : 0.356 Validation Loss 0.11408566921949387\n",
            "Epochs : 9 Train Accuracy : 0.33203320332033204 Train Loss 0.0294882511899452\n",
            "Epochs : 9 Validation Accuracy : 0.36 Validation Loss 0.11301183879375458\n",
            "Epochs : 10 Train Accuracy : 0.33683368336833686 Train Loss 0.029381509732813796\n",
            "Epochs : 10 Validation Accuracy : 0.382 Validation Loss 0.11295493119955063\n",
            "Training Finished !!\n"
          ]
        },
        {
          "data": {
            "text/plain": [
              "create_lenet(\n",
              "  (conv1): Conv2d(3, 32, kernel_size=(3, 3), stride=(1, 1))\n",
              "  (actfunc1): Mish()\n",
              "  (maxpool1): MaxPool2d(kernel_size=3, stride=2, padding=0, dilation=1, ceil_mode=False)\n",
              "  (conv2): Conv2d(32, 32, kernel_size=(3, 3), stride=(1, 1))\n",
              "  (actfunc2): Mish()\n",
              "  (maxpool2): MaxPool2d(kernel_size=3, stride=(2, 2), padding=0, dilation=1, ceil_mode=False)\n",
              "  (conv3): Conv2d(32, 32, kernel_size=(3, 3), stride=(1, 1))\n",
              "  (actfunc3): Mish()\n",
              "  (maxpool3): MaxPool2d(kernel_size=3, stride=2, padding=0, dilation=1, ceil_mode=False)\n",
              "  (conv4): Conv2d(32, 32, kernel_size=(3, 3), stride=(1, 1))\n",
              "  (actfunc4): Mish()\n",
              "  (maxpool4): MaxPool2d(kernel_size=3, stride=2, padding=0, dilation=1, ceil_mode=False)\n",
              "  (conv5): Conv2d(32, 32, kernel_size=(3, 3), stride=(1, 1))\n",
              "  (actfunc5): Mish()\n",
              "  (maxpool5): MaxPool2d(kernel_size=3, stride=2, padding=0, dilation=1, ceil_mode=False)\n",
              "  (fc1): Linear(in_features=800, out_features=800, bias=True)\n",
              "  (dropp1): Dropout(p=0.3, inplace=False)\n",
              "  (fc2): Linear(in_features=800, out_features=10, bias=True)\n",
              "  (dropp2): Dropout(p=0.3, inplace=False)\n",
              "  (logSoftmax): LogSoftmax(dim=1)\n",
              ")"
            ]
          },
          "execution_count": 16,
          "metadata": {},
          "output_type": "execute_result"
        }
      ],
      "source": [
        "train_path = '/home/ge22m009/inaturalist_12K/train/'\n",
        "test_path = '/home/ge22m009/inaturalist_12K/val/'\n",
        "train_batch_size = 64\n",
        "test_batch_size = 16\n",
        "val_batch_size = 16\n",
        "num_classes = 10\n",
        "kernel_size = 3\n",
        "is_wandb_log = False\n",
        "is_data_augment=True\n",
        "num_filters = 32\n",
        "activation_func = 'Mish'\n",
        "filter_factor = 1\n",
        "learning_rate = 0.001\n",
        "epochs = 10\n",
        "dropout_factor = 0.3\n",
        "\n",
        "main(num_classes, kernel_size,  train_path, test_path, train_batch_size, val_batch_size, test_batch_size, num_filters,\n",
        "     activation_func, filter_factor, is_data_augment, learning_rate, epochs, is_wandb_log, dropout_factor)\n"
      ]
    },
    {
      "cell_type": "markdown",
      "metadata": {
        "id": "tWIRKaGHtX0Q"
      },
      "source": [
        "### Testing on the best hyperparameters"
      ]
    },
    {
      "cell_type": "code",
      "execution_count": null,
      "metadata": {
        "execution": {
          "iopub.execute_input": "2023-04-12T02:40:17.266287Z",
          "iopub.status.busy": "2023-04-12T02:40:17.265445Z"
        },
        "trusted": true,
        "id": "iguTUeFVtX0R",
        "outputId": "65b2c747-cb97-4df0-c999-2558d352bde8"
      },
      "outputs": [
        {
          "name": "stdout",
          "output_type": "stream",
          "text": [
            "train_path /home/ge22m009/inaturalist_12K/train/\n",
            "test_path /home/ge22m009/inaturalist_12K/val/\n",
            "Training dataset count :  9999\n",
            "Validation dataset count 2000\n",
            "Training the Model...\n",
            "Epochs : 1 Train Accuracy : 0.19171917191719173 Train Loss 0.03443243233176849\n",
            "Epochs : 1 Validation Accuracy : 0.269 Validation Loss 0.1300344308614731\n",
            "Epochs : 2 Train Accuracy : 0.24862486248624863 Train Loss 0.032904511380760726\n",
            "Epochs : 2 Validation Accuracy : 0.2755 Validation Loss 0.12559407448768617\n",
            "Epochs : 3 Train Accuracy : 0.2777277727772777 Train Loss 0.03193540077875204\n",
            "Epochs : 3 Validation Accuracy : 0.3165 Validation Loss 0.12300641524791718\n",
            "Epochs : 4 Train Accuracy : 0.29492949294929494 Train Loss 0.03135473657362532\n",
            "Epochs : 4 Validation Accuracy : 0.315 Validation Loss 0.12160956716537476\n",
            "Epochs : 5 Train Accuracy : 0.28802880288028804 Train Loss 0.031148259026227636\n",
            "Epochs : 5 Validation Accuracy : 0.3245 Validation Loss 0.11878633201122284\n",
            "Training Finished !!\n",
            "Testing the Model...\n",
            "Epochs : 1 Test Accuracy : 0.153 Test Loss 0.1440722063779831\n",
            "Epochs : 2 Test Accuracy : 0.153 Test Loss 0.1440722063779831\n",
            "Epochs : 3 Test Accuracy : 0.153 Test Loss 0.14407220590114594\n",
            "Epochs : 4 Test Accuracy : 0.153 Test Loss 0.1440722058415413\n",
            "Epochs : 5 Test Accuracy : 0.153 Test Loss 0.14407220554351807\n"
          ]
        }
      ],
      "source": [
        "test_path = '/home/ge22m009/inaturalist_12K/val/'\n",
        "test_batch_size = 16\n",
        "train_batch_size = 64\n",
        "val_batch_size = 16\n",
        "num_classes = 10\n",
        "is_data_augment=True\n",
        "is_wandb_log = False\n",
        "kernel_size = 3\n",
        "num_filters = 32\n",
        "activation_func = 'Mish'\n",
        "filter_factor = 1\n",
        "learning_rate = 0.001\n",
        "epochs = 5\n",
        "dropout_factor = 0.3\n",
        "\n",
        "# test(num_classes, test_path, test_batch_size , num_filters, kernel_size,  activation_func, filter_factor, learning_rate, epochs, dropout_factor)\n",
        "cnn = main(num_classes, kernel_size,  train_path, test_path, train_batch_size, val_batch_size, test_batch_size, num_filters,\n",
        "           activation_func, filter_factor, is_data_augment, learning_rate, epochs, is_wandb_log, dropout_factor)\n",
        "test(cnn, num_classes, test_path, test_batch_size , num_filters, kernel_size,\n",
        "     activation_func, filter_factor, learning_rate, epochs, dropout_factor)"
      ]
    },
    {
      "cell_type": "code",
      "execution_count": null,
      "metadata": {
        "execution": {
          "iopub.execute_input": "2023-04-12T02:17:10.929475Z",
          "iopub.status.busy": "2023-04-12T02:17:10.929001Z",
          "iopub.status.idle": "2023-04-12T02:17:11.000698Z",
          "shell.execute_reply": "2023-04-12T02:17:10.998893Z",
          "shell.execute_reply.started": "2023-04-12T02:17:10.929432Z"
        },
        "trusted": true,
        "id": "-Ok3heMBtX0R",
        "outputId": "0f51efb3-1bda-4efe-e3a2-309e7efc4866"
      },
      "outputs": [
        {
          "name": "stdout",
          "output_type": "stream",
          "text": [
            "Testing the Model...\n",
            "Epochs : 1 Test Accuracy : 0.153 Test Loss 0.14407220548391342\n",
            "Epochs : 2 Test Accuracy : 0.153 Test Loss 0.14407220566272735\n",
            "Epochs : 3 Test Accuracy : 0.153 Test Loss 0.1440722049474716\n",
            "Epochs : 4 Test Accuracy : 0.153 Test Loss 0.1440722049474716\n",
            "Epochs : 5 Test Accuracy : 0.153 Test Loss 0.14407220506668092\n"
          ]
        }
      ],
      "source": [
        "test(cnn, num_classes, test_path, test_batch_size , num_filters, kernel_size,\n",
        "     activation_func, filter_factor, learning_rate, epochs, dropout_factor)"
      ]
    }
  ],
  "metadata": {
    "kernelspec": {
      "display_name": "Python 3",
      "language": "python",
      "name": "python3"
    },
    "language_info": {
      "codemirror_mode": {
        "name": "ipython",
        "version": 3
      },
      "file_extension": ".py",
      "mimetype": "text/x-python",
      "name": "python",
      "nbconvert_exporter": "python",
      "pygments_lexer": "ipython3",
      "version": "3.12.2"
    },
    "colab": {
      "provenance": []
    }
  },
  "nbformat": 4,
  "nbformat_minor": 0
}